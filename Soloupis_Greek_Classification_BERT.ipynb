{
  "nbformat": 4,
  "nbformat_minor": 0,
  "metadata": {
    "colab": {
      "name": "Soloupis_Greek_Classification_BERT.ipynb",
      "provenance": [],
      "collapsed_sections": [],
      "toc_visible": true
    },
    "kernelspec": {
      "name": "python3",
      "display_name": "Python 3"
    },
    "language_info": {
      "name": "python"
    },
    "accelerator": "GPU"
  },
  "cells": [
    {
      "cell_type": "markdown",
      "metadata": {
        "id": "uQLp_6RGdrtw"
      },
      "source": [
        "This Colaboratory notebook shows a working workflow for **Text classification** with the [BERT](https://en.wikipedia.org/wiki/BERT_(language_model) model. It uses a [greek version ](https://huggingface.co/nlpaueb/bert-base-greek-uncased-v1) of a BERT pre-trained language model. Executing the cells one by one will give you a saved model folder that you can use later."
      ]
    },
    {
      "cell_type": "code",
      "metadata": {
        "id": "2h9ebJDQK_lC",
        "colab": {
          "base_uri": "https://localhost:8080/"
        },
        "outputId": "752cadf0-4873-4001-86f9-7e164b8428a7"
      },
      "source": [
        "#Check if a GPU is present. If not go to Edit -> Notebook settings and change it to GPU for faster results\n",
        "\n",
        "!nvidia-smi"
      ],
      "execution_count": 5,
      "outputs": [
        {
          "output_type": "stream",
          "text": [
            "Sun May 23 04:27:59 2021       \n",
            "+-----------------------------------------------------------------------------+\n",
            "| NVIDIA-SMI 465.19.01    Driver Version: 460.32.03    CUDA Version: 11.2     |\n",
            "|-------------------------------+----------------------+----------------------+\n",
            "| GPU  Name        Persistence-M| Bus-Id        Disp.A | Volatile Uncorr. ECC |\n",
            "| Fan  Temp  Perf  Pwr:Usage/Cap|         Memory-Usage | GPU-Util  Compute M. |\n",
            "|                               |                      |               MIG M. |\n",
            "|===============================+======================+======================|\n",
            "|   0  Tesla T4            Off  | 00000000:00:04.0 Off |                    0 |\n",
            "| N/A   68C    P0    30W /  70W |   1406MiB / 15109MiB |      0%      Default |\n",
            "|                               |                      |                  N/A |\n",
            "+-------------------------------+----------------------+----------------------+\n",
            "                                                                               \n",
            "+-----------------------------------------------------------------------------+\n",
            "| Processes:                                                                  |\n",
            "|  GPU   GI   CI        PID   Type   Process name                  GPU Memory |\n",
            "|        ID   ID                                                   Usage      |\n",
            "|=============================================================================|\n",
            "+-----------------------------------------------------------------------------+\n"
          ],
          "name": "stdout"
        }
      ]
    },
    {
      "cell_type": "code",
      "metadata": {
        "id": "4qdoPd6m4PjW"
      },
      "source": [
        "#Import neccessary libraries\n",
        "\n",
        "import os\n",
        "import shutil\n",
        "\n",
        "import tensorflow as tf\n",
        "import tensorflow_hub as hub\n",
        "import matplotlib.pyplot as plt\n",
        "import tensorflow.keras as K\n",
        "from keras.utils import to_categorical\n",
        "import numpy as np\n",
        "import pandas as pd\n",
        "\n",
        "tf.get_logger().setLevel('ERROR')"
      ],
      "execution_count": 6,
      "outputs": []
    },
    {
      "cell_type": "code",
      "metadata": {
        "colab": {
          "base_uri": "https://localhost:8080/"
        },
        "id": "O0SXqw2g4cEi",
        "outputId": "a68c55f5-dc9f-4320-f5cc-d414b7c6b46c"
      },
      "source": [
        "print(tf.__version__)\n",
        "print(K.__version__)"
      ],
      "execution_count": 7,
      "outputs": [
        {
          "output_type": "stream",
          "text": [
            "2.4.1\n",
            "2.4.0\n"
          ],
          "name": "stdout"
        }
      ]
    },
    {
      "cell_type": "code",
      "metadata": {
        "id": "nayntnIB4cnV"
      },
      "source": [
        "#Install transformers and download the greek specific file for model and tokenizer from Hugging Face Hub\n",
        "\n",
        "!pip install transformers\n",
        "from transformers import AutoTokenizer, TFAutoModel\n",
        "from transformers import AdamWeightDecay\n",
        "\n",
        "tokenizer = AutoTokenizer.from_pretrained(\"nlpaueb/bert-base-greek-uncased-v1\")\n",
        "model = TFAutoModel.from_pretrained(\"nlpaueb/bert-base-greek-uncased-v1\")\n"
      ],
      "execution_count": null,
      "outputs": []
    },
    {
      "cell_type": "code",
      "metadata": {
        "colab": {
          "base_uri": "https://localhost:8080/"
        },
        "id": "48NMmZlL4zUz",
        "outputId": "9f598100-42a4-439e-d464-05c72f952879"
      },
      "source": [
        "#View some info for the model and the tokenizer\n",
        "\n",
        "model.summary()\n",
        "print()\n",
        "model\n",
        "print()\n",
        "tokenizer"
      ],
      "execution_count": 9,
      "outputs": [
        {
          "output_type": "stream",
          "text": [
            "Model: \"tf_bert_model_1\"\n",
            "_________________________________________________________________\n",
            "Layer (type)                 Output Shape              Param #   \n",
            "=================================================================\n",
            "bert (TFBertMainLayer)       multiple                  112921344 \n",
            "=================================================================\n",
            "Total params: 112,921,344\n",
            "Trainable params: 112,921,344\n",
            "Non-trainable params: 0\n",
            "_________________________________________________________________\n",
            "\n",
            "\n"
          ],
          "name": "stdout"
        },
        {
          "output_type": "execute_result",
          "data": {
            "text/plain": [
              "PreTrainedTokenizerFast(name_or_path='nlpaueb/bert-base-greek-uncased-v1', vocab_size=35000, model_max_len=1000000000000000019884624838656, is_fast=True, padding_side='right', special_tokens={'unk_token': '[UNK]', 'sep_token': '[SEP]', 'pad_token': '[PAD]', 'cls_token': '[CLS]', 'mask_token': '[MASK]'})"
            ]
          },
          "metadata": {
            "tags": []
          },
          "execution_count": 9
        }
      ]
    },
    {
      "cell_type": "markdown",
      "metadata": {
        "id": "YANAif3_mOxZ"
      },
      "source": [
        "#GRGE example\n",
        "We are going to use a .csv file with greek texts from twitter that are divided in 3 categories (Negative, POsitive, Neutral)"
      ]
    },
    {
      "cell_type": "code",
      "metadata": {
        "colab": {
          "base_uri": "https://localhost:8080/"
        },
        "id": "wKvtu0TGmUgW",
        "outputId": "97cd7f33-1c23-47a3-a792-267a36209f8f"
      },
      "source": [
        "df = pd.read_csv(\"/content/GRGE_sentiment.csv\")\n",
        "print(df)"
      ],
      "execution_count": 11,
      "outputs": [
        {
          "output_type": "stream",
          "text": [
            "      Unnamed: 0                                               Text Polarity1\n",
            "0              0  Επιχείρηση Βολευτική έδρα!  Βασίλης Οικονόμου:...  Negative\n",
            "1              1  Κ ά β ο ς: Ψηφοδέλτιο ΣΥΡΙΖΑ Κορινθίας - Πού π...  Negative\n",
            "2              2  @Dora_Bakoyannis Αυτο-καρφώνεσαι όταν αναρωτιέ...  Positive\n",
            "3              3  Κόμμα «σκαντζόχοιρος»: «Σφαγή» πασοκογενών από...   Neutral\n",
            "4              4  Και γαμώ και την Νέα Δημοκρατία γιατί ειμαι πο...  Negative\n",
            "...          ...                                                ...       ...\n",
            "1635        1635  Κουτσούμπας: Δεν θα γίνουμε κερασάκι στην αντι...  Negative\n",
            "1636        1636  Θέλουμε μια Ελλάδα με πολιτικούς σαν την κ.Φωτ...  Negative\n",
            "1637        1637  Για διαχωρισμό κράτους-εκκλησίας, ομόφυλο γάμο...  Negative\n",
            "1638        1638  ΓΙΑΝΝΕΝΑ:Στην πρώτη γραμμή της προεκλογικής μά...   Neutral\n",
            "1639        1639  Σημαντικό βήμα για την αποφυγή της επερχόμενης...   Neutral\n",
            "\n",
            "[1640 rows x 3 columns]\n"
          ],
          "name": "stdout"
        }
      ]
    },
    {
      "cell_type": "code",
      "metadata": {
        "colab": {
          "base_uri": "https://localhost:8080/"
        },
        "id": "OS3kqGiKmkGA",
        "outputId": "536492e3-ffa2-43fa-db1d-a78efc83541e"
      },
      "source": [
        "#View frst 10 entries\n",
        "\n",
        "text_list = df['Text'].to_list()\n",
        "print(text_list[:10])\n",
        "polarity = df[\"Polarity1\"].to_list()\n",
        "print(polarity[:10])"
      ],
      "execution_count": 12,
      "outputs": [
        {
          "output_type": "stream",
          "text": [
            "['Επιχείρηση Βολευτική έδρα!  Βασίλης Οικονόμου:  Από το ΠΑΣΟΚ διαγράφηκε απο το ΓΑΠ επειδη ΔΕΝ ψήφισε το Μνημόνιο... http://t.co/gPgr1Caqxv', 'Κ ά β ο ς: Ψηφοδέλτιο ΣΥΡΙΖΑ Κορινθίας - Πού πας,ΣΥΡΙΖΑ, με δράμι μυαλό... http://t.co/8eIiKYS7CP', '@Dora_Bakoyannis Αυτο-καρφώνεσαι όταν αναρωτιέσαι ποιον ΠτΔ θα προτείνει ο ΣΥΡΙΖΑ  αποδεχόμενη την νίκη του αντιπάλου.', 'Κόμμα «σκαντζόχοιρος»: «Σφαγή» πασοκογενών από τις λίστες του ΣΥΡΙΖΑ http://t.co/rC7EY67qFY', 'Και γαμώ και την Νέα Δημοκρατία γιατί ειμαι πολιτικο ακκάουντ στην τελική όχι κλαψομούνικο!!!!', 'Ε. Καϊλή: «Ηθικό ζήτημα που θα κριθεί από τον κόσμο» η μετακίνηση της Γκερέκου στη ΝΔ http://t.co/Q4oYSfJjZZ', 'ΔΙΑΒΑΣΤΕ ΣΗΜΕΡΑ ΣΤΗΝ KONTRA NEWS : ΣΙΓΟΥΡΗ ΠΛΕΟΝ Η ΑΥΤΟΔΥΝΑΜΙΑ ΤΟΥ ΣΥΡΙΖΑ ΚΑΘΑΡΙΣΕ Ο ΣΑΜΑΡΑΣ ΓΙΑ ΤΟΝ ΑΛΕΞΗ ΔΥΟ... http://t.co/JZV7IHUTw1', 'Συμφωνεί ο ΣΥΡΙΖΑ στα Εθνικά θέματα με τον Τρεμόπουλο; Ο “οικολόγος” Μιχ. Τρεμόπουλος, εκείνος που είχε αναφέρ... http://t.co/nqFAZKAQO5', 'Τα μέτρα του ΣΥΡΙΖΑ ενάντια στη διαπλοκή http://t.co/XklqakuOyx via @youtube', 'Η επιστολή αποχώρησης από το ΠΑΣΟΚ για τον\\xa0Παπανδρέου http://t.co/lq9Fq6ylxq']\n",
            "['Negative', 'Negative', 'Positive', 'Neutral', 'Negative', 'Neutral', 'Neutral', 'Neutral', 'Neutral', 'Neutral']\n"
          ],
          "name": "stdout"
        }
      ]
    },
    {
      "cell_type": "code",
      "metadata": {
        "colab": {
          "base_uri": "https://localhost:8080/"
        },
        "id": "Cpe5adItmvc1",
        "outputId": "97f587e2-a957-44ce-f724-b7c90c43d6d0"
      },
      "source": [
        "# Prepare input data for training\n",
        "\n",
        "def my_func(arg):\n",
        "  arg = tf.convert_to_tensor(arg, dtype=tf.string)\n",
        "  return arg\n",
        "\n",
        "train_x = my_func(np.array(text_list))\n",
        "print(train_x[:2])"
      ],
      "execution_count": 15,
      "outputs": [
        {
          "output_type": "stream",
          "text": [
            "tf.Tensor(\n",
            "[b'\\xce\\x95\\xcf\\x80\\xce\\xb9\\xcf\\x87\\xce\\xb5\\xce\\xaf\\xcf\\x81\\xce\\xb7\\xcf\\x83\\xce\\xb7 \\xce\\x92\\xce\\xbf\\xce\\xbb\\xce\\xb5\\xcf\\x85\\xcf\\x84\\xce\\xb9\\xce\\xba\\xce\\xae \\xce\\xad\\xce\\xb4\\xcf\\x81\\xce\\xb1!  \\xce\\x92\\xce\\xb1\\xcf\\x83\\xce\\xaf\\xce\\xbb\\xce\\xb7\\xcf\\x82 \\xce\\x9f\\xce\\xb9\\xce\\xba\\xce\\xbf\\xce\\xbd\\xcf\\x8c\\xce\\xbc\\xce\\xbf\\xcf\\x85:  \\xce\\x91\\xcf\\x80\\xcf\\x8c \\xcf\\x84\\xce\\xbf \\xce\\xa0\\xce\\x91\\xce\\xa3\\xce\\x9f\\xce\\x9a \\xce\\xb4\\xce\\xb9\\xce\\xb1\\xce\\xb3\\xcf\\x81\\xce\\xac\\xcf\\x86\\xce\\xb7\\xce\\xba\\xce\\xb5 \\xce\\xb1\\xcf\\x80\\xce\\xbf \\xcf\\x84\\xce\\xbf \\xce\\x93\\xce\\x91\\xce\\xa0 \\xce\\xb5\\xcf\\x80\\xce\\xb5\\xce\\xb9\\xce\\xb4\\xce\\xb7 \\xce\\x94\\xce\\x95\\xce\\x9d \\xcf\\x88\\xce\\xae\\xcf\\x86\\xce\\xb9\\xcf\\x83\\xce\\xb5 \\xcf\\x84\\xce\\xbf \\xce\\x9c\\xce\\xbd\\xce\\xb7\\xce\\xbc\\xcf\\x8c\\xce\\xbd\\xce\\xb9\\xce\\xbf... http://t.co/gPgr1Caqxv'\n",
            " b'\\xce\\x9a \\xce\\xac \\xce\\xb2 \\xce\\xbf \\xcf\\x82: \\xce\\xa8\\xce\\xb7\\xcf\\x86\\xce\\xbf\\xce\\xb4\\xce\\xad\\xce\\xbb\\xcf\\x84\\xce\\xb9\\xce\\xbf \\xce\\xa3\\xce\\xa5\\xce\\xa1\\xce\\x99\\xce\\x96\\xce\\x91 \\xce\\x9a\\xce\\xbf\\xcf\\x81\\xce\\xb9\\xce\\xbd\\xce\\xb8\\xce\\xaf\\xce\\xb1\\xcf\\x82 - \\xce\\xa0\\xce\\xbf\\xcf\\x8d \\xcf\\x80\\xce\\xb1\\xcf\\x82,\\xce\\xa3\\xce\\xa5\\xce\\xa1\\xce\\x99\\xce\\x96\\xce\\x91, \\xce\\xbc\\xce\\xb5 \\xce\\xb4\\xcf\\x81\\xce\\xac\\xce\\xbc\\xce\\xb9 \\xce\\xbc\\xcf\\x85\\xce\\xb1\\xce\\xbb\\xcf\\x8c... http://t.co/8eIiKYS7CP'], shape=(2,), dtype=string)\n"
          ],
          "name": "stdout"
        }
      ]
    },
    {
      "cell_type": "code",
      "metadata": {
        "colab": {
          "base_uri": "https://localhost:8080/"
        },
        "id": "f2Ut2r5Rmwxg",
        "outputId": "896d381a-885c-4905-89f4-4a97670ba5fe"
      },
      "source": [
        "#Prepare labels for training\n",
        "\n",
        "encoded_labels = []\n",
        "for i in polarity:\n",
        "  if i == 'Negative':\n",
        "    encoded_labels.append(0)\n",
        "  elif i == 'Positive':\n",
        "    encoded_labels.append(1)\n",
        "  elif i == 'Neutral':\n",
        "    encoded_labels.append(2)\n",
        "    \n",
        "print(encoded_labels[:4])\n",
        "print(len(encoded_labels))\n",
        "\n",
        "transformed_encoded_labels = np.array(encoded_labels)\n",
        "print(transformed_encoded_labels[:4])"
      ],
      "execution_count": 16,
      "outputs": [
        {
          "output_type": "stream",
          "text": [
            "[0, 0, 1, 2]\n",
            "1640\n",
            "[0 0 1 2]\n"
          ],
          "name": "stdout"
        }
      ]
    },
    {
      "cell_type": "code",
      "metadata": {
        "colab": {
          "base_uri": "https://localhost:8080/"
        },
        "id": "4Q1UaNy8m5ba",
        "outputId": "81050eb4-33cf-4fb1-e5a4-dbe9cfc0f243"
      },
      "source": [
        "#Convert labels to categorical and then to tensor\n",
        "\n",
        "labels_split_categorical = to_categorical(encoded_labels)\n",
        "print(labels_split_categorical)\n",
        "\n",
        "# Prepare the labels data\n",
        "def my_func_float(arg):\n",
        "  arg = tf.convert_to_tensor(arg, dtype=tf.float32)\n",
        "  return arg\n",
        "\n",
        "train_labels = my_func_float(labels_split_categorical) \n",
        "print(train_labels)"
      ],
      "execution_count": 17,
      "outputs": [
        {
          "output_type": "stream",
          "text": [
            "[[1. 0. 0.]\n",
            " [1. 0. 0.]\n",
            " [0. 1. 0.]\n",
            " ...\n",
            " [1. 0. 0.]\n",
            " [0. 0. 1.]\n",
            " [0. 0. 1.]]\n",
            "tf.Tensor(\n",
            "[[1. 0. 0.]\n",
            " [1. 0. 0.]\n",
            " [0. 1. 0.]\n",
            " ...\n",
            " [1. 0. 0.]\n",
            " [0. 0. 1.]\n",
            " [0. 0. 1.]], shape=(1640, 3), dtype=float32)\n"
          ],
          "name": "stdout"
        }
      ]
    },
    {
      "cell_type": "code",
      "metadata": {
        "id": "pEBXWXNem8Kp"
      },
      "source": [
        ""
      ],
      "execution_count": null,
      "outputs": []
    },
    {
      "cell_type": "markdown",
      "metadata": {
        "id": "fWfdbPGI7cGR"
      },
      "source": [
        "#Models"
      ]
    },
    {
      "cell_type": "code",
      "metadata": {
        "colab": {
          "base_uri": "https://localhost:8080/"
        },
        "id": "RZuf10rW7ws1",
        "outputId": "3caeec37-393e-45d9-d27b-d16e7f5044f2"
      },
      "source": [
        "tfhub_handle_encoder = model\n",
        "tfhub_handle_preprocess = tokenizer\n",
        "\n",
        "print(f'BERT model selected: {tfhub_handle_encoder}')\n",
        "print(f'Preprocess model: {tfhub_handle_preprocess}')"
      ],
      "execution_count": 18,
      "outputs": [
        {
          "output_type": "stream",
          "text": [
            "BERT model selected: <transformers.models.bert.modeling_tf_bert.TFBertModel object at 0x7f23ef3940d0>\n",
            "Preprocess model: PreTrainedTokenizerFast(name_or_path='nlpaueb/bert-base-greek-uncased-v1', vocab_size=35000, model_max_len=1000000000000000019884624838656, is_fast=True, padding_side='right', special_tokens={'unk_token': '[UNK]', 'sep_token': '[SEP]', 'pad_token': '[PAD]', 'cls_token': '[CLS]', 'mask_token': '[MASK]'})\n"
          ],
          "name": "stdout"
        }
      ]
    },
    {
      "cell_type": "code",
      "metadata": {
        "id": "7yaYek1U8FVu"
      },
      "source": [
        "bert_preprocess_model = hub.KerasLayer(tfhub_handle_preprocess)\n",
        "bert_model = hub.KerasLayer(tfhub_handle_encoder)"
      ],
      "execution_count": 19,
      "outputs": []
    },
    {
      "cell_type": "markdown",
      "metadata": {
        "id": "wvoECpV-M4lK"
      },
      "source": [
        "#Test an input to the model"
      ]
    },
    {
      "cell_type": "code",
      "metadata": {
        "colab": {
          "base_uri": "https://localhost:8080/"
        },
        "id": "WRwZfzqT99mv",
        "outputId": "a48aa8d6-5345-4131-943f-9320aa1dfe81"
      },
      "source": [
        "text_test = ['αυτή ήταν μια φανταστική ταινία!']\n",
        "text_preprocessed = bert_preprocess_model(text_test)\n",
        "#text_preprocessed = tokenizer.encode(text_test)\n",
        "print(text_preprocessed)\n",
        "print(f'Keys       : {list(text_preprocessed.keys())}')\n",
        "print(f'input_ids      : {text_preprocessed[\"input_ids\"][0]}')\n",
        "print(f'attention_mask   : {text_preprocessed[\"attention_mask\"][0][:12]}')\n",
        "print(f'token_type_ids   : {text_preprocessed[\"token_type_ids\"][0][:12]}')\n"
      ],
      "execution_count": 22,
      "outputs": [
        {
          "output_type": "stream",
          "text": [
            "{'input_ids': [[101, 393, 384, 369, 12859, 1146, 108, 102]], 'token_type_ids': [[0, 0, 0, 0, 0, 0, 0, 0]], 'attention_mask': [[1, 1, 1, 1, 1, 1, 1, 1]]}\n",
            "Keys       : ['input_ids', 'token_type_ids', 'attention_mask']\n",
            "input_ids      : [101, 393, 384, 369, 12859, 1146, 108, 102]\n",
            "attention_mask   : [1, 1, 1, 1, 1, 1, 1, 1]\n",
            "token_type_ids   : [0, 0, 0, 0, 0, 0, 0, 0]\n"
          ],
          "name": "stdout"
        }
      ]
    },
    {
      "cell_type": "code",
      "metadata": {
        "colab": {
          "base_uri": "https://localhost:8080/"
        },
        "id": "3C1ouBk9-mjt",
        "outputId": "01d2b607-e353-4612-d77a-b505ca8afc8b"
      },
      "source": [
        "# Prepare input to be used from the model\n",
        "# Generate a dictionary of tensor inputs\n",
        "\n",
        "def my_func(arg):\n",
        "  arg = tf.convert_to_tensor(arg, dtype=tf.int32)\n",
        "  return arg\n",
        "\n",
        "transformed_text = {'input_ids': my_func(text_preprocessed[\"input_ids\"]), 'token_type_ids': my_func(text_preprocessed[\"token_type_ids\"]), 'attention_mask': my_func(text_preprocessed[\"attention_mask\"])}\n",
        "print(transformed_text)"
      ],
      "execution_count": 23,
      "outputs": [
        {
          "output_type": "stream",
          "text": [
            "{'input_ids': <tf.Tensor: shape=(1, 8), dtype=int32, numpy=\n",
            "array([[  101,   393,   384,   369, 12859,  1146,   108,   102]],\n",
            "      dtype=int32)>, 'token_type_ids': <tf.Tensor: shape=(1, 8), dtype=int32, numpy=array([[0, 0, 0, 0, 0, 0, 0, 0]], dtype=int32)>, 'attention_mask': <tf.Tensor: shape=(1, 8), dtype=int32, numpy=array([[1, 1, 1, 1, 1, 1, 1, 1]], dtype=int32)>}\n"
          ],
          "name": "stdout"
        }
      ]
    },
    {
      "cell_type": "code",
      "metadata": {
        "colab": {
          "base_uri": "https://localhost:8080/"
        },
        "id": "muTTlNlr_Bxl",
        "outputId": "22aaafca-a6f7-4c1a-fac3-2120fcf4fa6a"
      },
      "source": [
        "# Get the result of the model after passing the dictionary\n",
        "\n",
        "bert_results = bert_model(transformed_text)\n",
        "#print(bert_results)\n",
        "print(f'Loaded BERT: {tfhub_handle_encoder}')\n",
        "print(f'Keys       : {list(bert_results.keys())}')\n",
        "print(f'Pooled Output Shape:{bert_results[\"pooler_output\"].shape}')\n",
        "print(f'Pooled Output Values:{bert_results[\"pooler_output\"][0, :12]}')\n",
        "print(f'Sequence Output Shape:{bert_results[\"last_hidden_state\"].shape}')\n",
        "print(f'Sequence Output Values:{bert_results[\"last_hidden_state\"][0, :12]}')"
      ],
      "execution_count": 26,
      "outputs": [
        {
          "output_type": "stream",
          "text": [
            "Loaded BERT: <transformers.models.bert.modeling_tf_bert.TFBertModel object at 0x7f23ef3940d0>\n",
            "Keys       : ['last_hidden_state', 'pooler_output']\n",
            "Pooled Output Shape:(1, 768)\n",
            "Pooled Output Values:[-0.7756876  -0.48410642  0.10253016  0.621603   -0.46155113  0.10883062\n",
            "  0.961941    0.41196406  0.6992992  -0.42222884 -0.2164939  -0.2050891 ]\n",
            "Sequence Output Shape:(1, 8, 768)\n",
            "Sequence Output Values:[[-0.95883304 -0.26517636  0.12192754 ... -0.74791586  0.35750234\n",
            "   1.0346323 ]\n",
            " [-1.3804331   0.2030597  -0.02667625 ...  1.0282251   0.3847218\n",
            "  -2.057902  ]\n",
            " [-0.9816262   0.25108054  1.1753194  ... -0.28084525  0.37680596\n",
            "  -0.6475431 ]\n",
            " ...\n",
            " [-1.4601182   0.45342112 -0.0151363  ...  0.8060957  -0.05657317\n",
            "  -1.1681705 ]\n",
            " [-1.0056059  -0.18209678 -0.11410159 ...  0.5029514  -0.15278082\n",
            "   0.19413413]\n",
            " [-0.07957786  0.1275501   1.0447783  ... -0.039065    0.3833198\n",
            "   0.3138709 ]]\n"
          ],
          "name": "stdout"
        }
      ]
    },
    {
      "cell_type": "markdown",
      "metadata": {
        "id": "gT873yG1_ZqT"
      },
      "source": [
        "#Encode text dataset\n",
        "We have to preprocess all the inputs so they are ready to be fed to the network."
      ]
    },
    {
      "cell_type": "code",
      "metadata": {
        "id": "6b0Tbc7a_Cja"
      },
      "source": [
        "#Create 3 inputs for the model in numpy array format\n",
        "\n",
        "def bert_encode(texts, tokenizer, max_len=128):\n",
        "    all_tokens = []\n",
        "    all_masks = []\n",
        "    all_segments = []\n",
        "    \n",
        "    for text in texts:\n",
        "        text_preprocessed = tokenizer(text)\n",
        "        tokenized_text = text_preprocessed[\"input_ids\"]\n",
        "        #print(tokenized_text)\n",
        "        pad_len = max_len - len(tokenized_text)\n",
        "        #print(pad_len)\n",
        "\n",
        "        tokens = text_preprocessed[\"input_ids\"] + [0] * pad_len\n",
        "        pad_masks = [1] * len(tokenized_text) + [0] * pad_len\n",
        "        segment_ids = [0] * max_len\n",
        "\n",
        "        all_tokens.append(tokens)\n",
        "        all_masks.append(pad_masks)\n",
        "        all_segments.append(segment_ids)\n",
        "    \n",
        "    return np.array(all_tokens), np.array(all_masks), np.array(all_segments)"
      ],
      "execution_count": 27,
      "outputs": []
    },
    {
      "cell_type": "code",
      "metadata": {
        "colab": {
          "base_uri": "https://localhost:8080/"
        },
        "id": "P-luFO7TAXJQ",
        "outputId": "76b1e7c1-9a0f-4eb5-8b32-b15f473caeaa"
      },
      "source": [
        "# Encode all text\n",
        "\n",
        "input_x = bert_encode(text_list, bert_preprocess_model)\n",
        "print(input_x[:4])"
      ],
      "execution_count": 29,
      "outputs": [
        {
          "output_type": "stream",
          "text": [
            "(array([[  101,  1314, 16357, ...,     0,     0,     0],\n",
            "       [  101,   242,   233, ...,     0,     0,     0],\n",
            "       [  101,   149,  2580, ...,     0,     0,     0],\n",
            "       ...,\n",
            "       [  101,   353, 17043, ...,     0,     0,     0],\n",
            "       [  101, 14877,   143, ...,     0,     0,     0],\n",
            "       [  101,   735,  1121, ...,     0,     0,     0]]), array([[1, 1, 1, ..., 0, 0, 0],\n",
            "       [1, 1, 1, ..., 0, 0, 0],\n",
            "       [1, 1, 1, ..., 0, 0, 0],\n",
            "       ...,\n",
            "       [1, 1, 1, ..., 0, 0, 0],\n",
            "       [1, 1, 1, ..., 0, 0, 0],\n",
            "       [1, 1, 1, ..., 0, 0, 0]]), array([[0, 0, 0, ..., 0, 0, 0],\n",
            "       [0, 0, 0, ..., 0, 0, 0],\n",
            "       [0, 0, 0, ..., 0, 0, 0],\n",
            "       ...,\n",
            "       [0, 0, 0, ..., 0, 0, 0],\n",
            "       [0, 0, 0, ..., 0, 0, 0],\n",
            "       [0, 0, 0, ..., 0, 0, 0]]))\n"
          ],
          "name": "stdout"
        }
      ]
    },
    {
      "cell_type": "markdown",
      "metadata": {
        "id": "B9ZFxeWTAsbk"
      },
      "source": [
        "#Build the model\n",
        "Below we build the model and we use two Dense layers and one Dropout layer."
      ]
    },
    {
      "cell_type": "code",
      "metadata": {
        "id": "VZ3MDDsiAbpj"
      },
      "source": [
        "def build_model(bert_layer, max_len=128):\n",
        "    input_word_ids = tf.keras.Input(shape=(max_len,), dtype=tf.int32, name=\"input_ids\")\n",
        "    input_mask = tf.keras.Input(shape=(max_len,), dtype=tf.int32, name=\"attention_mask\")\n",
        "    segment_ids = tf.keras.Input(shape=(max_len,), dtype=tf.int32, name=\"token_type_ids\")\n",
        "\n",
        "    bert_results = bert_layer([input_word_ids, input_mask, segment_ids])\n",
        "    #output = bert_results[\"last_hidden_state\"][:, 0, :]\n",
        "    output = bert_results[\"pooler_output\"][:,:]\n",
        "    net = tf.keras.layers.Dense(32, activation='relu')(output)\n",
        "    net = tf.keras.layers.Dropout(0.2)(net)\n",
        "    out = tf.keras.layers.Dense(3, activation='softmax')(net)\n",
        "    \n",
        "    model = tf.keras.models.Model(inputs=[input_word_ids, input_mask, segment_ids], outputs=out)\n",
        "    \n",
        "    return model"
      ],
      "execution_count": 30,
      "outputs": []
    },
    {
      "cell_type": "code",
      "metadata": {
        "colab": {
          "base_uri": "https://localhost:8080/"
        },
        "id": "OtZlhmS2AuaO",
        "outputId": "bbe90afe-f482-417a-844f-af530dc155b0"
      },
      "source": [
        "model = build_model(bert_model)\n",
        "model.summary()"
      ],
      "execution_count": 31,
      "outputs": [
        {
          "output_type": "stream",
          "text": [
            "Model: \"model\"\n",
            "__________________________________________________________________________________________________\n",
            "Layer (type)                    Output Shape         Param #     Connected to                     \n",
            "==================================================================================================\n",
            "input_ids (InputLayer)          [(None, 128)]        0                                            \n",
            "__________________________________________________________________________________________________\n",
            "attention_mask (InputLayer)     [(None, 128)]        0                                            \n",
            "__________________________________________________________________________________________________\n",
            "token_type_ids (InputLayer)     [(None, 128)]        0                                            \n",
            "__________________________________________________________________________________________________\n",
            "keras_layer_1 (KerasLayer)      TFBaseModelOutputWit 112921344   input_ids[0][0]                  \n",
            "                                                                 attention_mask[0][0]             \n",
            "                                                                 token_type_ids[0][0]             \n",
            "__________________________________________________________________________________________________\n",
            "tf.__operators__.getitem (Slici (None, 768)          0           keras_layer_1[0][1]              \n",
            "__________________________________________________________________________________________________\n",
            "dense (Dense)                   (None, 32)           24608       tf.__operators__.getitem[0][0]   \n",
            "__________________________________________________________________________________________________\n",
            "dropout_74 (Dropout)            (None, 32)           0           dense[0][0]                      \n",
            "__________________________________________________________________________________________________\n",
            "dense_1 (Dense)                 (None, 3)            99          dropout_74[0][0]                 \n",
            "==================================================================================================\n",
            "Total params: 112,946,051\n",
            "Trainable params: 24,707\n",
            "Non-trainable params: 112,921,344\n",
            "__________________________________________________________________________________________________\n"
          ],
          "name": "stdout"
        }
      ]
    },
    {
      "cell_type": "code",
      "metadata": {
        "colab": {
          "base_uri": "https://localhost:8080/",
          "height": 564
        },
        "id": "9oBB4mfaOYx7",
        "outputId": "4c647e08-d63d-433d-fa44-02f712451a3d"
      },
      "source": [
        "tf.keras.utils.plot_model(model)"
      ],
      "execution_count": 32,
      "outputs": [
        {
          "output_type": "execute_result",
          "data": {
            "image/png": "[encoded data removed]",
            "text/plain": [
              "<IPython.core.display.Image object>"
            ]
          },
          "metadata": {
            "tags": []
          },
          "execution_count": 32
        }
      ]
    },
    {
      "cell_type": "code",
      "metadata": {
        "id": "OzxRsjm_B4S7"
      },
      "source": [
        "# First train only the last layers\n",
        "\n",
        "bert_model.trainable = False\n",
        "model.compile(loss='categorical_crossentropy', \n",
        "             optimizer=tf.keras.optimizers.Adam(learning_rate=1e-5), \n",
        "             metrics=['accuracy'])"
      ],
      "execution_count": 33,
      "outputs": []
    },
    {
      "cell_type": "code",
      "metadata": {
        "id": "5AtMjpm2CQ9p",
        "colab": {
          "base_uri": "https://localhost:8080/"
        },
        "outputId": "cc619d69-55d7-41c6-bab8-261608668aaf"
      },
      "source": [
        "checkpoint = tf.keras.callbacks.ModelCheckpoint('model.h5', monitor='val_accuracy', save_best_only=True, verbose=1)\n",
        "\n",
        "train_history = model.fit(\n",
        "    input_x, train_labels, \n",
        "    validation_split=0.1,\n",
        "    epochs=5,\n",
        "    #callbacks=[checkpoint],\n",
        "    batch_size=32,\n",
        "    verbose=1)"
      ],
      "execution_count": 34,
      "outputs": [
        {
          "output_type": "stream",
          "text": [
            "Epoch 1/5\n",
            "47/47 [==============================] - 28s 378ms/step - loss: 1.3610 - accuracy: 0.2310 - val_loss: 1.2172 - val_accuracy: 0.2866\n",
            "Epoch 2/5\n",
            "47/47 [==============================] - 15s 320ms/step - loss: 1.2527 - accuracy: 0.3171 - val_loss: 1.0882 - val_accuracy: 0.4451\n",
            "Epoch 3/5\n",
            "47/47 [==============================] - 15s 315ms/step - loss: 1.1508 - accuracy: 0.3989 - val_loss: 0.9952 - val_accuracy: 0.5427\n",
            "Epoch 4/5\n",
            "47/47 [==============================] - 15s 312ms/step - loss: 1.0775 - accuracy: 0.4299 - val_loss: 0.9297 - val_accuracy: 0.5671\n",
            "Epoch 5/5\n",
            "47/47 [==============================] - 15s 312ms/step - loss: 1.0144 - accuracy: 0.4901 - val_loss: 0.8770 - val_accuracy: 0.6220\n"
          ],
          "name": "stdout"
        }
      ]
    },
    {
      "cell_type": "code",
      "metadata": {
        "id": "Edkopi76V3Nw",
        "colab": {
          "base_uri": "https://localhost:8080/"
        },
        "outputId": "04f1cde6-0e4e-4049-96cd-2d58374874b6"
      },
      "source": [
        "# Unfreeze the BERT model for fine-tuning\n",
        "\n",
        "bert_model.trainable = True\n",
        "model.compile(loss='categorical_crossentropy', \n",
        "             optimizer=tf.keras.optimizers.Adam(learning_rate=1e-5), \n",
        "             metrics=['accuracy'])\n",
        "\n",
        "checkpoint = tf.keras.callbacks.ModelCheckpoint('greek_bert_model.h5', monitor='val_accuracy', save_best_only=True, verbose=1)\n",
        "\n",
        "train_history = model.fit(\n",
        "    input_x, train_labels, \n",
        "    validation_split=0.1,\n",
        "    epochs=5,\n",
        "    #callbacks=[checkpoint],\n",
        "    batch_size=32,\n",
        "    verbose=1)"
      ],
      "execution_count": 35,
      "outputs": [
        {
          "output_type": "stream",
          "text": [
            "Epoch 1/5\n",
            "47/47 [==============================] - 53s 844ms/step - loss: 0.7843 - accuracy: 0.6598 - val_loss: 0.7090 - val_accuracy: 0.6768\n",
            "Epoch 2/5\n",
            "47/47 [==============================] - 37s 781ms/step - loss: 0.5620 - accuracy: 0.7892 - val_loss: 0.7289 - val_accuracy: 0.6951\n",
            "Epoch 3/5\n",
            "47/47 [==============================] - 37s 781ms/step - loss: 0.4200 - accuracy: 0.8466 - val_loss: 0.7078 - val_accuracy: 0.7134\n",
            "Epoch 4/5\n",
            "47/47 [==============================] - 37s 785ms/step - loss: 0.3420 - accuracy: 0.8910 - val_loss: 0.6475 - val_accuracy: 0.7256\n",
            "Epoch 5/5\n",
            "47/47 [==============================] - 37s 782ms/step - loss: 0.3166 - accuracy: 0.8822 - val_loss: 0.6413 - val_accuracy: 0.7500\n"
          ],
          "name": "stdout"
        }
      ]
    },
    {
      "cell_type": "code",
      "metadata": {
        "colab": {
          "base_uri": "https://localhost:8080/"
        },
        "id": "GMWYsk_bGZPV",
        "outputId": "37f6f383-0641-40e5-8ded-732335025cfa"
      },
      "source": [
        "# Do an inference with a random input\n",
        "\n",
        "# 0 = 'Negative'\n",
        "# 1 = 'Positive'\n",
        "# 2 = 'Neutral'\n",
        "\n",
        "input_test = bert_encode(['Επιχείρηση Βολευτική έδρα!  Βασίλης Οικονόμου:  Από το ΠΑΣΟΚ διαγράφηκε απο το ΓΑΠ επειδη ΔΕΝ ψήφισε το Μνημόνιο...'], bert_preprocess_model)\n",
        "print(input_test)\n",
        "output = model(input_test)\n",
        "print()\n",
        "print(np.array(output[0]))"
      ],
      "execution_count": 36,
      "outputs": [
        {
          "output_type": "stream",
          "text": [
            "(array([[  101,  1314, 16357,   668,  1351,   108,  3113, 12078,   143,\n",
            "          352,   345,  1609,  5294,   956,   352,   345, 18408,   593,\n",
            "          366, 11598,   345,  3818,   121,   121,   121,   102,     0,\n",
            "            0,     0,     0,     0,     0,     0,     0,     0,     0,\n",
            "            0,     0,     0,     0,     0,     0,     0,     0,     0,\n",
            "            0,     0,     0,     0,     0,     0,     0,     0,     0,\n",
            "            0,     0,     0,     0,     0,     0,     0,     0,     0,\n",
            "            0,     0,     0,     0,     0,     0,     0,     0,     0,\n",
            "            0,     0,     0,     0,     0,     0,     0,     0,     0,\n",
            "            0,     0,     0,     0,     0,     0,     0,     0,     0,\n",
            "            0,     0,     0,     0,     0,     0,     0,     0,     0,\n",
            "            0,     0,     0,     0,     0,     0,     0,     0,     0,\n",
            "            0,     0,     0,     0,     0,     0,     0,     0,     0,\n",
            "            0,     0,     0,     0,     0,     0,     0,     0,     0,\n",
            "            0,     0]]), array([[1, 1, 1, 1, 1, 1, 1, 1, 1, 1, 1, 1, 1, 1, 1, 1, 1, 1, 1, 1, 1, 1,\n",
            "        1, 1, 1, 1, 0, 0, 0, 0, 0, 0, 0, 0, 0, 0, 0, 0, 0, 0, 0, 0, 0, 0,\n",
            "        0, 0, 0, 0, 0, 0, 0, 0, 0, 0, 0, 0, 0, 0, 0, 0, 0, 0, 0, 0, 0, 0,\n",
            "        0, 0, 0, 0, 0, 0, 0, 0, 0, 0, 0, 0, 0, 0, 0, 0, 0, 0, 0, 0, 0, 0,\n",
            "        0, 0, 0, 0, 0, 0, 0, 0, 0, 0, 0, 0, 0, 0, 0, 0, 0, 0, 0, 0, 0, 0,\n",
            "        0, 0, 0, 0, 0, 0, 0, 0, 0, 0, 0, 0, 0, 0, 0, 0, 0, 0]]), array([[0, 0, 0, 0, 0, 0, 0, 0, 0, 0, 0, 0, 0, 0, 0, 0, 0, 0, 0, 0, 0, 0,\n",
            "        0, 0, 0, 0, 0, 0, 0, 0, 0, 0, 0, 0, 0, 0, 0, 0, 0, 0, 0, 0, 0, 0,\n",
            "        0, 0, 0, 0, 0, 0, 0, 0, 0, 0, 0, 0, 0, 0, 0, 0, 0, 0, 0, 0, 0, 0,\n",
            "        0, 0, 0, 0, 0, 0, 0, 0, 0, 0, 0, 0, 0, 0, 0, 0, 0, 0, 0, 0, 0, 0,\n",
            "        0, 0, 0, 0, 0, 0, 0, 0, 0, 0, 0, 0, 0, 0, 0, 0, 0, 0, 0, 0, 0, 0,\n",
            "        0, 0, 0, 0, 0, 0, 0, 0, 0, 0, 0, 0, 0, 0, 0, 0, 0, 0]]))\n",
            "\n",
            "[0.9654484  0.00925964 0.02529207]\n"
          ],
          "name": "stdout"
        }
      ]
    },
    {
      "cell_type": "code",
      "metadata": {
        "colab": {
          "base_uri": "https://localhost:8080/"
        },
        "id": "Us9LOpr-GCqC",
        "outputId": "2010a1b5-55c8-4287-8d4e-21698c15c8a0"
      },
      "source": [
        "# Save model \n",
        "\n",
        "save_path = \"content/model_final\"\n",
        "tf.saved_model.save(model, save_path)"
      ],
      "execution_count": 37,
      "outputs": [
        {
          "output_type": "stream",
          "text": [
            "WARNING:absl:Found untraced functions such as embeddings_layer_call_and_return_conditional_losses, embeddings_layer_call_fn, encoder_layer_call_and_return_conditional_losses, encoder_layer_call_fn, pooler_layer_call_and_return_conditional_losses while saving (showing 5 of 1055). These functions will not be directly callable after loading.\n",
            "WARNING:absl:Found untraced functions such as embeddings_layer_call_and_return_conditional_losses, embeddings_layer_call_fn, encoder_layer_call_and_return_conditional_losses, encoder_layer_call_fn, pooler_layer_call_and_return_conditional_losses while saving (showing 5 of 1055). These functions will not be directly callable after loading.\n"
          ],
          "name": "stderr"
        }
      ]
    },
    {
      "cell_type": "code",
      "metadata": {
        "colab": {
          "base_uri": "https://localhost:8080/"
        },
        "id": "m4hxncQ2Lpps",
        "outputId": "8674960d-8e13-4dcc-dc11-65a6185461d1"
      },
      "source": [
        "# In case you come later load the model from saved_model folder\n",
        "\n",
        "new_model = tf.keras.models.load_model('content/model_final')\n",
        "\n",
        "# Check its architecture\n",
        "new_model.summary()"
      ],
      "execution_count": 38,
      "outputs": [
        {
          "output_type": "stream",
          "text": [
            "Model: \"model\"\n",
            "__________________________________________________________________________________________________\n",
            "Layer (type)                    Output Shape         Param #     Connected to                     \n",
            "==================================================================================================\n",
            "input_ids (InputLayer)          [(None, 128)]        0                                            \n",
            "__________________________________________________________________________________________________\n",
            "attention_mask (InputLayer)     [(None, 128)]        0                                            \n",
            "__________________________________________________________________________________________________\n",
            "token_type_ids (InputLayer)     [(None, 128)]        0                                            \n",
            "__________________________________________________________________________________________________\n",
            "keras_layer_1 (KerasLayer)      {'pooler_output': (N 112921344   input_ids[0][0]                  \n",
            "                                                                 attention_mask[0][0]             \n",
            "                                                                 token_type_ids[0][0]             \n",
            "__________________________________________________________________________________________________\n",
            "tf.__operators__.getitem (Slici (None, 768)          0           keras_layer_1[0][1]              \n",
            "__________________________________________________________________________________________________\n",
            "dense (Dense)                   (None, 32)           24608       tf.__operators__.getitem[0][0]   \n",
            "__________________________________________________________________________________________________\n",
            "dropout_74 (Dropout)            (None, 32)           0           dense[0][0]                      \n",
            "__________________________________________________________________________________________________\n",
            "dense_1 (Dense)                 (None, 3)            99          dropout_74[0][0]                 \n",
            "==================================================================================================\n",
            "Total params: 112,946,051\n",
            "Trainable params: 112,946,051\n",
            "Non-trainable params: 0\n",
            "__________________________________________________________________________________________________\n"
          ],
          "name": "stdout"
        }
      ]
    }
  ]
}