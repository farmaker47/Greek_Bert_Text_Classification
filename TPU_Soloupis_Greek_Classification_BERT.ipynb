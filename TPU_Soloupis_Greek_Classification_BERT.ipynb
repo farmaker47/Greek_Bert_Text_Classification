{
  "nbformat": 4,
  "nbformat_minor": 0,
  "metadata": {
    "colab": {
      "name": "TPU_Soloupis_Greek_Classification_BERT.ipynb",
      "provenance": [],
      "collapsed_sections": [],
      "toc_visible": true
    },
    "kernelspec": {
      "name": "python3",
      "display_name": "Python 3"
    },
    "language_info": {
      "name": "python"
    },
    "accelerator": "TPU"
  },
  "cells": [
    {
      "cell_type": "markdown",
      "metadata": {
        "id": "IRCiJdBcRvVT"
      },
      "source": [
        "# This is a demonstration of a downstream task (text classification) of the BERT model with the use of Google's TPUs"
      ]
    },
    {
      "cell_type": "code",
      "metadata": {
        "id": "4qdoPd6m4PjW"
      },
      "source": [
        "# Import neccessary libraries\n",
        "import tensorflow as tf\n",
        "import numpy as np\n",
        "from matplotlib import pyplot as plt\n",
        "import os\n",
        "import shutil\n",
        "import tensorflow_hub as hub\n",
        "import tensorflow.keras as K\n",
        "from keras.utils import to_categorical\n",
        "import pandas as pd\n",
        "\n",
        "tf.get_logger().setLevel('ERROR')\n",
        "AUTO = tf.data.experimental.AUTOTUNE"
      ],
      "execution_count": 32,
      "outputs": []
    },
    {
      "cell_type": "code",
      "metadata": {
        "colab": {
          "base_uri": "https://localhost:8080/"
        },
        "id": "O0SXqw2g4cEi",
        "outputId": "fe843a7d-f27f-4d02-da08-f8de3704c239"
      },
      "source": [
        "print(tf.__version__)\n",
        "print(K.__version__)"
      ],
      "execution_count": 33,
      "outputs": [
        {
          "output_type": "stream",
          "text": [
            "2.4.1\n",
            "2.4.0\n"
          ],
          "name": "stdout"
        }
      ]
    },
    {
      "cell_type": "markdown",
      "metadata": {
        "id": "0ppLug3NSzf5"
      },
      "source": [
        "### Connect to the TPU worker\n",
        "\n",
        "The following code connects to the TPU worker and changes TensorFlow's default device to the CPU device on the TPU worker. It also defines a TPU distribution strategy that you will use to distribute model training onto the 8 separate TPU cores available on this one TPU worker. See TensorFlow's [TPU guide](https://www.tensorflow.org/guide/tpu) for more information."
      ]
    },
    {
      "cell_type": "code",
      "metadata": {
        "colab": {
          "base_uri": "https://localhost:8080/"
        },
        "id": "vtV33SH9Kklk",
        "outputId": "5a3bdf80-fc46-4a80-874d-dbe15b61c4ce"
      },
      "source": [
        "\n",
        "if os.environ['COLAB_TPU_ADDR']:\n",
        "  cluster_resolver = tf.distribute.cluster_resolver.TPUClusterResolver(tpu='')\n",
        "  tf.config.experimental_connect_to_cluster(cluster_resolver)\n",
        "  tf.tpu.experimental.initialize_tpu_system(cluster_resolver)\n",
        "  strategy = tf.distribute.TPUStrategy(cluster_resolver)\n",
        "  print('Using TPU')\n",
        "elif tf.test.is_gpu_available():\n",
        "  strategy = tf.distribute.MirroredStrategy()\n",
        "  print('Using GPU')\n",
        "else:\n",
        "  raise ValueError('Running on CPU is not recommended.')"
      ],
      "execution_count": 5,
      "outputs": [
        {
          "output_type": "stream",
          "text": [
            "Using TPU\n"
          ],
          "name": "stdout"
        }
      ]
    },
    {
      "cell_type": "code",
      "metadata": {
        "colab": {
          "base_uri": "https://localhost:8080/"
        },
        "id": "M9o4uaNkP6WD",
        "outputId": "3028372d-8d95-42e1-e7a9-833d6c5a2858"
      },
      "source": [
        "# View some info of the TPU in this colaboratory\n",
        "from tensorflow.python.profiler import profiler_client\n",
        "\n",
        "tpu_profile_service_address = os.environ['COLAB_TPU_ADDR'].replace('8470', '8466')\n",
        "print(profiler_client.monitor(tpu_profile_service_address, 100, 2))"
      ],
      "execution_count": 34,
      "outputs": [
        {
          "output_type": "stream",
          "text": [
            "  Timestamp: 07:34:44\n",
            "  TPU type: TPU v2\n",
            "  Utilization of TPU Matrix Units (higher is better): 0.000%\n",
            "\n",
            "\n"
          ],
          "name": "stdout"
        }
      ]
    },
    {
      "cell_type": "code",
      "metadata": {
        "colab": {
          "base_uri": "https://localhost:8080/"
        },
        "id": "nfGVJ-Wfgbw5",
        "outputId": "9abd45ba-d361-4908-81a7-367766b90808"
      },
      "source": [
        "\"\"\"\n",
        "# mixed precision\n",
        "# On TPU, bfloat16/float32 mixed precision is automatically used in TPU computations.\n",
        "# Enabling it in Keras also stores relevant variables in bfloat16 format (memory optimization).\n",
        "# On GPU, specifically V100, mixed precision must be enabled for hardware TensorCores to be used.\n",
        "# XLA compilation must be enabled for this to work. (On TPU, XLA compilation is the default)\n",
        "MIXED_PRECISION = False\n",
        "if MIXED_PRECISION:\n",
        "    if tpu: \n",
        "        policy = tf.keras.mixed_precision.experimental.Policy('mixed_bfloat16')\n",
        "    else: #\n",
        "        policy = tf.keras.mixed_precision.experimental.Policy('mixed_float16')\n",
        "        tf.config.optimizer.set_jit(True) # XLA compilation\n",
        "    tf.keras.mixed_precision.experimental.set_policy(policy)\n",
        "    print('Mixed precision enabled')\n",
        "\n",
        "# batch and learning rate settings\n",
        "if strategy.num_replicas_in_sync == 8: # TPU or 8xGPU\n",
        "    BATCH_SIZE = 16 * strategy.num_replicas_in_sync\n",
        "    VALIDATION_BATCH_SIZE = 16 * strategy.num_replicas_in_sync\n",
        "    print('8')\n",
        "    \n",
        "elif strategy.num_replicas_in_sync == 1: # single GPU\n",
        "    BATCH_SIZE = 16\n",
        "    VALIDATION_BATCH_SIZE = 16\n",
        "    print('1')\n",
        "    \n",
        "else: # TPU pod\n",
        "    BATCH_SIZE = 8 * strategy.num_replicas_in_sync\n",
        "    VALIDATION_BATCH_SIZE = 8 * strategy.num_replicas_in_sync\n",
        "    print('else')\n",
        "\"\"\"    "
      ],
      "execution_count": null,
      "outputs": [
        {
          "output_type": "stream",
          "text": [
            "Mixed precision enabled\n",
            "8\n"
          ],
          "name": "stdout"
        }
      ]
    },
    {
      "cell_type": "code",
      "metadata": {
        "colab": {
          "base_uri": "https://localhost:8080/"
        },
        "id": "nayntnIB4cnV",
        "outputId": "e4e62487-7492-41d9-87cb-d6454ed75946"
      },
      "source": [
        "# Install transformers and download the greek specific file for model and tokenizer\n",
        "# This is done only for testing some inputs\n",
        "# For fine tuning the BERT model we have to load again the model when we build it inside strategy.scope()\n",
        "!pip install transformers\n",
        "from transformers import AutoTokenizer, TFAutoModel\n",
        "from transformers import AdamWeightDecay\n",
        "\n",
        "tokenizer = AutoTokenizer.from_pretrained(\"nlpaueb/bert-base-greek-uncased-v1\")\n",
        "model = TFAutoModel.from_pretrained(\"nlpaueb/bert-base-greek-uncased-v1\")\n"
      ],
      "execution_count": 35,
      "outputs": [
        {
          "output_type": "stream",
          "text": [
            "Requirement already satisfied: transformers in /usr/local/lib/python3.7/dist-packages (4.6.1)\n",
            "Requirement already satisfied: numpy>=1.17 in /usr/local/lib/python3.7/dist-packages (from transformers) (1.19.5)\n",
            "Requirement already satisfied: packaging in /usr/local/lib/python3.7/dist-packages (from transformers) (20.9)\n",
            "Requirement already satisfied: filelock in /usr/local/lib/python3.7/dist-packages (from transformers) (3.0.12)\n",
            "Requirement already satisfied: regex!=2019.12.17 in /usr/local/lib/python3.7/dist-packages (from transformers) (2019.12.20)\n",
            "Requirement already satisfied: requests in /usr/local/lib/python3.7/dist-packages (from transformers) (2.23.0)\n",
            "Requirement already satisfied: sacremoses in /usr/local/lib/python3.7/dist-packages (from transformers) (0.0.45)\n",
            "Requirement already satisfied: tokenizers<0.11,>=0.10.1 in /usr/local/lib/python3.7/dist-packages (from transformers) (0.10.2)\n",
            "Requirement already satisfied: huggingface-hub==0.0.8 in /usr/local/lib/python3.7/dist-packages (from transformers) (0.0.8)\n",
            "Requirement already satisfied: tqdm>=4.27 in /usr/local/lib/python3.7/dist-packages (from transformers) (4.41.1)\n",
            "Requirement already satisfied: importlib-metadata; python_version < \"3.8\" in /usr/local/lib/python3.7/dist-packages (from transformers) (4.0.1)\n",
            "Requirement already satisfied: pyparsing>=2.0.2 in /usr/local/lib/python3.7/dist-packages (from packaging->transformers) (2.4.7)\n",
            "Requirement already satisfied: idna<3,>=2.5 in /usr/local/lib/python3.7/dist-packages (from requests->transformers) (2.10)\n",
            "Requirement already satisfied: urllib3!=1.25.0,!=1.25.1,<1.26,>=1.21.1 in /usr/local/lib/python3.7/dist-packages (from requests->transformers) (1.24.3)\n",
            "Requirement already satisfied: certifi>=2017.4.17 in /usr/local/lib/python3.7/dist-packages (from requests->transformers) (2020.12.5)\n",
            "Requirement already satisfied: chardet<4,>=3.0.2 in /usr/local/lib/python3.7/dist-packages (from requests->transformers) (3.0.4)\n",
            "Requirement already satisfied: six in /usr/local/lib/python3.7/dist-packages (from sacremoses->transformers) (1.15.0)\n",
            "Requirement already satisfied: joblib in /usr/local/lib/python3.7/dist-packages (from sacremoses->transformers) (1.0.1)\n",
            "Requirement already satisfied: click in /usr/local/lib/python3.7/dist-packages (from sacremoses->transformers) (8.0.0)\n",
            "Requirement already satisfied: zipp>=0.5 in /usr/local/lib/python3.7/dist-packages (from importlib-metadata; python_version < \"3.8\"->transformers) (3.4.1)\n",
            "Requirement already satisfied: typing-extensions>=3.6.4; python_version < \"3.8\" in /usr/local/lib/python3.7/dist-packages (from importlib-metadata; python_version < \"3.8\"->transformers) (3.7.4.3)\n"
          ],
          "name": "stdout"
        },
        {
          "output_type": "stream",
          "text": [
            "Some layers from the model checkpoint at nlpaueb/bert-base-greek-uncased-v1 were not used when initializing TFBertModel: ['nsp___cls', 'mlm___cls']\n",
            "- This IS expected if you are initializing TFBertModel from the checkpoint of a model trained on another task or with another architecture (e.g. initializing a BertForSequenceClassification model from a BertForPreTraining model).\n",
            "- This IS NOT expected if you are initializing TFBertModel from the checkpoint of a model that you expect to be exactly identical (initializing a BertForSequenceClassification model from a BertForSequenceClassification model).\n",
            "All the layers of TFBertModel were initialized from the model checkpoint at nlpaueb/bert-base-greek-uncased-v1.\n",
            "If your task is similar to the task the model of the checkpoint was trained on, you can already use TFBertModel for predictions without further training.\n"
          ],
          "name": "stderr"
        }
      ]
    },
    {
      "cell_type": "code",
      "metadata": {
        "colab": {
          "base_uri": "https://localhost:8080/"
        },
        "id": "48NMmZlL4zUz",
        "outputId": "e38f00ac-78f1-47fe-8cd8-66762787c36f"
      },
      "source": [
        "model.summary()\n",
        "print()\n",
        "model\n",
        "print()\n",
        "tokenizer"
      ],
      "execution_count": 8,
      "outputs": [
        {
          "output_type": "stream",
          "text": [
            "Model: \"tf_bert_model\"\n",
            "_________________________________________________________________\n",
            "Layer (type)                 Output Shape              Param #   \n",
            "=================================================================\n",
            "bert (TFBertMainLayer)       multiple                  112921344 \n",
            "=================================================================\n",
            "Total params: 112,921,344\n",
            "Trainable params: 112,921,344\n",
            "Non-trainable params: 0\n",
            "_________________________________________________________________\n",
            "\n",
            "\n"
          ],
          "name": "stdout"
        },
        {
          "output_type": "execute_result",
          "data": {
            "text/plain": [
              "PreTrainedTokenizerFast(name_or_path='nlpaueb/bert-base-greek-uncased-v1', vocab_size=35000, model_max_len=1000000000000000019884624838656, is_fast=True, padding_side='right', special_tokens={'unk_token': '[UNK]', 'sep_token': '[SEP]', 'pad_token': '[PAD]', 'cls_token': '[CLS]', 'mask_token': '[MASK]'})"
            ]
          },
          "metadata": {
            "tags": []
          },
          "execution_count": 8
        }
      ]
    },
    {
      "cell_type": "markdown",
      "metadata": {
        "id": "YANAif3_mOxZ"
      },
      "source": [
        "#GRGE example"
      ]
    },
    {
      "cell_type": "code",
      "metadata": {
        "colab": {
          "base_uri": "https://localhost:8080/",
          "height": 419
        },
        "id": "wKvtu0TGmUgW",
        "outputId": "270dfc5d-12b3-42ae-c4fc-5e753cedf4e4"
      },
      "source": [
        "# Load the .csv file\n",
        "df = pd.read_csv(\"/content/GRGE_sentiment.csv\")\n",
        "df"
      ],
      "execution_count": 9,
      "outputs": [
        {
          "output_type": "execute_result",
          "data": {
            "text/html": [
              "<div>\n",
              "<style scoped>\n",
              "    .dataframe tbody tr th:only-of-type {\n",
              "        vertical-align: middle;\n",
              "    }\n",
              "\n",
              "    .dataframe tbody tr th {\n",
              "        vertical-align: top;\n",
              "    }\n",
              "\n",
              "    .dataframe thead th {\n",
              "        text-align: right;\n",
              "    }\n",
              "</style>\n",
              "<table border=\"1\" class=\"dataframe\">\n",
              "  <thead>\n",
              "    <tr style=\"text-align: right;\">\n",
              "      <th></th>\n",
              "      <th>Unnamed: 0</th>\n",
              "      <th>Text</th>\n",
              "      <th>Polarity1</th>\n",
              "    </tr>\n",
              "  </thead>\n",
              "  <tbody>\n",
              "    <tr>\n",
              "      <th>0</th>\n",
              "      <td>0</td>\n",
              "      <td>Επιχείρηση Βολευτική έδρα!  Βασίλης Οικονόμου:...</td>\n",
              "      <td>Negative</td>\n",
              "    </tr>\n",
              "    <tr>\n",
              "      <th>1</th>\n",
              "      <td>1</td>\n",
              "      <td>Κ ά β ο ς: Ψηφοδέλτιο ΣΥΡΙΖΑ Κορινθίας - Πού π...</td>\n",
              "      <td>Negative</td>\n",
              "    </tr>\n",
              "    <tr>\n",
              "      <th>2</th>\n",
              "      <td>2</td>\n",
              "      <td>@Dora_Bakoyannis Αυτο-καρφώνεσαι όταν αναρωτιέ...</td>\n",
              "      <td>Positive</td>\n",
              "    </tr>\n",
              "    <tr>\n",
              "      <th>3</th>\n",
              "      <td>3</td>\n",
              "      <td>Κόμμα «σκαντζόχοιρος»: «Σφαγή» πασοκογενών από...</td>\n",
              "      <td>Neutral</td>\n",
              "    </tr>\n",
              "    <tr>\n",
              "      <th>4</th>\n",
              "      <td>4</td>\n",
              "      <td>Και γαμώ και την Νέα Δημοκρατία γιατί ειμαι πο...</td>\n",
              "      <td>Negative</td>\n",
              "    </tr>\n",
              "    <tr>\n",
              "      <th>...</th>\n",
              "      <td>...</td>\n",
              "      <td>...</td>\n",
              "      <td>...</td>\n",
              "    </tr>\n",
              "    <tr>\n",
              "      <th>1635</th>\n",
              "      <td>1635</td>\n",
              "      <td>Κουτσούμπας: Δεν θα γίνουμε κερασάκι στην αντι...</td>\n",
              "      <td>Negative</td>\n",
              "    </tr>\n",
              "    <tr>\n",
              "      <th>1636</th>\n",
              "      <td>1636</td>\n",
              "      <td>Θέλουμε μια Ελλάδα με πολιτικούς σαν την κ.Φωτ...</td>\n",
              "      <td>Negative</td>\n",
              "    </tr>\n",
              "    <tr>\n",
              "      <th>1637</th>\n",
              "      <td>1637</td>\n",
              "      <td>Για διαχωρισμό κράτους-εκκλησίας, ομόφυλο γάμο...</td>\n",
              "      <td>Negative</td>\n",
              "    </tr>\n",
              "    <tr>\n",
              "      <th>1638</th>\n",
              "      <td>1638</td>\n",
              "      <td>ΓΙΑΝΝΕΝΑ:Στην πρώτη γραμμή της προεκλογικής μά...</td>\n",
              "      <td>Neutral</td>\n",
              "    </tr>\n",
              "    <tr>\n",
              "      <th>1639</th>\n",
              "      <td>1639</td>\n",
              "      <td>Σημαντικό βήμα για την αποφυγή της επερχόμενης...</td>\n",
              "      <td>Neutral</td>\n",
              "    </tr>\n",
              "  </tbody>\n",
              "</table>\n",
              "<p>1640 rows × 3 columns</p>\n",
              "</div>"
            ],
            "text/plain": [
              "      Unnamed: 0                                               Text Polarity1\n",
              "0              0  Επιχείρηση Βολευτική έδρα!  Βασίλης Οικονόμου:...  Negative\n",
              "1              1  Κ ά β ο ς: Ψηφοδέλτιο ΣΥΡΙΖΑ Κορινθίας - Πού π...  Negative\n",
              "2              2  @Dora_Bakoyannis Αυτο-καρφώνεσαι όταν αναρωτιέ...  Positive\n",
              "3              3  Κόμμα «σκαντζόχοιρος»: «Σφαγή» πασοκογενών από...   Neutral\n",
              "4              4  Και γαμώ και την Νέα Δημοκρατία γιατί ειμαι πο...  Negative\n",
              "...          ...                                                ...       ...\n",
              "1635        1635  Κουτσούμπας: Δεν θα γίνουμε κερασάκι στην αντι...  Negative\n",
              "1636        1636  Θέλουμε μια Ελλάδα με πολιτικούς σαν την κ.Φωτ...  Negative\n",
              "1637        1637  Για διαχωρισμό κράτους-εκκλησίας, ομόφυλο γάμο...  Negative\n",
              "1638        1638  ΓΙΑΝΝΕΝΑ:Στην πρώτη γραμμή της προεκλογικής μά...   Neutral\n",
              "1639        1639  Σημαντικό βήμα για την αποφυγή της επερχόμενης...   Neutral\n",
              "\n",
              "[1640 rows x 3 columns]"
            ]
          },
          "metadata": {
            "tags": []
          },
          "execution_count": 9
        }
      ]
    },
    {
      "cell_type": "code",
      "metadata": {
        "colab": {
          "base_uri": "https://localhost:8080/"
        },
        "id": "OS3kqGiKmkGA",
        "outputId": "60ee83d7-eb7c-41c0-bdd8-0396eb47ebf1"
      },
      "source": [
        "#View frst 10 entries\n",
        "text_list = df['Text'].to_list()\n",
        "print(text_list[:10])\n",
        "polarity = df[\"Polarity1\"].to_list()\n",
        "print(polarity[:10])"
      ],
      "execution_count": 36,
      "outputs": [
        {
          "output_type": "stream",
          "text": [
            "['Επιχείρηση Βολευτική έδρα!  Βασίλης Οικονόμου:  Από το ΠΑΣΟΚ διαγράφηκε απο το ΓΑΠ επειδη ΔΕΝ ψήφισε το Μνημόνιο... http://t.co/gPgr1Caqxv', 'Κ ά β ο ς: Ψηφοδέλτιο ΣΥΡΙΖΑ Κορινθίας - Πού πας,ΣΥΡΙΖΑ, με δράμι μυαλό... http://t.co/8eIiKYS7CP', '@Dora_Bakoyannis Αυτο-καρφώνεσαι όταν αναρωτιέσαι ποιον ΠτΔ θα προτείνει ο ΣΥΡΙΖΑ  αποδεχόμενη την νίκη του αντιπάλου.', 'Κόμμα «σκαντζόχοιρος»: «Σφαγή» πασοκογενών από τις λίστες του ΣΥΡΙΖΑ http://t.co/rC7EY67qFY', 'Και γαμώ και την Νέα Δημοκρατία γιατί ειμαι πολιτικο ακκάουντ στην τελική όχι κλαψομούνικο!!!!', 'Ε. Καϊλή: «Ηθικό ζήτημα που θα κριθεί από τον κόσμο» η μετακίνηση της Γκερέκου στη ΝΔ http://t.co/Q4oYSfJjZZ', 'ΔΙΑΒΑΣΤΕ ΣΗΜΕΡΑ ΣΤΗΝ KONTRA NEWS : ΣΙΓΟΥΡΗ ΠΛΕΟΝ Η ΑΥΤΟΔΥΝΑΜΙΑ ΤΟΥ ΣΥΡΙΖΑ ΚΑΘΑΡΙΣΕ Ο ΣΑΜΑΡΑΣ ΓΙΑ ΤΟΝ ΑΛΕΞΗ ΔΥΟ... http://t.co/JZV7IHUTw1', 'Συμφωνεί ο ΣΥΡΙΖΑ στα Εθνικά θέματα με τον Τρεμόπουλο; Ο “οικολόγος” Μιχ. Τρεμόπουλος, εκείνος που είχε αναφέρ... http://t.co/nqFAZKAQO5', 'Τα μέτρα του ΣΥΡΙΖΑ ενάντια στη διαπλοκή http://t.co/XklqakuOyx via @youtube', 'Η επιστολή αποχώρησης από το ΠΑΣΟΚ για τον\\xa0Παπανδρέου http://t.co/lq9Fq6ylxq']\n",
            "['Negative', 'Negative', 'Positive', 'Neutral', 'Negative', 'Neutral', 'Neutral', 'Neutral', 'Neutral', 'Neutral']\n"
          ],
          "name": "stdout"
        }
      ]
    },
    {
      "cell_type": "code",
      "metadata": {
        "colab": {
          "base_uri": "https://localhost:8080/"
        },
        "id": "Cpe5adItmvc1",
        "outputId": "2ae29a5c-d579-41b5-af49-763f451097fe"
      },
      "source": [
        "# Prepare input data for training\n",
        "def my_func(arg):\n",
        "  arg = tf.convert_to_tensor(arg, dtype=tf.string)\n",
        "  return arg\n",
        "\n",
        "train_x = my_func(np.array(text_list))\n",
        "print(train_x)"
      ],
      "execution_count": 37,
      "outputs": [
        {
          "output_type": "stream",
          "text": [
            "tf.Tensor(\n",
            "[b'\\xce\\x95\\xcf\\x80\\xce\\xb9\\xcf\\x87\\xce\\xb5\\xce\\xaf\\xcf\\x81\\xce\\xb7\\xcf\\x83\\xce\\xb7 \\xce\\x92\\xce\\xbf\\xce\\xbb\\xce\\xb5\\xcf\\x85\\xcf\\x84\\xce\\xb9\\xce\\xba\\xce\\xae \\xce\\xad\\xce\\xb4\\xcf\\x81\\xce\\xb1!  \\xce\\x92\\xce\\xb1\\xcf\\x83\\xce\\xaf\\xce\\xbb\\xce\\xb7\\xcf\\x82 \\xce\\x9f\\xce\\xb9\\xce\\xba\\xce\\xbf\\xce\\xbd\\xcf\\x8c\\xce\\xbc\\xce\\xbf\\xcf\\x85:  \\xce\\x91\\xcf\\x80\\xcf\\x8c \\xcf\\x84\\xce\\xbf \\xce\\xa0\\xce\\x91\\xce\\xa3\\xce\\x9f\\xce\\x9a \\xce\\xb4\\xce\\xb9\\xce\\xb1\\xce\\xb3\\xcf\\x81\\xce\\xac\\xcf\\x86\\xce\\xb7\\xce\\xba\\xce\\xb5 \\xce\\xb1\\xcf\\x80\\xce\\xbf \\xcf\\x84\\xce\\xbf \\xce\\x93\\xce\\x91\\xce\\xa0 \\xce\\xb5\\xcf\\x80\\xce\\xb5\\xce\\xb9\\xce\\xb4\\xce\\xb7 \\xce\\x94\\xce\\x95\\xce\\x9d \\xcf\\x88\\xce\\xae\\xcf\\x86\\xce\\xb9\\xcf\\x83\\xce\\xb5 \\xcf\\x84\\xce\\xbf \\xce\\x9c\\xce\\xbd\\xce\\xb7\\xce\\xbc\\xcf\\x8c\\xce\\xbd\\xce\\xb9\\xce\\xbf... http://t.co/gPgr1Caqxv'\n",
            " b'\\xce\\x9a \\xce\\xac \\xce\\xb2 \\xce\\xbf \\xcf\\x82: \\xce\\xa8\\xce\\xb7\\xcf\\x86\\xce\\xbf\\xce\\xb4\\xce\\xad\\xce\\xbb\\xcf\\x84\\xce\\xb9\\xce\\xbf \\xce\\xa3\\xce\\xa5\\xce\\xa1\\xce\\x99\\xce\\x96\\xce\\x91 \\xce\\x9a\\xce\\xbf\\xcf\\x81\\xce\\xb9\\xce\\xbd\\xce\\xb8\\xce\\xaf\\xce\\xb1\\xcf\\x82 - \\xce\\xa0\\xce\\xbf\\xcf\\x8d \\xcf\\x80\\xce\\xb1\\xcf\\x82,\\xce\\xa3\\xce\\xa5\\xce\\xa1\\xce\\x99\\xce\\x96\\xce\\x91, \\xce\\xbc\\xce\\xb5 \\xce\\xb4\\xcf\\x81\\xce\\xac\\xce\\xbc\\xce\\xb9 \\xce\\xbc\\xcf\\x85\\xce\\xb1\\xce\\xbb\\xcf\\x8c... http://t.co/8eIiKYS7CP'\n",
            " b'@Dora_Bakoyannis \\xce\\x91\\xcf\\x85\\xcf\\x84\\xce\\xbf-\\xce\\xba\\xce\\xb1\\xcf\\x81\\xcf\\x86\\xcf\\x8e\\xce\\xbd\\xce\\xb5\\xcf\\x83\\xce\\xb1\\xce\\xb9 \\xcf\\x8c\\xcf\\x84\\xce\\xb1\\xce\\xbd \\xce\\xb1\\xce\\xbd\\xce\\xb1\\xcf\\x81\\xcf\\x89\\xcf\\x84\\xce\\xb9\\xce\\xad\\xcf\\x83\\xce\\xb1\\xce\\xb9 \\xcf\\x80\\xce\\xbf\\xce\\xb9\\xce\\xbf\\xce\\xbd \\xce\\xa0\\xcf\\x84\\xce\\x94 \\xce\\xb8\\xce\\xb1 \\xcf\\x80\\xcf\\x81\\xce\\xbf\\xcf\\x84\\xce\\xb5\\xce\\xaf\\xce\\xbd\\xce\\xb5\\xce\\xb9 \\xce\\xbf \\xce\\xa3\\xce\\xa5\\xce\\xa1\\xce\\x99\\xce\\x96\\xce\\x91  \\xce\\xb1\\xcf\\x80\\xce\\xbf\\xce\\xb4\\xce\\xb5\\xcf\\x87\\xcf\\x8c\\xce\\xbc\\xce\\xb5\\xce\\xbd\\xce\\xb7 \\xcf\\x84\\xce\\xb7\\xce\\xbd \\xce\\xbd\\xce\\xaf\\xce\\xba\\xce\\xb7 \\xcf\\x84\\xce\\xbf\\xcf\\x85 \\xce\\xb1\\xce\\xbd\\xcf\\x84\\xce\\xb9\\xcf\\x80\\xce\\xac\\xce\\xbb\\xce\\xbf\\xcf\\x85.'\n",
            " ...\n",
            " b'\\xce\\x93\\xce\\xb9\\xce\\xb1 \\xce\\xb4\\xce\\xb9\\xce\\xb1\\xcf\\x87\\xcf\\x89\\xcf\\x81\\xce\\xb9\\xcf\\x83\\xce\\xbc\\xcf\\x8c \\xce\\xba\\xcf\\x81\\xce\\xac\\xcf\\x84\\xce\\xbf\\xcf\\x85\\xcf\\x82-\\xce\\xb5\\xce\\xba\\xce\\xba\\xce\\xbb\\xce\\xb7\\xcf\\x83\\xce\\xaf\\xce\\xb1\\xcf\\x82, \\xce\\xbf\\xce\\xbc\\xcf\\x8c\\xcf\\x86\\xcf\\x85\\xce\\xbb\\xce\\xbf \\xce\\xb3\\xce\\xac\\xce\\xbc\\xce\\xbf \\xce\\xba\\xce\\xb1\\xce\\xb9 \\xcf\\x85\\xce\\xb9\\xce\\xbf\\xce\\xb8\\xce\\xb5\\xcf\\x83\\xce\\xaf\\xce\\xb1, \\xce\\xbf \\xce\\xa3\\xcf\\x85\\xce\\xa1\\xce\\xb9\\xce\\xb6\\xce\\x91 \\xce\\xb2\\xcf\\x81\\xce\\xaf\\xcf\\x83\\xce\\xba\\xce\\xb5\\xcf\\x84\\xce\\xb1\\xce\\xb9 \\xce\\xb4\\xce\\xb5\\xce\\xbe\\xce\\xb9\\xce\\xac \\xcf\\x84\\xce\\xbf\\xcf\\x85 \\xce\\x9f\\xce\\xbc\\xcf\\x80\\xce\\xac\\xce\\xbc\\xce\\xb1. MT @asteris Even Obama stayed liberal on'\n",
            " b'\\xce\\x93\\xce\\x99\\xce\\x91\\xce\\x9d\\xce\\x9d\\xce\\x95\\xce\\x9d\\xce\\x91:\\xce\\xa3\\xcf\\x84\\xce\\xb7\\xce\\xbd \\xcf\\x80\\xcf\\x81\\xcf\\x8e\\xcf\\x84\\xce\\xb7 \\xce\\xb3\\xcf\\x81\\xce\\xb1\\xce\\xbc\\xce\\xbc\\xce\\xae \\xcf\\x84\\xce\\xb7\\xcf\\x82 \\xcf\\x80\\xcf\\x81\\xce\\xbf\\xce\\xb5\\xce\\xba\\xce\\xbb\\xce\\xbf\\xce\\xb3\\xce\\xb9\\xce\\xba\\xce\\xae\\xcf\\x82 \\xce\\xbc\\xce\\xac\\xcf\\x87\\xce\\xb7\\xcf\\x82 \\xce\\xb3\\xce\\xb9\\xce\\xb1 \\xcf\\x84\\xce\\xbf \\xce\\xa0\\xce\\x91\\xce\\xa3\\xce\\x9f\\xce\\x9a \\xce\\xbf \\xce\\xa3\\xcf\\x89\\xcf\\x84\\xce\\xae\\xcf\\x81\\xce\\xb7\\xcf\\x82 \\xce\\x96\\xce\\xb1\\xcf\\x81\\xcf\\x80\\xce\\xb1\\xce\\xbb\\xce\\xac\\xcf\\x82: \\xce\\xa4\\xce\\xb7\\xce\\xbd \\xcf\\x80\\xce\\xb5\\xcf\\x80\\xce\\xbf\\xce\\xaf\\xce\\xb8\\xce\\xb7\\xcf\\x83\\xce\\xb7 \\xcf\\x84\\xce\\xbf\\xcf\\x85 \\xcf\\x8c\\xcf\\x84\\xce\\xb9 \\xcf\\x84\\xce\\xb5\\xce\\xbb\\xce\\xb9\\xce\\xba... http://t.co/zTRCCPuXmh'\n",
            " b'\\xce\\xa3\\xce\\xb7\\xce\\xbc\\xce\\xb1\\xce\\xbd\\xcf\\x84\\xce\\xb9\\xce\\xba\\xcf\\x8c \\xce\\xb2\\xce\\xae\\xce\\xbc\\xce\\xb1 \\xce\\xb3\\xce\\xb9\\xce\\xb1 \\xcf\\x84\\xce\\xb7\\xce\\xbd \\xce\\xb1\\xcf\\x80\\xce\\xbf\\xcf\\x86\\xcf\\x85\\xce\\xb3\\xce\\xae \\xcf\\x84\\xce\\xb7\\xcf\\x82 \\xce\\xb5\\xcf\\x80\\xce\\xb5\\xcf\\x81\\xcf\\x87\\xcf\\x8c\\xce\\xbc\\xce\\xb5\\xce\\xbd\\xce\\xb7\\xcf\\x82 \\xcf\\x80\\xce\\xbf\\xce\\xbb\\xce\\xb9\\xcf\\x84\\xce\\xb9\\xce\\xba\\xce\\xae\\xcf\\x82 \\xce\\xba\\xcf\\x81\\xce\\xaf\\xcf\\x83\\xce\\xb7\\xcf\\x82 \\xce\\xb8\\xce\\xb1 \\xce\\xae\\xcf\\x84\\xce\\xb1\\xce\\xbd \\xce\\xb7 \\xce\\xb5\\xce\\xba\\xce\\xbb\\xce\\xbf\\xce\\xb3\\xce\\xb9\\xce\\xba\\xce\\xae \\xcf\\x83\\xcf\\x8d\\xce\\xbc\\xcf\\x80\\xcf\\x81\\xce\\xb1\\xce\\xbe\\xce\\xb7 \\xcf\\x80\\xce\\xb1\\xcf\\x83\\xcf\\x8c\\xce\\xba \\xcf\\x80\\xce\\xbf\\xcf\\x84\\xce\\xb1\\xce\\xbc\\xce\\xb9\\xce\\xbf\\xcf\\x8d. \\xce\\x91\\xcf\\x82 \\xce\\xb5\\xce\\xbb\\xcf\\x80\\xce\\xaf\\xcf\\x83\\xce\\xbf\\xcf\\x85\\xce\\xbc\\xce\\xb5 \\xce\\xbc\\xce\\xb5\\xcf\\x84\\xce\\xac \\xcf\\x84\\xce\\xb9\\xcf\\x82 25.'], shape=(1640,), dtype=string)\n"
          ],
          "name": "stdout"
        }
      ]
    },
    {
      "cell_type": "code",
      "metadata": {
        "colab": {
          "base_uri": "https://localhost:8080/"
        },
        "id": "f2Ut2r5Rmwxg",
        "outputId": "8b86455b-c156-4937-fcc5-687543bb9064"
      },
      "source": [
        "#Prepare labels for training\n",
        "encoded_labels = []\n",
        "\n",
        "for i in polarity:\n",
        "  if i == 'Negative':\n",
        "    encoded_labels.append(0)\n",
        "  elif i == 'Positive':\n",
        "    encoded_labels.append(1)\n",
        "  elif i == 'Neutral':\n",
        "    encoded_labels.append(2)\n",
        "    \n",
        "print(encoded_labels)\n",
        "print(len(encoded_labels))\n",
        "\n",
        "transformed_encoded_labels = np.array(encoded_labels)\n",
        "print(transformed_encoded_labels)"
      ],
      "execution_count": 38,
      "outputs": [
        {
          "output_type": "stream",
          "text": [
            "[0, 0, 1, 2, 0, 2, 2, 2, 2, 2, 2, 0, 2, 2, 2, 2, 2, 2, 2, 0, 2, 2, 2, 0, 0, 2, 0, 2, 2, 2, 2, 2, 2, 2, 2, 2, 2, 2, 2, 2, 2, 2, 2, 2, 2, 2, 0, 2, 2, 2, 2, 1, 2, 2, 2, 0, 2, 2, 0, 0, 2, 2, 2, 2, 2, 0, 2, 2, 2, 2, 2, 0, 0, 0, 2, 2, 2, 2, 2, 2, 0, 2, 0, 0, 2, 0, 2, 2, 2, 2, 2, 2, 2, 2, 2, 2, 0, 0, 2, 2, 0, 2, 2, 2, 2, 2, 0, 2, 2, 2, 2, 0, 2, 2, 0, 2, 2, 0, 2, 2, 2, 2, 0, 2, 2, 2, 2, 2, 2, 2, 2, 2, 0, 2, 2, 2, 2, 2, 2, 2, 2, 2, 0, 2, 0, 2, 2, 0, 0, 2, 2, 0, 2, 2, 2, 2, 2, 2, 2, 2, 2, 2, 0, 0, 2, 2, 2, 2, 2, 2, 2, 2, 2, 2, 0, 2, 2, 2, 2, 2, 2, 2, 2, 2, 2, 2, 2, 2, 2, 2, 2, 2, 2, 2, 2, 2, 2, 2, 2, 2, 2, 2, 2, 2, 2, 2, 2, 2, 0, 2, 2, 2, 2, 0, 2, 2, 0, 2, 2, 2, 2, 2, 2, 0, 2, 2, 2, 2, 2, 2, 2, 2, 2, 0, 2, 2, 0, 2, 2, 2, 2, 2, 2, 2, 2, 0, 2, 0, 2, 0, 2, 2, 0, 2, 2, 2, 2, 2, 2, 2, 2, 2, 0, 0, 2, 2, 2, 2, 2, 2, 2, 0, 2, 0, 2, 2, 2, 0, 0, 0, 2, 2, 2, 0, 0, 0, 2, 0, 2, 2, 2, 2, 2, 2, 2, 0, 2, 1, 2, 2, 0, 2, 2, 2, 2, 2, 2, 2, 0, 2, 2, 2, 0, 0, 2, 2, 2, 2, 2, 2, 0, 0, 2, 2, 0, 2, 2, 2, 0, 2, 2, 2, 0, 2, 2, 2, 2, 0, 0, 0, 2, 2, 2, 0, 2, 2, 0, 2, 2, 0, 2, 0, 2, 2, 2, 2, 2, 2, 2, 2, 2, 2, 0, 0, 2, 0, 2, 2, 2, 0, 2, 2, 2, 0, 2, 2, 2, 0, 0, 2, 2, 2, 2, 2, 2, 2, 2, 2, 2, 2, 2, 0, 2, 0, 0, 0, 2, 2, 2, 2, 0, 2, 0, 2, 0, 2, 2, 0, 0, 0, 2, 0, 0, 2, 2, 2, 2, 2, 2, 2, 0, 2, 2, 0, 2, 2, 2, 0, 2, 2, 0, 0, 2, 0, 0, 0, 2, 0, 2, 2, 2, 2, 0, 2, 2, 0, 2, 0, 0, 2, 0, 2, 2, 2, 2, 0, 2, 2, 2, 2, 0, 0, 2, 0, 2, 2, 2, 2, 0, 2, 2, 2, 2, 2, 2, 2, 0, 0, 0, 0, 0, 0, 2, 0, 0, 0, 0, 2, 0, 2, 2, 2, 2, 2, 2, 2, 2, 2, 2, 2, 0, 2, 2, 0, 0, 2, 2, 0, 2, 2, 2, 2, 2, 2, 0, 2, 0, 0, 0, 2, 0, 2, 2, 2, 2, 2, 2, 2, 0, 0, 0, 2, 0, 2, 2, 0, 2, 2, 0, 0, 2, 0, 0, 2, 0, 0, 2, 0, 2, 2, 0, 2, 2, 0, 0, 0, 2, 2, 0, 2, 2, 0, 0, 2, 0, 2, 2, 2, 2, 2, 2, 0, 2, 2, 2, 2, 0, 0, 0, 2, 2, 0, 0, 2, 0, 0, 2, 2, 2, 2, 2, 2, 2, 2, 2, 2, 2, 2, 2, 2, 2, 0, 2, 2, 2, 2, 0, 0, 0, 2, 0, 2, 2, 2, 2, 2, 2, 2, 2, 2, 2, 0, 0, 2, 2, 2, 1, 2, 2, 2, 2, 2, 2, 0, 2, 2, 2, 2, 2, 0, 0, 0, 2, 2, 2, 0, 2, 0, 0, 2, 0, 2, 2, 0, 2, 0, 2, 2, 2, 2, 0, 2, 0, 2, 2, 2, 0, 2, 2, 2, 0, 2, 2, 0, 2, 2, 2, 1, 0, 2, 2, 0, 0, 2, 2, 2, 2, 2, 2, 2, 2, 2, 0, 2, 2, 0, 0, 0, 0, 1, 2, 1, 2, 0, 2, 0, 2, 2, 2, 1, 1, 0, 1, 2, 0, 0, 0, 2, 2, 2, 0, 1, 0, 0, 0, 2, 2, 2, 2, 0, 0, 2, 2, 2, 2, 0, 0, 2, 1, 0, 0, 0, 0, 0, 0, 0, 0, 2, 2, 2, 2, 2, 2, 2, 0, 1, 0, 1, 0, 2, 1, 0, 1, 0, 0, 2, 0, 0, 0, 2, 2, 2, 1, 2, 2, 2, 2, 0, 2, 1, 0, 1, 2, 0, 0, 2, 2, 2, 0, 0, 0, 2, 2, 0, 1, 1, 0, 1, 0, 2, 0, 0, 2, 1, 0, 0, 2, 2, 1, 2, 2, 2, 0, 0, 2, 0, 0, 2, 2, 2, 0, 0, 0, 0, 2, 2, 0, 0, 0, 2, 0, 0, 2, 2, 0, 2, 1, 0, 1, 0, 2, 0, 2, 1, 0, 0, 0, 0, 2, 0, 1, 2, 2, 2, 0, 2, 0, 0, 0, 1, 2, 0, 0, 0, 0, 0, 2, 0, 0, 2, 2, 2, 0, 2, 2, 2, 2, 2, 2, 2, 2, 2, 2, 0, 0, 1, 0, 2, 0, 0, 2, 0, 1, 0, 1, 2, 2, 0, 2, 2, 2, 0, 1, 2, 0, 0, 0, 2, 2, 2, 2, 2, 2, 2, 2, 2, 0, 0, 2, 2, 0, 0, 2, 2, 2, 2, 2, 2, 0, 2, 2, 2, 2, 2, 0, 0, 2, 1, 1, 0, 0, 2, 1, 2, 2, 1, 1, 2, 0, 0, 0, 2, 2, 2, 0, 0, 0, 0, 2, 2, 0, 2, 0, 2, 0, 0, 0, 2, 2, 0, 0, 2, 0, 0, 0, 1, 0, 0, 0, 2, 2, 2, 2, 0, 0, 0, 2, 2, 0, 0, 2, 0, 0, 0, 0, 0, 0, 0, 2, 0, 0, 0, 2, 0, 0, 0, 0, 2, 2, 2, 2, 2, 2, 0, 0, 2, 0, 2, 0, 2, 2, 1, 0, 0, 0, 0, 2, 2, 2, 2, 1, 2, 2, 0, 2, 2, 2, 2, 2, 2, 0, 2, 1, 0, 2, 2, 2, 2, 0, 2, 0, 0, 2, 2, 0, 2, 2, 0, 0, 0, 0, 2, 0, 0, 0, 2, 2, 0, 2, 0, 0, 2, 0, 0, 2, 2, 0, 0, 0, 2, 0, 2, 0, 2, 2, 0, 1, 0, 1, 0, 1, 2, 1, 2, 2, 2, 0, 0, 2, 2, 0, 0, 0, 0, 2, 0, 2, 0, 0, 2, 2, 2, 0, 2, 2, 0, 1, 2, 0, 2, 2, 2, 2, 2, 1, 2, 2, 2, 2, 2, 0, 2, 2, 2, 0, 0, 0, 0, 2, 0, 1, 0, 2, 0, 2, 0, 0, 0, 0, 0, 2, 0, 2, 0, 0, 2, 2, 0, 0, 0, 0, 0, 1, 2, 0, 2, 2, 0, 2, 0, 1, 0, 0, 2, 0, 2, 2, 2, 0, 0, 1, 0, 1, 2, 0, 0, 2, 0, 2, 0, 0, 2, 2, 2, 0, 2, 0, 0, 0, 1, 2, 0, 0, 1, 1, 0, 0, 2, 0, 0, 0, 2, 2, 0, 2, 0, 2, 2, 2, 0, 0, 0, 0, 0, 0, 0, 0, 2, 2, 0, 2, 0, 1, 0, 0, 0, 2, 0, 0, 0, 2, 0, 0, 0, 0, 0, 0, 0, 0, 0, 1, 1, 2, 0, 0, 0, 1, 2, 0, 0, 2, 0, 1, 0, 0, 0, 2, 2, 0, 0, 0, 2, 0, 0, 0, 0, 2, 2, 1, 1, 1, 2, 0, 2, 0, 0, 0, 2, 0, 0, 0, 2, 0, 2, 0, 2, 0, 2, 2, 0, 2, 2, 2, 2, 2, 0, 2, 2, 2, 2, 2, 1, 0, 2, 2, 0, 0, 2, 2, 2, 0, 2, 2, 2, 2, 2, 2, 2, 0, 0, 2, 2, 0, 0, 2, 0, 2, 0, 2, 2, 2, 2, 0, 0, 2, 2, 2, 2, 2, 0, 2, 2, 1, 2, 2, 0, 2, 2, 0, 2, 0, 0, 2, 0, 1, 0, 2, 2, 2, 2, 2, 2, 0, 2, 2, 2, 1, 2, 2, 1, 1, 0, 0, 2, 2, 1, 2, 2, 0, 0, 0, 0, 2, 2, 0, 0, 1, 2, 0, 0, 2, 2, 0, 2, 0, 2, 2, 2, 0, 2, 2, 0, 2, 0, 0, 0, 2, 2, 2, 1, 0, 2, 0, 2, 1, 0, 0, 2, 2, 2, 0, 2, 2, 2, 2, 2, 2, 2, 2, 2, 0, 0, 2, 2, 2, 2, 2, 0, 2, 2, 0, 2, 0, 2, 0, 2, 2, 2, 2, 2, 1, 0, 2, 1, 1, 2, 2, 2, 2, 0, 2, 2, 2, 0, 2, 0, 2, 2, 0, 2, 2, 0, 2, 0, 2, 2, 2, 2, 2, 2, 0, 2, 2, 2, 2, 1, 2, 2, 2, 0, 2, 2, 0, 2, 2, 0, 2, 2, 0, 0, 2, 0, 0, 2, 2, 2, 2, 2, 2, 0, 0, 0, 0, 2, 2, 0, 2, 2, 0, 2, 2, 0, 2, 0, 2, 2, 2, 2, 2, 2, 2, 2, 2, 2, 2, 2, 2, 2, 1, 2, 2, 2, 2, 2, 2, 0, 2, 2, 2, 2, 0, 0, 0, 2, 2, 2, 2, 0, 2, 0, 2, 0, 0, 0, 2, 0, 2, 0, 2, 0, 0, 0, 2, 0, 2, 2, 2, 2, 2, 0, 0, 2, 0, 2, 2, 2, 0, 2, 0, 0, 0, 2, 2, 2, 0, 2, 2, 0, 2, 2, 2, 2, 0, 2, 2, 2, 2, 2, 2, 2, 2, 2, 2, 0, 0, 0, 0, 0, 2, 2, 2, 2, 2, 2, 2, 0, 0, 0, 2, 2]\n",
            "1640\n",
            "[0 0 1 ... 0 2 2]\n"
          ],
          "name": "stdout"
        }
      ]
    },
    {
      "cell_type": "code",
      "metadata": {
        "colab": {
          "base_uri": "https://localhost:8080/"
        },
        "id": "4Q1UaNy8m5ba",
        "outputId": "cd4b5658-24d6-419b-d183-7e6e1fec8c46"
      },
      "source": [
        "#Convert caegorical labels to tensor\n",
        "labels_split_categorical = to_categorical(encoded_labels)\n",
        "print(labels_split_categorical)\n",
        "\n",
        "# Prepare the labels data\n",
        "def my_func_float(arg):\n",
        "  arg = tf.convert_to_tensor(arg, dtype=tf.float32)\n",
        "  return arg\n",
        "\n",
        "train_labels = my_func_float(labels_split_categorical) \n",
        "print(train_labels)"
      ],
      "execution_count": 13,
      "outputs": [
        {
          "output_type": "stream",
          "text": [
            "[[1. 0. 0.]\n",
            " [1. 0. 0.]\n",
            " [0. 1. 0.]\n",
            " ...\n",
            " [1. 0. 0.]\n",
            " [0. 0. 1.]\n",
            " [0. 0. 1.]]\n",
            "tf.Tensor(\n",
            "[[1. 0. 0.]\n",
            " [1. 0. 0.]\n",
            " [0. 1. 0.]\n",
            " ...\n",
            " [1. 0. 0.]\n",
            " [0. 0. 1.]\n",
            " [0. 0. 1.]], shape=(1640, 3), dtype=float32)\n"
          ],
          "name": "stdout"
        }
      ]
    },
    {
      "cell_type": "code",
      "metadata": {
        "id": "pEBXWXNem8Kp"
      },
      "source": [
        ""
      ],
      "execution_count": null,
      "outputs": []
    },
    {
      "cell_type": "markdown",
      "metadata": {
        "id": "fWfdbPGI7cGR"
      },
      "source": [
        "#Models"
      ]
    },
    {
      "cell_type": "code",
      "metadata": {
        "colab": {
          "base_uri": "https://localhost:8080/"
        },
        "id": "RZuf10rW7ws1",
        "outputId": "06c32178-99c9-403c-b830-573c7e0f65c5"
      },
      "source": [
        "tfhub_handle_encoder = model\n",
        "tfhub_handle_preprocess = tokenizer\n",
        "\n",
        "print(f'BERT model selected: {tfhub_handle_encoder}')\n",
        "print(f'Preprocess model: {tfhub_handle_preprocess}')\n",
        "\n",
        "bert_preprocess_model = hub.KerasLayer(tfhub_handle_preprocess)\n",
        "bert_model = hub.KerasLayer(tfhub_handle_encoder)"
      ],
      "execution_count": 39,
      "outputs": [
        {
          "output_type": "stream",
          "text": [
            "BERT model selected: <transformers.models.bert.modeling_tf_bert.TFBertModel object at 0x7f61799af550>\n",
            "Preprocess model: PreTrainedTokenizerFast(name_or_path='nlpaueb/bert-base-greek-uncased-v1', vocab_size=35000, model_max_len=1000000000000000019884624838656, is_fast=True, padding_side='right', special_tokens={'unk_token': '[UNK]', 'sep_token': '[SEP]', 'pad_token': '[PAD]', 'cls_token': '[CLS]', 'mask_token': '[MASK]'})\n"
          ],
          "name": "stdout"
        }
      ]
    },
    {
      "cell_type": "markdown",
      "metadata": {
        "id": "wvoECpV-M4lK"
      },
      "source": [
        "#Test an input to the model"
      ]
    },
    {
      "cell_type": "code",
      "metadata": {
        "colab": {
          "base_uri": "https://localhost:8080/"
        },
        "id": "WRwZfzqT99mv",
        "outputId": "71ee71be-29aa-4ef4-c508-b5a300c91a2e"
      },
      "source": [
        "text_test = ['αυτή ήταν μια φανταστική ταινία!']\n",
        "text_preprocessed = bert_preprocess_model(text_test)\n",
        "#text_preprocessed = tokenizer.encode(text_test)\n",
        "print(text_preprocessed)\n",
        "print(f'Keys       : {list(text_preprocessed.keys())}')\n",
        "print(f'input_ids      : {text_preprocessed[\"input_ids\"][0]}')\n",
        "print(f'token_type_ids   : {text_preprocessed[\"token_type_ids\"][0][:12]}')\n",
        "print(f'attention_mask   : {text_preprocessed[\"attention_mask\"][0][:12]}')"
      ],
      "execution_count": 40,
      "outputs": [
        {
          "output_type": "stream",
          "text": [
            "{'input_ids': [[101, 393, 384, 369, 12859, 1146, 108, 102]], 'token_type_ids': [[0, 0, 0, 0, 0, 0, 0, 0]], 'attention_mask': [[1, 1, 1, 1, 1, 1, 1, 1]]}\n",
            "Keys       : ['input_ids', 'token_type_ids', 'attention_mask']\n",
            "input_ids      : [101, 393, 384, 369, 12859, 1146, 108, 102]\n",
            "token_type_ids   : [0, 0, 0, 0, 0, 0, 0, 0]\n",
            "attention_mask   : [1, 1, 1, 1, 1, 1, 1, 1]\n"
          ],
          "name": "stdout"
        }
      ]
    },
    {
      "cell_type": "code",
      "metadata": {
        "colab": {
          "base_uri": "https://localhost:8080/"
        },
        "id": "3C1ouBk9-mjt",
        "outputId": "e63a1db3-951d-4512-cd43-2429f7abc01c"
      },
      "source": [
        "def my_func(arg):\n",
        "  arg = tf.convert_to_tensor(arg, dtype=tf.int32)\n",
        "  return arg\n",
        "\n",
        "transformed_text = {'input_ids': my_func(text_preprocessed[\"input_ids\"]), 'token_type_ids': my_func(text_preprocessed[\"token_type_ids\"]), 'attention_mask': my_func(text_preprocessed[\"attention_mask\"])}\n",
        "print(transformed_text)"
      ],
      "execution_count": 41,
      "outputs": [
        {
          "output_type": "stream",
          "text": [
            "{'input_ids': <tf.Tensor: shape=(1, 8), dtype=int32, numpy=\n",
            "array([[  101,   393,   384,   369, 12859,  1146,   108,   102]],\n",
            "      dtype=int32)>, 'token_type_ids': <tf.Tensor: shape=(1, 8), dtype=int32, numpy=array([[0, 0, 0, 0, 0, 0, 0, 0]], dtype=int32)>, 'attention_mask': <tf.Tensor: shape=(1, 8), dtype=int32, numpy=array([[1, 1, 1, 1, 1, 1, 1, 1]], dtype=int32)>}\n"
          ],
          "name": "stdout"
        }
      ]
    },
    {
      "cell_type": "code",
      "metadata": {
        "colab": {
          "base_uri": "https://localhost:8080/"
        },
        "id": "muTTlNlr_Bxl",
        "outputId": "c8327468-1540-462c-8fef-e13fb70c0411"
      },
      "source": [
        "bert_results = bert_model(transformed_text)\n",
        "#print(bert_results)\n",
        "\n",
        "print(f'Loaded BERT: {tfhub_handle_encoder}')\n",
        "print(f'Keys       : {list(bert_results.keys())}')\n",
        "print(f'Pooled Output Shape:{bert_results[\"pooler_output\"].shape}')\n",
        "print(f'Pooled Output Values:{bert_results[\"pooler_output\"][0, :12]}')\n",
        "print(f'Sequence Output Shape:{bert_results[\"last_hidden_state\"].shape}')\n",
        "print(f'Sequence Output Values:{bert_results[\"last_hidden_state\"][0, :12]}')"
      ],
      "execution_count": 43,
      "outputs": [
        {
          "output_type": "stream",
          "text": [
            "Loaded BERT: <transformers.models.bert.modeling_tf_bert.TFBertModel object at 0x7f61799af550>\n",
            "Keys       : ['last_hidden_state', 'pooler_output']\n",
            "Pooled Output Shape:(1, 768)\n",
            "Pooled Output Values:[-0.77568793 -0.48410702  0.10252881  0.62160456 -0.46155134  0.10883301\n",
            "  0.9619409   0.41196477  0.6993004  -0.4222277  -0.21649358 -0.20509084]\n",
            "Sequence Output Shape:(1, 8, 768)\n",
            "Sequence Output Values:[[-0.9588315  -0.2651741   0.121925   ... -0.7479143   0.35750565\n",
            "   1.0346291 ]\n",
            " [-1.3804321   0.20305854 -0.02667902 ...  1.0282236   0.38472193\n",
            "  -2.0579014 ]\n",
            " [-0.98162574  0.25107956  1.1753192  ... -0.28084478  0.37680465\n",
            "  -0.64754295]\n",
            " ...\n",
            " [-1.4601197   0.45342052 -0.01513791 ...  0.80609417 -0.05657327\n",
            "  -1.1681705 ]\n",
            " [-1.0056058  -0.18209718 -0.11410171 ...  0.50295234 -0.15278107\n",
            "   0.19413379]\n",
            " [-0.07957751  0.12755126  1.0447778  ... -0.03906657  0.3833199\n",
            "   0.3138712 ]]\n"
          ],
          "name": "stdout"
        }
      ]
    },
    {
      "cell_type": "markdown",
      "metadata": {
        "id": "gT873yG1_ZqT"
      },
      "source": [
        "Encode text dataset"
      ]
    },
    {
      "cell_type": "code",
      "metadata": {
        "id": "6b0Tbc7a_Cja"
      },
      "source": [
        "# Create 3 inputs for the model\n",
        "def bert_encode(texts, tokenizer, max_len=128):\n",
        "    all_tokens = []\n",
        "    all_masks = []\n",
        "    all_segments = []\n",
        "    \n",
        "    for text in texts:\n",
        "        text_preprocessed = tokenizer(text)\n",
        "        tokenized_text = text_preprocessed[\"input_ids\"]\n",
        "        #print(tokenized_text)\n",
        "        pad_len = max_len - len(tokenized_text)\n",
        "        #print(pad_len)\n",
        "\n",
        "        tokens = text_preprocessed[\"input_ids\"] + [0] * pad_len\n",
        "        pad_masks = [1] * len(tokenized_text) + [0] * pad_len\n",
        "        segment_ids = [0] * max_len\n",
        "\n",
        "\n",
        "        all_tokens.append(tokens)\n",
        "        all_masks.append(pad_masks)\n",
        "        all_segments.append(segment_ids)\n",
        "    \n",
        "    return np.array(all_tokens), np.array(all_masks), np.array(all_segments)"
      ],
      "execution_count": 44,
      "outputs": []
    },
    {
      "cell_type": "code",
      "metadata": {
        "colab": {
          "base_uri": "https://localhost:8080/"
        },
        "id": "P-luFO7TAXJQ",
        "outputId": "44b65e62-3780-40bb-961f-26f202de1ad3"
      },
      "source": [
        "# Encode all reviews dataset\n",
        "input_x = bert_encode(text_list, bert_preprocess_model)\n",
        "print(input_x)"
      ],
      "execution_count": 45,
      "outputs": [
        {
          "output_type": "stream",
          "text": [
            "(array([[  101,  1314, 16357, ...,     0,     0,     0],\n",
            "       [  101,   242,   233, ...,     0,     0,     0],\n",
            "       [  101,   149,  2580, ...,     0,     0,     0],\n",
            "       ...,\n",
            "       [  101,   353, 17043, ...,     0,     0,     0],\n",
            "       [  101, 14877,   143, ...,     0,     0,     0],\n",
            "       [  101,   735,  1121, ...,     0,     0,     0]]), array([[1, 1, 1, ..., 0, 0, 0],\n",
            "       [1, 1, 1, ..., 0, 0, 0],\n",
            "       [1, 1, 1, ..., 0, 0, 0],\n",
            "       ...,\n",
            "       [1, 1, 1, ..., 0, 0, 0],\n",
            "       [1, 1, 1, ..., 0, 0, 0],\n",
            "       [1, 1, 1, ..., 0, 0, 0]]), array([[0, 0, 0, ..., 0, 0, 0],\n",
            "       [0, 0, 0, ..., 0, 0, 0],\n",
            "       [0, 0, 0, ..., 0, 0, 0],\n",
            "       ...,\n",
            "       [0, 0, 0, ..., 0, 0, 0],\n",
            "       [0, 0, 0, ..., 0, 0, 0],\n",
            "       [0, 0, 0, ..., 0, 0, 0]]))\n"
          ],
          "name": "stdout"
        }
      ]
    },
    {
      "cell_type": "markdown",
      "metadata": {
        "id": "B9ZFxeWTAsbk"
      },
      "source": [
        "Build the model"
      ]
    },
    {
      "cell_type": "code",
      "metadata": {
        "id": "VZ3MDDsiAbpj"
      },
      "source": [
        "# Here we load again the model as we are going to build it under strategy.scope()\n",
        "def build_model(max_len=128):\n",
        "    input_word_ids = tf.keras.Input(shape=(max_len,), dtype=tf.int32, name=\"input_ids\")\n",
        "    input_mask = tf.keras.Input(shape=(max_len,), dtype=tf.int32, name=\"attention_mask\")\n",
        "    segment_ids = tf.keras.Input(shape=(max_len,), dtype=tf.int32, name=\"token_type_ids\")\n",
        "\n",
        "    bert_results = hub.KerasLayer(TFAutoModel.from_pretrained(\"nlpaueb/bert-base-greek-uncased-v1\"), trainable=True, name='BERT_encoder')([input_word_ids, input_mask, segment_ids])\n",
        "    #output = bert_results[\"last_hidden_state\"][:, 0, :]\n",
        "    output = bert_results[\"pooler_output\"][:,:]\n",
        "    net = tf.keras.layers.Dense(32, activation='relu')(output)\n",
        "    net = tf.keras.layers.Dropout(0.2)(net)\n",
        "    out = tf.keras.layers.Dense(3, activation='softmax')(net)\n",
        "    \n",
        "    model = tf.keras.models.Model(inputs=[input_word_ids, input_mask, segment_ids], outputs=out)\n",
        "    \n",
        "    return model"
      ],
      "execution_count": 26,
      "outputs": []
    },
    {
      "cell_type": "code",
      "metadata": {
        "colab": {
          "base_uri": "https://localhost:8080/"
        },
        "id": "OtZlhmS2AuaO",
        "outputId": "207cc619-9fa1-4c23-c034-036993bf4517"
      },
      "source": [
        "# Build and compile the model\n",
        "with strategy.scope(): # creating the model in the TPUStrategy scope places the model on the TPU\n",
        "  model = build_model()\n",
        "  model.compile(tf.keras.optimizers.Adam(lr=1e-5), loss='categorical_crossentropy', metrics=['accuracy'])\n",
        "  \n",
        "model.summary()\n"
      ],
      "execution_count": 46,
      "outputs": [
        {
          "output_type": "stream",
          "text": [
            "Some layers from the model checkpoint at nlpaueb/bert-base-greek-uncased-v1 were not used when initializing TFBertModel: ['nsp___cls', 'mlm___cls']\n",
            "- This IS expected if you are initializing TFBertModel from the checkpoint of a model trained on another task or with another architecture (e.g. initializing a BertForSequenceClassification model from a BertForPreTraining model).\n",
            "- This IS NOT expected if you are initializing TFBertModel from the checkpoint of a model that you expect to be exactly identical (initializing a BertForSequenceClassification model from a BertForSequenceClassification model).\n",
            "All the layers of TFBertModel were initialized from the model checkpoint at nlpaueb/bert-base-greek-uncased-v1.\n",
            "If your task is similar to the task the model of the checkpoint was trained on, you can already use TFBertModel for predictions without further training.\n"
          ],
          "name": "stderr"
        },
        {
          "output_type": "stream",
          "text": [
            "Model: \"model_1\"\n",
            "__________________________________________________________________________________________________\n",
            "Layer (type)                    Output Shape         Param #     Connected to                     \n",
            "==================================================================================================\n",
            "input_ids (InputLayer)          [(None, 128)]        0                                            \n",
            "__________________________________________________________________________________________________\n",
            "attention_mask (InputLayer)     [(None, 128)]        0                                            \n",
            "__________________________________________________________________________________________________\n",
            "token_type_ids (InputLayer)     [(None, 128)]        0                                            \n",
            "__________________________________________________________________________________________________\n",
            "BERT_encoder (KerasLayer)       TFBaseModelOutputWit 112921344   input_ids[0][0]                  \n",
            "                                                                 attention_mask[0][0]             \n",
            "                                                                 token_type_ids[0][0]             \n",
            "__________________________________________________________________________________________________\n",
            "tf.__operators__.getitem_1 (Sli (None, 768)          0           BERT_encoder[0][1]               \n",
            "__________________________________________________________________________________________________\n",
            "dense_2 (Dense)                 (None, 32)           24608       tf.__operators__.getitem_1[0][0] \n",
            "__________________________________________________________________________________________________\n",
            "dropout_149 (Dropout)           (None, 32)           0           dense_2[0][0]                    \n",
            "__________________________________________________________________________________________________\n",
            "dense_3 (Dense)                 (None, 3)            99          dropout_149[0][0]                \n",
            "==================================================================================================\n",
            "Total params: 112,946,051\n",
            "Trainable params: 112,946,051\n",
            "Non-trainable params: 0\n",
            "__________________________________________________________________________________________________\n"
          ],
          "name": "stdout"
        }
      ]
    },
    {
      "cell_type": "code",
      "metadata": {
        "colab": {
          "base_uri": "https://localhost:8080/",
          "height": 564
        },
        "id": "9oBB4mfaOYx7",
        "outputId": "5c2ca443-90cb-4dea-b50e-4bc90e10c824"
      },
      "source": [
        "tf.keras.utils.plot_model(model)"
      ],
      "execution_count": 47,
      "outputs": [
        {
          "output_type": "execute_result",
          "data": {
            "image/png": "[encoded data removed]",
            "text/plain": [
              "<IPython.core.display.Image object>"
            ]
          },
          "metadata": {
            "tags": []
          },
          "execution_count": 47
        }
      ]
    },
    {
      "cell_type": "code",
      "metadata": {
        "id": "5AtMjpm2CQ9p",
        "colab": {
          "base_uri": "https://localhost:8080/"
        },
        "outputId": "5f4d205c-3ad1-4ea2-c351-e99e59ea1bd0"
      },
      "source": [
        "checkpoint = tf.keras.callbacks.ModelCheckpoint('model.h5', monitor='val_accuracy', save_best_only=True, verbose=1)\n",
        "#earlystopping = tf.keras.callbacks.EarlyStopping(monitor='val_accuracy', patience=5, verbose=1)\n",
        "\n",
        "train_history = model.fit(\n",
        "    input_x, train_labels, \n",
        "    validation_split=0.2,\n",
        "    epochs=5,\n",
        "    #callbacks=[checkpoint],\n",
        "    batch_size=32,\n",
        "    verbose=1)"
      ],
      "execution_count": 48,
      "outputs": [
        {
          "output_type": "stream",
          "text": [
            "Epoch 1/5\n",
            "41/41 [==============================] - 78s 378ms/step - loss: 0.8430 - accuracy: 0.6101 - val_loss: 0.7270 - val_accuracy: 0.7256\n",
            "Epoch 2/5\n",
            "41/41 [==============================] - 4s 91ms/step - loss: 0.5167 - accuracy: 0.8099 - val_loss: 0.7070 - val_accuracy: 0.7104\n",
            "Epoch 3/5\n",
            "41/41 [==============================] - 4s 91ms/step - loss: 0.3788 - accuracy: 0.8685 - val_loss: 0.5662 - val_accuracy: 0.7683\n",
            "Epoch 4/5\n",
            "41/41 [==============================] - 4s 92ms/step - loss: 0.3234 - accuracy: 0.8999 - val_loss: 0.6966 - val_accuracy: 0.7591\n",
            "Epoch 5/5\n",
            "41/41 [==============================] - 4s 93ms/step - loss: 0.2155 - accuracy: 0.9178 - val_loss: 0.6960 - val_accuracy: 0.7530\n"
          ],
          "name": "stdout"
        }
      ]
    },
    {
      "cell_type": "code",
      "metadata": {
        "colab": {
          "base_uri": "https://localhost:8080/"
        },
        "id": "GMWYsk_bGZPV",
        "outputId": "a284128f-999e-4fa4-def2-f0322a5baa6e"
      },
      "source": [
        "# 0 = 'Negative':\n",
        "# 1 = 'Positive':\n",
        "# 2 = 'Neutral':\n",
        "\n",
        "input_test = bert_encode(['Επιχείρηση Βολευτική έδρα!  Βασίλης Οικονόμου:  Από το ΠΑΣΟΚ διαγράφηκε απο το ΓΑΠ επειδη ΔΕΝ ψήφισε το Μνημόνιο...'], bert_preprocess_model)\n",
        "print(input_test)\n",
        "output = model(input_test)\n",
        "print()\n",
        "print(np.array(output[0]))"
      ],
      "execution_count": 31,
      "outputs": [
        {
          "output_type": "stream",
          "text": [
            "(array([[  101,  1314, 16357,   668,  1351,   108,  3113, 12078,   143,\n",
            "          352,   345,  1609,  5294,   956,   352,   345, 18408,   593,\n",
            "          366, 11598,   345,  3818,   121,   121,   121,   102,     0,\n",
            "            0,     0,     0,     0,     0,     0,     0,     0,     0,\n",
            "            0,     0,     0,     0,     0,     0,     0,     0,     0,\n",
            "            0,     0,     0,     0,     0,     0,     0,     0,     0,\n",
            "            0,     0,     0,     0,     0,     0,     0,     0,     0,\n",
            "            0,     0,     0,     0,     0,     0,     0,     0,     0,\n",
            "            0,     0,     0,     0,     0,     0,     0,     0,     0,\n",
            "            0,     0,     0,     0,     0,     0,     0,     0,     0,\n",
            "            0,     0,     0,     0,     0,     0,     0,     0,     0,\n",
            "            0,     0,     0,     0,     0,     0,     0,     0,     0,\n",
            "            0,     0,     0,     0,     0,     0,     0,     0,     0,\n",
            "            0,     0,     0,     0,     0,     0,     0,     0,     0,\n",
            "            0,     0]]), array([[1, 1, 1, 1, 1, 1, 1, 1, 1, 1, 1, 1, 1, 1, 1, 1, 1, 1, 1, 1, 1, 1,\n",
            "        1, 1, 1, 1, 0, 0, 0, 0, 0, 0, 0, 0, 0, 0, 0, 0, 0, 0, 0, 0, 0, 0,\n",
            "        0, 0, 0, 0, 0, 0, 0, 0, 0, 0, 0, 0, 0, 0, 0, 0, 0, 0, 0, 0, 0, 0,\n",
            "        0, 0, 0, 0, 0, 0, 0, 0, 0, 0, 0, 0, 0, 0, 0, 0, 0, 0, 0, 0, 0, 0,\n",
            "        0, 0, 0, 0, 0, 0, 0, 0, 0, 0, 0, 0, 0, 0, 0, 0, 0, 0, 0, 0, 0, 0,\n",
            "        0, 0, 0, 0, 0, 0, 0, 0, 0, 0, 0, 0, 0, 0, 0, 0, 0, 0]]), array([[0, 0, 0, 0, 0, 0, 0, 0, 0, 0, 0, 0, 0, 0, 0, 0, 0, 0, 0, 0, 0, 0,\n",
            "        0, 0, 0, 0, 0, 0, 0, 0, 0, 0, 0, 0, 0, 0, 0, 0, 0, 0, 0, 0, 0, 0,\n",
            "        0, 0, 0, 0, 0, 0, 0, 0, 0, 0, 0, 0, 0, 0, 0, 0, 0, 0, 0, 0, 0, 0,\n",
            "        0, 0, 0, 0, 0, 0, 0, 0, 0, 0, 0, 0, 0, 0, 0, 0, 0, 0, 0, 0, 0, 0,\n",
            "        0, 0, 0, 0, 0, 0, 0, 0, 0, 0, 0, 0, 0, 0, 0, 0, 0, 0, 0, 0, 0, 0,\n",
            "        0, 0, 0, 0, 0, 0, 0, 0, 0, 0, 0, 0, 0, 0, 0, 0, 0, 0]]))\n",
            "\n",
            "[9.9789989e-01 3.3864536e-04 1.7614499e-03]\n"
          ],
          "name": "stdout"
        }
      ]
    },
    {
      "cell_type": "code",
      "metadata": {
        "id": "Us9LOpr-GCqC"
      },
      "source": [
        "# Save model\n",
        "save_path = \"content/model_final\"\n",
        "tf.saved_model.save(model, save_path)"
      ],
      "execution_count": null,
      "outputs": []
    },
    {
      "cell_type": "code",
      "metadata": {
        "id": "m4hxncQ2Lpps"
      },
      "source": [
        "new_model = tf.keras.models.load_model('content/model_final')\n",
        "\n",
        "# Check its architecture\n",
        "new_model.summary()"
      ],
      "execution_count": null,
      "outputs": []
    },
    {
      "cell_type": "code",
      "metadata": {
        "id": "T7mIZEjuGfJS"
      },
      "source": [
        ""
      ],
      "execution_count": null,
      "outputs": []
    }
  ]
}