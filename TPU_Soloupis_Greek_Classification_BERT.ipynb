{
  "nbformat": 4,
  "nbformat_minor": 0,
  "metadata": {
    "colab": {
      "name": "TPU_Soloupis_Greek_Classification_BERT.ipynb",
      "provenance": [],
      "collapsed_sections": [],
      "toc_visible": true
    },
    "kernelspec": {
      "name": "python3",
      "display_name": "Python 3"
    },
    "language_info": {
      "name": "python"
    },
    "accelerator": "TPU",
    "widgets": {
      "application/vnd.jupyter.widget-state+json": {
        "c4729441e9c34d22a0afb01a2193b51d": {
          "model_module": "@jupyter-widgets/controls",
          "model_name": "HBoxModel",
          "state": {
            "_view_name": "HBoxView",
            "_dom_classes": [],
            "_model_name": "HBoxModel",
            "_view_module": "@jupyter-widgets/controls",
            "_model_module_version": "1.5.0",
            "_view_count": null,
            "_view_module_version": "1.5.0",
            "box_style": "",
            "layout": "IPY_MODEL_6a5ccab7caf54062becb48c585a108a8",
            "_model_module": "@jupyter-widgets/controls",
            "children": [
              "IPY_MODEL_f946798f97c643d199840a91e118e37b",
              "IPY_MODEL_fe1bad10bc3a402a8c75abf5c674c4a8"
            ]
          }
        },
        "6a5ccab7caf54062becb48c585a108a8": {
          "model_module": "@jupyter-widgets/base",
          "model_name": "LayoutModel",
          "state": {
            "_view_name": "LayoutView",
            "grid_template_rows": null,
            "right": null,
            "justify_content": null,
            "_view_module": "@jupyter-widgets/base",
            "overflow": null,
            "_model_module_version": "1.2.0",
            "_view_count": null,
            "flex_flow": null,
            "width": null,
            "min_width": null,
            "border": null,
            "align_items": null,
            "bottom": null,
            "_model_module": "@jupyter-widgets/base",
            "top": null,
            "grid_column": null,
            "overflow_y": null,
            "overflow_x": null,
            "grid_auto_flow": null,
            "grid_area": null,
            "grid_template_columns": null,
            "flex": null,
            "_model_name": "LayoutModel",
            "justify_items": null,
            "grid_row": null,
            "max_height": null,
            "align_content": null,
            "visibility": null,
            "align_self": null,
            "height": null,
            "min_height": null,
            "padding": null,
            "grid_auto_rows": null,
            "grid_gap": null,
            "max_width": null,
            "order": null,
            "_view_module_version": "1.2.0",
            "grid_template_areas": null,
            "object_position": null,
            "object_fit": null,
            "grid_auto_columns": null,
            "margin": null,
            "display": null,
            "left": null
          }
        },
        "f946798f97c643d199840a91e118e37b": {
          "model_module": "@jupyter-widgets/controls",
          "model_name": "FloatProgressModel",
          "state": {
            "_view_name": "ProgressView",
            "style": "IPY_MODEL_7d314c5302054dadadba916a81b2016f",
            "_dom_classes": [],
            "description": "Downloading: 100%",
            "_model_name": "FloatProgressModel",
            "bar_style": "success",
            "max": 459,
            "_view_module": "@jupyter-widgets/controls",
            "_model_module_version": "1.5.0",
            "value": 459,
            "_view_count": null,
            "_view_module_version": "1.5.0",
            "orientation": "horizontal",
            "min": 0,
            "description_tooltip": null,
            "_model_module": "@jupyter-widgets/controls",
            "layout": "IPY_MODEL_78f001df5f264c6bbbcfa06a62386089"
          }
        },
        "fe1bad10bc3a402a8c75abf5c674c4a8": {
          "model_module": "@jupyter-widgets/controls",
          "model_name": "HTMLModel",
          "state": {
            "_view_name": "HTMLView",
            "style": "IPY_MODEL_a6c92138b576463f810469fdb662a1bb",
            "_dom_classes": [],
            "description": "",
            "_model_name": "HTMLModel",
            "placeholder": "​",
            "_view_module": "@jupyter-widgets/controls",
            "_model_module_version": "1.5.0",
            "value": " 459/459 [00:01&lt;00:00, 374B/s]",
            "_view_count": null,
            "_view_module_version": "1.5.0",
            "description_tooltip": null,
            "_model_module": "@jupyter-widgets/controls",
            "layout": "IPY_MODEL_dd2cba52ea7f49b0a4ed6f8331cb4630"
          }
        },
        "7d314c5302054dadadba916a81b2016f": {
          "model_module": "@jupyter-widgets/controls",
          "model_name": "ProgressStyleModel",
          "state": {
            "_view_name": "StyleView",
            "_model_name": "ProgressStyleModel",
            "description_width": "initial",
            "_view_module": "@jupyter-widgets/base",
            "_model_module_version": "1.5.0",
            "_view_count": null,
            "_view_module_version": "1.2.0",
            "bar_color": null,
            "_model_module": "@jupyter-widgets/controls"
          }
        },
        "78f001df5f264c6bbbcfa06a62386089": {
          "model_module": "@jupyter-widgets/base",
          "model_name": "LayoutModel",
          "state": {
            "_view_name": "LayoutView",
            "grid_template_rows": null,
            "right": null,
            "justify_content": null,
            "_view_module": "@jupyter-widgets/base",
            "overflow": null,
            "_model_module_version": "1.2.0",
            "_view_count": null,
            "flex_flow": null,
            "width": null,
            "min_width": null,
            "border": null,
            "align_items": null,
            "bottom": null,
            "_model_module": "@jupyter-widgets/base",
            "top": null,
            "grid_column": null,
            "overflow_y": null,
            "overflow_x": null,
            "grid_auto_flow": null,
            "grid_area": null,
            "grid_template_columns": null,
            "flex": null,
            "_model_name": "LayoutModel",
            "justify_items": null,
            "grid_row": null,
            "max_height": null,
            "align_content": null,
            "visibility": null,
            "align_self": null,
            "height": null,
            "min_height": null,
            "padding": null,
            "grid_auto_rows": null,
            "grid_gap": null,
            "max_width": null,
            "order": null,
            "_view_module_version": "1.2.0",
            "grid_template_areas": null,
            "object_position": null,
            "object_fit": null,
            "grid_auto_columns": null,
            "margin": null,
            "display": null,
            "left": null
          }
        },
        "a6c92138b576463f810469fdb662a1bb": {
          "model_module": "@jupyter-widgets/controls",
          "model_name": "DescriptionStyleModel",
          "state": {
            "_view_name": "StyleView",
            "_model_name": "DescriptionStyleModel",
            "description_width": "",
            "_view_module": "@jupyter-widgets/base",
            "_model_module_version": "1.5.0",
            "_view_count": null,
            "_view_module_version": "1.2.0",
            "_model_module": "@jupyter-widgets/controls"
          }
        },
        "dd2cba52ea7f49b0a4ed6f8331cb4630": {
          "model_module": "@jupyter-widgets/base",
          "model_name": "LayoutModel",
          "state": {
            "_view_name": "LayoutView",
            "grid_template_rows": null,
            "right": null,
            "justify_content": null,
            "_view_module": "@jupyter-widgets/base",
            "overflow": null,
            "_model_module_version": "1.2.0",
            "_view_count": null,
            "flex_flow": null,
            "width": null,
            "min_width": null,
            "border": null,
            "align_items": null,
            "bottom": null,
            "_model_module": "@jupyter-widgets/base",
            "top": null,
            "grid_column": null,
            "overflow_y": null,
            "overflow_x": null,
            "grid_auto_flow": null,
            "grid_area": null,
            "grid_template_columns": null,
            "flex": null,
            "_model_name": "LayoutModel",
            "justify_items": null,
            "grid_row": null,
            "max_height": null,
            "align_content": null,
            "visibility": null,
            "align_self": null,
            "height": null,
            "min_height": null,
            "padding": null,
            "grid_auto_rows": null,
            "grid_gap": null,
            "max_width": null,
            "order": null,
            "_view_module_version": "1.2.0",
            "grid_template_areas": null,
            "object_position": null,
            "object_fit": null,
            "grid_auto_columns": null,
            "margin": null,
            "display": null,
            "left": null
          }
        },
        "afe98b941a28483bb1500298f6134466": {
          "model_module": "@jupyter-widgets/controls",
          "model_name": "HBoxModel",
          "state": {
            "_view_name": "HBoxView",
            "_dom_classes": [],
            "_model_name": "HBoxModel",
            "_view_module": "@jupyter-widgets/controls",
            "_model_module_version": "1.5.0",
            "_view_count": null,
            "_view_module_version": "1.5.0",
            "box_style": "",
            "layout": "IPY_MODEL_c5241c2e5b584300b77bd4b52cd1b7b9",
            "_model_module": "@jupyter-widgets/controls",
            "children": [
              "IPY_MODEL_7ab0e595bdce43f8a43a2832d7b54cc9",
              "IPY_MODEL_467d7b297bd74e00a68f14981dfffc64"
            ]
          }
        },
        "c5241c2e5b584300b77bd4b52cd1b7b9": {
          "model_module": "@jupyter-widgets/base",
          "model_name": "LayoutModel",
          "state": {
            "_view_name": "LayoutView",
            "grid_template_rows": null,
            "right": null,
            "justify_content": null,
            "_view_module": "@jupyter-widgets/base",
            "overflow": null,
            "_model_module_version": "1.2.0",
            "_view_count": null,
            "flex_flow": null,
            "width": null,
            "min_width": null,
            "border": null,
            "align_items": null,
            "bottom": null,
            "_model_module": "@jupyter-widgets/base",
            "top": null,
            "grid_column": null,
            "overflow_y": null,
            "overflow_x": null,
            "grid_auto_flow": null,
            "grid_area": null,
            "grid_template_columns": null,
            "flex": null,
            "_model_name": "LayoutModel",
            "justify_items": null,
            "grid_row": null,
            "max_height": null,
            "align_content": null,
            "visibility": null,
            "align_self": null,
            "height": null,
            "min_height": null,
            "padding": null,
            "grid_auto_rows": null,
            "grid_gap": null,
            "max_width": null,
            "order": null,
            "_view_module_version": "1.2.0",
            "grid_template_areas": null,
            "object_position": null,
            "object_fit": null,
            "grid_auto_columns": null,
            "margin": null,
            "display": null,
            "left": null
          }
        },
        "7ab0e595bdce43f8a43a2832d7b54cc9": {
          "model_module": "@jupyter-widgets/controls",
          "model_name": "FloatProgressModel",
          "state": {
            "_view_name": "ProgressView",
            "style": "IPY_MODEL_cf0ebc85b13b4076bda76e5a24c701f1",
            "_dom_classes": [],
            "description": "Downloading: 100%",
            "_model_name": "FloatProgressModel",
            "bar_style": "success",
            "max": 529930,
            "_view_module": "@jupyter-widgets/controls",
            "_model_module_version": "1.5.0",
            "value": 529930,
            "_view_count": null,
            "_view_module_version": "1.5.0",
            "orientation": "horizontal",
            "min": 0,
            "description_tooltip": null,
            "_model_module": "@jupyter-widgets/controls",
            "layout": "IPY_MODEL_1d3fa16d36c240c896b066894e1e3bfe"
          }
        },
        "467d7b297bd74e00a68f14981dfffc64": {
          "model_module": "@jupyter-widgets/controls",
          "model_name": "HTMLModel",
          "state": {
            "_view_name": "HTMLView",
            "style": "IPY_MODEL_adc182fbe9124e3194fcc003dfb068f4",
            "_dom_classes": [],
            "description": "",
            "_model_name": "HTMLModel",
            "placeholder": "​",
            "_view_module": "@jupyter-widgets/controls",
            "_model_module_version": "1.5.0",
            "value": " 530k/530k [00:00&lt;00:00, 557kB/s]",
            "_view_count": null,
            "_view_module_version": "1.5.0",
            "description_tooltip": null,
            "_model_module": "@jupyter-widgets/controls",
            "layout": "IPY_MODEL_ccdeff401ec94ced940670b025956979"
          }
        },
        "cf0ebc85b13b4076bda76e5a24c701f1": {
          "model_module": "@jupyter-widgets/controls",
          "model_name": "ProgressStyleModel",
          "state": {
            "_view_name": "StyleView",
            "_model_name": "ProgressStyleModel",
            "description_width": "initial",
            "_view_module": "@jupyter-widgets/base",
            "_model_module_version": "1.5.0",
            "_view_count": null,
            "_view_module_version": "1.2.0",
            "bar_color": null,
            "_model_module": "@jupyter-widgets/controls"
          }
        },
        "1d3fa16d36c240c896b066894e1e3bfe": {
          "model_module": "@jupyter-widgets/base",
          "model_name": "LayoutModel",
          "state": {
            "_view_name": "LayoutView",
            "grid_template_rows": null,
            "right": null,
            "justify_content": null,
            "_view_module": "@jupyter-widgets/base",
            "overflow": null,
            "_model_module_version": "1.2.0",
            "_view_count": null,
            "flex_flow": null,
            "width": null,
            "min_width": null,
            "border": null,
            "align_items": null,
            "bottom": null,
            "_model_module": "@jupyter-widgets/base",
            "top": null,
            "grid_column": null,
            "overflow_y": null,
            "overflow_x": null,
            "grid_auto_flow": null,
            "grid_area": null,
            "grid_template_columns": null,
            "flex": null,
            "_model_name": "LayoutModel",
            "justify_items": null,
            "grid_row": null,
            "max_height": null,
            "align_content": null,
            "visibility": null,
            "align_self": null,
            "height": null,
            "min_height": null,
            "padding": null,
            "grid_auto_rows": null,
            "grid_gap": null,
            "max_width": null,
            "order": null,
            "_view_module_version": "1.2.0",
            "grid_template_areas": null,
            "object_position": null,
            "object_fit": null,
            "grid_auto_columns": null,
            "margin": null,
            "display": null,
            "left": null
          }
        },
        "adc182fbe9124e3194fcc003dfb068f4": {
          "model_module": "@jupyter-widgets/controls",
          "model_name": "DescriptionStyleModel",
          "state": {
            "_view_name": "StyleView",
            "_model_name": "DescriptionStyleModel",
            "description_width": "",
            "_view_module": "@jupyter-widgets/base",
            "_model_module_version": "1.5.0",
            "_view_count": null,
            "_view_module_version": "1.2.0",
            "_model_module": "@jupyter-widgets/controls"
          }
        },
        "ccdeff401ec94ced940670b025956979": {
          "model_module": "@jupyter-widgets/base",
          "model_name": "LayoutModel",
          "state": {
            "_view_name": "LayoutView",
            "grid_template_rows": null,
            "right": null,
            "justify_content": null,
            "_view_module": "@jupyter-widgets/base",
            "overflow": null,
            "_model_module_version": "1.2.0",
            "_view_count": null,
            "flex_flow": null,
            "width": null,
            "min_width": null,
            "border": null,
            "align_items": null,
            "bottom": null,
            "_model_module": "@jupyter-widgets/base",
            "top": null,
            "grid_column": null,
            "overflow_y": null,
            "overflow_x": null,
            "grid_auto_flow": null,
            "grid_area": null,
            "grid_template_columns": null,
            "flex": null,
            "_model_name": "LayoutModel",
            "justify_items": null,
            "grid_row": null,
            "max_height": null,
            "align_content": null,
            "visibility": null,
            "align_self": null,
            "height": null,
            "min_height": null,
            "padding": null,
            "grid_auto_rows": null,
            "grid_gap": null,
            "max_width": null,
            "order": null,
            "_view_module_version": "1.2.0",
            "grid_template_areas": null,
            "object_position": null,
            "object_fit": null,
            "grid_auto_columns": null,
            "margin": null,
            "display": null,
            "left": null
          }
        },
        "c535c4b4593842549b95f8933bc45d2a": {
          "model_module": "@jupyter-widgets/controls",
          "model_name": "HBoxModel",
          "state": {
            "_view_name": "HBoxView",
            "_dom_classes": [],
            "_model_name": "HBoxModel",
            "_view_module": "@jupyter-widgets/controls",
            "_model_module_version": "1.5.0",
            "_view_count": null,
            "_view_module_version": "1.5.0",
            "box_style": "",
            "layout": "IPY_MODEL_d6d04fb9e25f4da6a264aa04bc91f559",
            "_model_module": "@jupyter-widgets/controls",
            "children": [
              "IPY_MODEL_97af13dc4821423c98f60b696b267b26",
              "IPY_MODEL_538e393f21594d87b344f3e21c5b65fa"
            ]
          }
        },
        "d6d04fb9e25f4da6a264aa04bc91f559": {
          "model_module": "@jupyter-widgets/base",
          "model_name": "LayoutModel",
          "state": {
            "_view_name": "LayoutView",
            "grid_template_rows": null,
            "right": null,
            "justify_content": null,
            "_view_module": "@jupyter-widgets/base",
            "overflow": null,
            "_model_module_version": "1.2.0",
            "_view_count": null,
            "flex_flow": null,
            "width": null,
            "min_width": null,
            "border": null,
            "align_items": null,
            "bottom": null,
            "_model_module": "@jupyter-widgets/base",
            "top": null,
            "grid_column": null,
            "overflow_y": null,
            "overflow_x": null,
            "grid_auto_flow": null,
            "grid_area": null,
            "grid_template_columns": null,
            "flex": null,
            "_model_name": "LayoutModel",
            "justify_items": null,
            "grid_row": null,
            "max_height": null,
            "align_content": null,
            "visibility": null,
            "align_self": null,
            "height": null,
            "min_height": null,
            "padding": null,
            "grid_auto_rows": null,
            "grid_gap": null,
            "max_width": null,
            "order": null,
            "_view_module_version": "1.2.0",
            "grid_template_areas": null,
            "object_position": null,
            "object_fit": null,
            "grid_auto_columns": null,
            "margin": null,
            "display": null,
            "left": null
          }
        },
        "97af13dc4821423c98f60b696b267b26": {
          "model_module": "@jupyter-widgets/controls",
          "model_name": "FloatProgressModel",
          "state": {
            "_view_name": "ProgressView",
            "style": "IPY_MODEL_507f2bc6e4364598a68524bda79752a8",
            "_dom_classes": [],
            "description": "Downloading: 100%",
            "_model_name": "FloatProgressModel",
            "bar_style": "success",
            "max": 112,
            "_view_module": "@jupyter-widgets/controls",
            "_model_module_version": "1.5.0",
            "value": 112,
            "_view_count": null,
            "_view_module_version": "1.5.0",
            "orientation": "horizontal",
            "min": 0,
            "description_tooltip": null,
            "_model_module": "@jupyter-widgets/controls",
            "layout": "IPY_MODEL_6407cea1bbdb4d17bf9cfaee5487dee5"
          }
        },
        "538e393f21594d87b344f3e21c5b65fa": {
          "model_module": "@jupyter-widgets/controls",
          "model_name": "HTMLModel",
          "state": {
            "_view_name": "HTMLView",
            "style": "IPY_MODEL_31cf86e2e89941a1b4b44b5ddda7e7e0",
            "_dom_classes": [],
            "description": "",
            "_model_name": "HTMLModel",
            "placeholder": "​",
            "_view_module": "@jupyter-widgets/controls",
            "_model_module_version": "1.5.0",
            "value": " 112/112 [00:00&lt;00:00, 316B/s]",
            "_view_count": null,
            "_view_module_version": "1.5.0",
            "description_tooltip": null,
            "_model_module": "@jupyter-widgets/controls",
            "layout": "IPY_MODEL_d3ac5f9ac3cd4626877592dd205311f3"
          }
        },
        "507f2bc6e4364598a68524bda79752a8": {
          "model_module": "@jupyter-widgets/controls",
          "model_name": "ProgressStyleModel",
          "state": {
            "_view_name": "StyleView",
            "_model_name": "ProgressStyleModel",
            "description_width": "initial",
            "_view_module": "@jupyter-widgets/base",
            "_model_module_version": "1.5.0",
            "_view_count": null,
            "_view_module_version": "1.2.0",
            "bar_color": null,
            "_model_module": "@jupyter-widgets/controls"
          }
        },
        "6407cea1bbdb4d17bf9cfaee5487dee5": {
          "model_module": "@jupyter-widgets/base",
          "model_name": "LayoutModel",
          "state": {
            "_view_name": "LayoutView",
            "grid_template_rows": null,
            "right": null,
            "justify_content": null,
            "_view_module": "@jupyter-widgets/base",
            "overflow": null,
            "_model_module_version": "1.2.0",
            "_view_count": null,
            "flex_flow": null,
            "width": null,
            "min_width": null,
            "border": null,
            "align_items": null,
            "bottom": null,
            "_model_module": "@jupyter-widgets/base",
            "top": null,
            "grid_column": null,
            "overflow_y": null,
            "overflow_x": null,
            "grid_auto_flow": null,
            "grid_area": null,
            "grid_template_columns": null,
            "flex": null,
            "_model_name": "LayoutModel",
            "justify_items": null,
            "grid_row": null,
            "max_height": null,
            "align_content": null,
            "visibility": null,
            "align_self": null,
            "height": null,
            "min_height": null,
            "padding": null,
            "grid_auto_rows": null,
            "grid_gap": null,
            "max_width": null,
            "order": null,
            "_view_module_version": "1.2.0",
            "grid_template_areas": null,
            "object_position": null,
            "object_fit": null,
            "grid_auto_columns": null,
            "margin": null,
            "display": null,
            "left": null
          }
        },
        "31cf86e2e89941a1b4b44b5ddda7e7e0": {
          "model_module": "@jupyter-widgets/controls",
          "model_name": "DescriptionStyleModel",
          "state": {
            "_view_name": "StyleView",
            "_model_name": "DescriptionStyleModel",
            "description_width": "",
            "_view_module": "@jupyter-widgets/base",
            "_model_module_version": "1.5.0",
            "_view_count": null,
            "_view_module_version": "1.2.0",
            "_model_module": "@jupyter-widgets/controls"
          }
        },
        "d3ac5f9ac3cd4626877592dd205311f3": {
          "model_module": "@jupyter-widgets/base",
          "model_name": "LayoutModel",
          "state": {
            "_view_name": "LayoutView",
            "grid_template_rows": null,
            "right": null,
            "justify_content": null,
            "_view_module": "@jupyter-widgets/base",
            "overflow": null,
            "_model_module_version": "1.2.0",
            "_view_count": null,
            "flex_flow": null,
            "width": null,
            "min_width": null,
            "border": null,
            "align_items": null,
            "bottom": null,
            "_model_module": "@jupyter-widgets/base",
            "top": null,
            "grid_column": null,
            "overflow_y": null,
            "overflow_x": null,
            "grid_auto_flow": null,
            "grid_area": null,
            "grid_template_columns": null,
            "flex": null,
            "_model_name": "LayoutModel",
            "justify_items": null,
            "grid_row": null,
            "max_height": null,
            "align_content": null,
            "visibility": null,
            "align_self": null,
            "height": null,
            "min_height": null,
            "padding": null,
            "grid_auto_rows": null,
            "grid_gap": null,
            "max_width": null,
            "order": null,
            "_view_module_version": "1.2.0",
            "grid_template_areas": null,
            "object_position": null,
            "object_fit": null,
            "grid_auto_columns": null,
            "margin": null,
            "display": null,
            "left": null
          }
        },
        "1af02e489f1d4851a1c65932e6f59a4c": {
          "model_module": "@jupyter-widgets/controls",
          "model_name": "HBoxModel",
          "state": {
            "_view_name": "HBoxView",
            "_dom_classes": [],
            "_model_name": "HBoxModel",
            "_view_module": "@jupyter-widgets/controls",
            "_model_module_version": "1.5.0",
            "_view_count": null,
            "_view_module_version": "1.5.0",
            "box_style": "",
            "layout": "IPY_MODEL_0d7a31f218b84462ad08ee7d3053977c",
            "_model_module": "@jupyter-widgets/controls",
            "children": [
              "IPY_MODEL_b87d800b2a8346289f78303c7ecd35fe",
              "IPY_MODEL_c269afc8dc8c4804bb6389a615f9e1e6"
            ]
          }
        },
        "0d7a31f218b84462ad08ee7d3053977c": {
          "model_module": "@jupyter-widgets/base",
          "model_name": "LayoutModel",
          "state": {
            "_view_name": "LayoutView",
            "grid_template_rows": null,
            "right": null,
            "justify_content": null,
            "_view_module": "@jupyter-widgets/base",
            "overflow": null,
            "_model_module_version": "1.2.0",
            "_view_count": null,
            "flex_flow": null,
            "width": null,
            "min_width": null,
            "border": null,
            "align_items": null,
            "bottom": null,
            "_model_module": "@jupyter-widgets/base",
            "top": null,
            "grid_column": null,
            "overflow_y": null,
            "overflow_x": null,
            "grid_auto_flow": null,
            "grid_area": null,
            "grid_template_columns": null,
            "flex": null,
            "_model_name": "LayoutModel",
            "justify_items": null,
            "grid_row": null,
            "max_height": null,
            "align_content": null,
            "visibility": null,
            "align_self": null,
            "height": null,
            "min_height": null,
            "padding": null,
            "grid_auto_rows": null,
            "grid_gap": null,
            "max_width": null,
            "order": null,
            "_view_module_version": "1.2.0",
            "grid_template_areas": null,
            "object_position": null,
            "object_fit": null,
            "grid_auto_columns": null,
            "margin": null,
            "display": null,
            "left": null
          }
        },
        "b87d800b2a8346289f78303c7ecd35fe": {
          "model_module": "@jupyter-widgets/controls",
          "model_name": "FloatProgressModel",
          "state": {
            "_view_name": "ProgressView",
            "style": "IPY_MODEL_6738f7af12d946469ffe9d5a0f507297",
            "_dom_classes": [],
            "description": "Downloading: 100%",
            "_model_name": "FloatProgressModel",
            "bar_style": "success",
            "max": 2,
            "_view_module": "@jupyter-widgets/controls",
            "_model_module_version": "1.5.0",
            "value": 2,
            "_view_count": null,
            "_view_module_version": "1.5.0",
            "orientation": "horizontal",
            "min": 0,
            "description_tooltip": null,
            "_model_module": "@jupyter-widgets/controls",
            "layout": "IPY_MODEL_7bf9e0bb21094b15aa87dc0a3b8f78a8"
          }
        },
        "c269afc8dc8c4804bb6389a615f9e1e6": {
          "model_module": "@jupyter-widgets/controls",
          "model_name": "HTMLModel",
          "state": {
            "_view_name": "HTMLView",
            "style": "IPY_MODEL_36bb7e8b8be34ca8b77128a2a69637cf",
            "_dom_classes": [],
            "description": "",
            "_model_name": "HTMLModel",
            "placeholder": "​",
            "_view_module": "@jupyter-widgets/controls",
            "_model_module_version": "1.5.0",
            "value": " 2.00/2.00 [00:00&lt;00:00, 19.3B/s]",
            "_view_count": null,
            "_view_module_version": "1.5.0",
            "description_tooltip": null,
            "_model_module": "@jupyter-widgets/controls",
            "layout": "IPY_MODEL_c5095b3f63994d828b23c169299a4404"
          }
        },
        "6738f7af12d946469ffe9d5a0f507297": {
          "model_module": "@jupyter-widgets/controls",
          "model_name": "ProgressStyleModel",
          "state": {
            "_view_name": "StyleView",
            "_model_name": "ProgressStyleModel",
            "description_width": "initial",
            "_view_module": "@jupyter-widgets/base",
            "_model_module_version": "1.5.0",
            "_view_count": null,
            "_view_module_version": "1.2.0",
            "bar_color": null,
            "_model_module": "@jupyter-widgets/controls"
          }
        },
        "7bf9e0bb21094b15aa87dc0a3b8f78a8": {
          "model_module": "@jupyter-widgets/base",
          "model_name": "LayoutModel",
          "state": {
            "_view_name": "LayoutView",
            "grid_template_rows": null,
            "right": null,
            "justify_content": null,
            "_view_module": "@jupyter-widgets/base",
            "overflow": null,
            "_model_module_version": "1.2.0",
            "_view_count": null,
            "flex_flow": null,
            "width": null,
            "min_width": null,
            "border": null,
            "align_items": null,
            "bottom": null,
            "_model_module": "@jupyter-widgets/base",
            "top": null,
            "grid_column": null,
            "overflow_y": null,
            "overflow_x": null,
            "grid_auto_flow": null,
            "grid_area": null,
            "grid_template_columns": null,
            "flex": null,
            "_model_name": "LayoutModel",
            "justify_items": null,
            "grid_row": null,
            "max_height": null,
            "align_content": null,
            "visibility": null,
            "align_self": null,
            "height": null,
            "min_height": null,
            "padding": null,
            "grid_auto_rows": null,
            "grid_gap": null,
            "max_width": null,
            "order": null,
            "_view_module_version": "1.2.0",
            "grid_template_areas": null,
            "object_position": null,
            "object_fit": null,
            "grid_auto_columns": null,
            "margin": null,
            "display": null,
            "left": null
          }
        },
        "36bb7e8b8be34ca8b77128a2a69637cf": {
          "model_module": "@jupyter-widgets/controls",
          "model_name": "DescriptionStyleModel",
          "state": {
            "_view_name": "StyleView",
            "_model_name": "DescriptionStyleModel",
            "description_width": "",
            "_view_module": "@jupyter-widgets/base",
            "_model_module_version": "1.5.0",
            "_view_count": null,
            "_view_module_version": "1.2.0",
            "_model_module": "@jupyter-widgets/controls"
          }
        },
        "c5095b3f63994d828b23c169299a4404": {
          "model_module": "@jupyter-widgets/base",
          "model_name": "LayoutModel",
          "state": {
            "_view_name": "LayoutView",
            "grid_template_rows": null,
            "right": null,
            "justify_content": null,
            "_view_module": "@jupyter-widgets/base",
            "overflow": null,
            "_model_module_version": "1.2.0",
            "_view_count": null,
            "flex_flow": null,
            "width": null,
            "min_width": null,
            "border": null,
            "align_items": null,
            "bottom": null,
            "_model_module": "@jupyter-widgets/base",
            "top": null,
            "grid_column": null,
            "overflow_y": null,
            "overflow_x": null,
            "grid_auto_flow": null,
            "grid_area": null,
            "grid_template_columns": null,
            "flex": null,
            "_model_name": "LayoutModel",
            "justify_items": null,
            "grid_row": null,
            "max_height": null,
            "align_content": null,
            "visibility": null,
            "align_self": null,
            "height": null,
            "min_height": null,
            "padding": null,
            "grid_auto_rows": null,
            "grid_gap": null,
            "max_width": null,
            "order": null,
            "_view_module_version": "1.2.0",
            "grid_template_areas": null,
            "object_position": null,
            "object_fit": null,
            "grid_auto_columns": null,
            "margin": null,
            "display": null,
            "left": null
          }
        },
        "4b6537af9088462c8fa7f1c2c142e970": {
          "model_module": "@jupyter-widgets/controls",
          "model_name": "HBoxModel",
          "state": {
            "_view_name": "HBoxView",
            "_dom_classes": [],
            "_model_name": "HBoxModel",
            "_view_module": "@jupyter-widgets/controls",
            "_model_module_version": "1.5.0",
            "_view_count": null,
            "_view_module_version": "1.5.0",
            "box_style": "",
            "layout": "IPY_MODEL_5707af2e68954e1589201ef5e05120af",
            "_model_module": "@jupyter-widgets/controls",
            "children": [
              "IPY_MODEL_c108861f10854734b924728c6b14f5f8",
              "IPY_MODEL_ed3f1b6c2ccd4d60ad32a5123a39daef"
            ]
          }
        },
        "5707af2e68954e1589201ef5e05120af": {
          "model_module": "@jupyter-widgets/base",
          "model_name": "LayoutModel",
          "state": {
            "_view_name": "LayoutView",
            "grid_template_rows": null,
            "right": null,
            "justify_content": null,
            "_view_module": "@jupyter-widgets/base",
            "overflow": null,
            "_model_module_version": "1.2.0",
            "_view_count": null,
            "flex_flow": null,
            "width": null,
            "min_width": null,
            "border": null,
            "align_items": null,
            "bottom": null,
            "_model_module": "@jupyter-widgets/base",
            "top": null,
            "grid_column": null,
            "overflow_y": null,
            "overflow_x": null,
            "grid_auto_flow": null,
            "grid_area": null,
            "grid_template_columns": null,
            "flex": null,
            "_model_name": "LayoutModel",
            "justify_items": null,
            "grid_row": null,
            "max_height": null,
            "align_content": null,
            "visibility": null,
            "align_self": null,
            "height": null,
            "min_height": null,
            "padding": null,
            "grid_auto_rows": null,
            "grid_gap": null,
            "max_width": null,
            "order": null,
            "_view_module_version": "1.2.0",
            "grid_template_areas": null,
            "object_position": null,
            "object_fit": null,
            "grid_auto_columns": null,
            "margin": null,
            "display": null,
            "left": null
          }
        },
        "c108861f10854734b924728c6b14f5f8": {
          "model_module": "@jupyter-widgets/controls",
          "model_name": "FloatProgressModel",
          "state": {
            "_view_name": "ProgressView",
            "style": "IPY_MODEL_03dfdea0678343d8bfeceb776976ac67",
            "_dom_classes": [],
            "description": "Downloading: 100%",
            "_model_name": "FloatProgressModel",
            "bar_style": "success",
            "max": 563593952,
            "_view_module": "@jupyter-widgets/controls",
            "_model_module_version": "1.5.0",
            "value": 563593952,
            "_view_count": null,
            "_view_module_version": "1.5.0",
            "orientation": "horizontal",
            "min": 0,
            "description_tooltip": null,
            "_model_module": "@jupyter-widgets/controls",
            "layout": "IPY_MODEL_ee7bd7701c6441b7923aeaf513646987"
          }
        },
        "ed3f1b6c2ccd4d60ad32a5123a39daef": {
          "model_module": "@jupyter-widgets/controls",
          "model_name": "HTMLModel",
          "state": {
            "_view_name": "HTMLView",
            "style": "IPY_MODEL_59d39ea2bec44b8f86c19b31fac4264e",
            "_dom_classes": [],
            "description": "",
            "_model_name": "HTMLModel",
            "placeholder": "​",
            "_view_module": "@jupyter-widgets/controls",
            "_model_module_version": "1.5.0",
            "value": " 564M/564M [00:14&lt;00:00, 38.6MB/s]",
            "_view_count": null,
            "_view_module_version": "1.5.0",
            "description_tooltip": null,
            "_model_module": "@jupyter-widgets/controls",
            "layout": "IPY_MODEL_e48de2cf17504c6fb0322abb9ec1bb55"
          }
        },
        "03dfdea0678343d8bfeceb776976ac67": {
          "model_module": "@jupyter-widgets/controls",
          "model_name": "ProgressStyleModel",
          "state": {
            "_view_name": "StyleView",
            "_model_name": "ProgressStyleModel",
            "description_width": "initial",
            "_view_module": "@jupyter-widgets/base",
            "_model_module_version": "1.5.0",
            "_view_count": null,
            "_view_module_version": "1.2.0",
            "bar_color": null,
            "_model_module": "@jupyter-widgets/controls"
          }
        },
        "ee7bd7701c6441b7923aeaf513646987": {
          "model_module": "@jupyter-widgets/base",
          "model_name": "LayoutModel",
          "state": {
            "_view_name": "LayoutView",
            "grid_template_rows": null,
            "right": null,
            "justify_content": null,
            "_view_module": "@jupyter-widgets/base",
            "overflow": null,
            "_model_module_version": "1.2.0",
            "_view_count": null,
            "flex_flow": null,
            "width": null,
            "min_width": null,
            "border": null,
            "align_items": null,
            "bottom": null,
            "_model_module": "@jupyter-widgets/base",
            "top": null,
            "grid_column": null,
            "overflow_y": null,
            "overflow_x": null,
            "grid_auto_flow": null,
            "grid_area": null,
            "grid_template_columns": null,
            "flex": null,
            "_model_name": "LayoutModel",
            "justify_items": null,
            "grid_row": null,
            "max_height": null,
            "align_content": null,
            "visibility": null,
            "align_self": null,
            "height": null,
            "min_height": null,
            "padding": null,
            "grid_auto_rows": null,
            "grid_gap": null,
            "max_width": null,
            "order": null,
            "_view_module_version": "1.2.0",
            "grid_template_areas": null,
            "object_position": null,
            "object_fit": null,
            "grid_auto_columns": null,
            "margin": null,
            "display": null,
            "left": null
          }
        },
        "59d39ea2bec44b8f86c19b31fac4264e": {
          "model_module": "@jupyter-widgets/controls",
          "model_name": "DescriptionStyleModel",
          "state": {
            "_view_name": "StyleView",
            "_model_name": "DescriptionStyleModel",
            "description_width": "",
            "_view_module": "@jupyter-widgets/base",
            "_model_module_version": "1.5.0",
            "_view_count": null,
            "_view_module_version": "1.2.0",
            "_model_module": "@jupyter-widgets/controls"
          }
        },
        "e48de2cf17504c6fb0322abb9ec1bb55": {
          "model_module": "@jupyter-widgets/base",
          "model_name": "LayoutModel",
          "state": {
            "_view_name": "LayoutView",
            "grid_template_rows": null,
            "right": null,
            "justify_content": null,
            "_view_module": "@jupyter-widgets/base",
            "overflow": null,
            "_model_module_version": "1.2.0",
            "_view_count": null,
            "flex_flow": null,
            "width": null,
            "min_width": null,
            "border": null,
            "align_items": null,
            "bottom": null,
            "_model_module": "@jupyter-widgets/base",
            "top": null,
            "grid_column": null,
            "overflow_y": null,
            "overflow_x": null,
            "grid_auto_flow": null,
            "grid_area": null,
            "grid_template_columns": null,
            "flex": null,
            "_model_name": "LayoutModel",
            "justify_items": null,
            "grid_row": null,
            "max_height": null,
            "align_content": null,
            "visibility": null,
            "align_self": null,
            "height": null,
            "min_height": null,
            "padding": null,
            "grid_auto_rows": null,
            "grid_gap": null,
            "max_width": null,
            "order": null,
            "_view_module_version": "1.2.0",
            "grid_template_areas": null,
            "object_position": null,
            "object_fit": null,
            "grid_auto_columns": null,
            "margin": null,
            "display": null,
            "left": null
          }
        }
      }
    }
  },
  "cells": [
    {
      "cell_type": "markdown",
      "metadata": {
        "id": "IRCiJdBcRvVT"
      },
      "source": [
        "# This is a demonstration of a downstream task (text classification) of the BERT model with the use of Google's TPUs"
      ]
    },
    {
      "cell_type": "code",
      "metadata": {
        "id": "4qdoPd6m4PjW"
      },
      "source": [
        "# Import neccessary libraries\n",
        "import tensorflow as tf\n",
        "import numpy as np\n",
        "from matplotlib import pyplot as plt\n",
        "import os\n",
        "import shutil\n",
        "import tensorflow_hub as hub\n",
        "import tensorflow.keras as K\n",
        "from keras.utils import to_categorical\n",
        "import pandas as pd\n",
        "\n",
        "tf.get_logger().setLevel('ERROR')\n",
        "AUTO = tf.data.experimental.AUTOTUNE"
      ],
      "execution_count": 2,
      "outputs": []
    },
    {
      "cell_type": "code",
      "metadata": {
        "colab": {
          "base_uri": "https://localhost:8080/"
        },
        "id": "O0SXqw2g4cEi",
        "outputId": "05bc17cd-eb36-45a4-a247-2ed088458664"
      },
      "source": [
        "print(tf.__version__)\n",
        "print(K.__version__)"
      ],
      "execution_count": 3,
      "outputs": [
        {
          "output_type": "stream",
          "text": [
            "2.4.1\n",
            "2.4.0\n"
          ],
          "name": "stdout"
        }
      ]
    },
    {
      "cell_type": "markdown",
      "metadata": {
        "id": "0ppLug3NSzf5"
      },
      "source": [
        "### Connect to the TPU worker\n",
        "\n",
        "The following code connects to the TPU worker and changes TensorFlow's default device to the CPU device on the TPU worker. It also defines a TPU distribution strategy that you will use to distribute model training onto the 8 separate TPU cores available on this one TPU worker. See TensorFlow's [TPU guide](https://www.tensorflow.org/guide/tpu) for more information."
      ]
    },
    {
      "cell_type": "code",
      "metadata": {
        "colab": {
          "base_uri": "https://localhost:8080/"
        },
        "id": "vtV33SH9Kklk",
        "outputId": "c585343d-8592-4572-d216-292d1879c79b"
      },
      "source": [
        "\n",
        "if os.environ['COLAB_TPU_ADDR']:\n",
        "  cluster_resolver = tf.distribute.cluster_resolver.TPUClusterResolver(tpu='')\n",
        "  tf.config.experimental_connect_to_cluster(cluster_resolver)\n",
        "  tf.tpu.experimental.initialize_tpu_system(cluster_resolver)\n",
        "  strategy = tf.distribute.TPUStrategy(cluster_resolver)\n",
        "  print('Using TPU')\n",
        "elif tf.test.is_gpu_available():\n",
        "  strategy = tf.distribute.MirroredStrategy()\n",
        "  print('Using GPU')\n",
        "else:\n",
        "  raise ValueError('Running on CPU is not recommended.')"
      ],
      "execution_count": 4,
      "outputs": [
        {
          "output_type": "stream",
          "text": [
            "Using TPU\n"
          ],
          "name": "stdout"
        }
      ]
    },
    {
      "cell_type": "code",
      "metadata": {
        "colab": {
          "base_uri": "https://localhost:8080/"
        },
        "id": "M9o4uaNkP6WD",
        "outputId": "f9a581e2-dd51-4b89-e44f-5f601f51df4c"
      },
      "source": [
        "# View some info of the TPU in this colaboratory\n",
        "from tensorflow.python.profiler import profiler_client\n",
        "\n",
        "tpu_profile_service_address = os.environ['COLAB_TPU_ADDR'].replace('8470', '8466')\n",
        "print(profiler_client.monitor(tpu_profile_service_address, 100, 2))"
      ],
      "execution_count": 5,
      "outputs": [
        {
          "output_type": "stream",
          "text": [
            "  Timestamp: 06:25:07\n",
            "  TPU type: TPU v2\n",
            "  Utilization of TPU Matrix Units (higher is better): 0.000%\n",
            "\n",
            "\n"
          ],
          "name": "stdout"
        }
      ]
    },
    {
      "cell_type": "code",
      "metadata": {
        "colab": {
          "base_uri": "https://localhost:8080/"
        },
        "id": "nfGVJ-Wfgbw5",
        "outputId": "83d2cf72-ff8e-41cd-862e-e56e1cb03f32"
      },
      "source": [
        "#To go fast on a TPU, increase the batch size. The rule of thumb is to use batches of 128 elements per core (ex: batch size of 128*8=1024 for a TPU with 8 cores). \n",
        "#At this size, the 128x128 hardware matrix multipliers of the TPU (see hardware section below) are most likely to be kept busy. \n",
        "#You start seeing interesting speedups from a batch size of 8 per core though. In the sample above, the batch size is scaled with the core count\n",
        "\n",
        "# mixed precision\n",
        "# On TPU, bfloat16/float32 mixed precision is automatically used in TPU computations.\n",
        "# Enabling it in Keras also stores relevant variables in bfloat16 format (memory optimization).\n",
        "# On GPU, specifically V100, mixed precision must be enabled for hardware TensorCores to be used.\n",
        "# XLA compilation must be enabled for this to work. (On TPU, XLA compilation is the default)\n",
        "MIXED_PRECISION = False\n",
        "if MIXED_PRECISION:\n",
        "    if tpu: \n",
        "        policy = tf.keras.mixed_precision.experimental.Policy('mixed_bfloat16')\n",
        "    else: #\n",
        "        policy = tf.keras.mixed_precision.experimental.Policy('mixed_float16')\n",
        "        tf.config.optimizer.set_jit(True) # XLA compilation\n",
        "    tf.keras.mixed_precision.experimental.set_policy(policy)\n",
        "    print('Mixed precision enabled')\n",
        "\n",
        "# batch and learning rate settings\n",
        "if strategy.num_replicas_in_sync == 8: # TPU or 8xGPU\n",
        "    BATCH_SIZE = 16 * strategy.num_replicas_in_sync\n",
        "    VALIDATION_BATCH_SIZE = 16 * strategy.num_replicas_in_sync\n",
        "    print('8')\n",
        "    \n",
        "elif strategy.num_replicas_in_sync == 1: # single GPU\n",
        "    BATCH_SIZE = 16\n",
        "    VALIDATION_BATCH_SIZE = 16\n",
        "    print('1')\n",
        "    \n",
        "else: # TPU pod\n",
        "    BATCH_SIZE = 8 * strategy.num_replicas_in_sync\n",
        "    VALIDATION_BATCH_SIZE = 8 * strategy.num_replicas_in_sync\n",
        "    print('else')\n",
        "   "
      ],
      "execution_count": 7,
      "outputs": [
        {
          "output_type": "stream",
          "text": [
            "8\n"
          ],
          "name": "stdout"
        }
      ]
    },
    {
      "cell_type": "code",
      "metadata": {
        "colab": {
          "base_uri": "https://localhost:8080/",
          "height": 877,
          "referenced_widgets": [
            "c4729441e9c34d22a0afb01a2193b51d",
            "6a5ccab7caf54062becb48c585a108a8",
            "f946798f97c643d199840a91e118e37b",
            "fe1bad10bc3a402a8c75abf5c674c4a8",
            "7d314c5302054dadadba916a81b2016f",
            "78f001df5f264c6bbbcfa06a62386089",
            "a6c92138b576463f810469fdb662a1bb",
            "dd2cba52ea7f49b0a4ed6f8331cb4630",
            "afe98b941a28483bb1500298f6134466",
            "c5241c2e5b584300b77bd4b52cd1b7b9",
            "7ab0e595bdce43f8a43a2832d7b54cc9",
            "467d7b297bd74e00a68f14981dfffc64",
            "cf0ebc85b13b4076bda76e5a24c701f1",
            "1d3fa16d36c240c896b066894e1e3bfe",
            "adc182fbe9124e3194fcc003dfb068f4",
            "ccdeff401ec94ced940670b025956979",
            "c535c4b4593842549b95f8933bc45d2a",
            "d6d04fb9e25f4da6a264aa04bc91f559",
            "97af13dc4821423c98f60b696b267b26",
            "538e393f21594d87b344f3e21c5b65fa",
            "507f2bc6e4364598a68524bda79752a8",
            "6407cea1bbdb4d17bf9cfaee5487dee5",
            "31cf86e2e89941a1b4b44b5ddda7e7e0",
            "d3ac5f9ac3cd4626877592dd205311f3",
            "1af02e489f1d4851a1c65932e6f59a4c",
            "0d7a31f218b84462ad08ee7d3053977c",
            "b87d800b2a8346289f78303c7ecd35fe",
            "c269afc8dc8c4804bb6389a615f9e1e6",
            "6738f7af12d946469ffe9d5a0f507297",
            "7bf9e0bb21094b15aa87dc0a3b8f78a8",
            "36bb7e8b8be34ca8b77128a2a69637cf",
            "c5095b3f63994d828b23c169299a4404",
            "4b6537af9088462c8fa7f1c2c142e970",
            "5707af2e68954e1589201ef5e05120af",
            "c108861f10854734b924728c6b14f5f8",
            "ed3f1b6c2ccd4d60ad32a5123a39daef",
            "03dfdea0678343d8bfeceb776976ac67",
            "ee7bd7701c6441b7923aeaf513646987",
            "59d39ea2bec44b8f86c19b31fac4264e",
            "e48de2cf17504c6fb0322abb9ec1bb55"
          ]
        },
        "id": "nayntnIB4cnV",
        "outputId": "0db21dd8-262b-4c2c-ab2a-85fcb45e7f29"
      },
      "source": [
        "# Install transformers and download the greek specific file for model and tokenizer\n",
        "# This is done only for testing some inputs\n",
        "# For fine tuning the BERT model we have to load again the model when we build it inside strategy.scope()\n",
        "!pip install transformers\n",
        "from transformers import AutoTokenizer, TFAutoModel\n",
        "from transformers import AdamWeightDecay\n",
        "\n",
        "tokenizer = AutoTokenizer.from_pretrained(\"nlpaueb/bert-base-greek-uncased-v1\")\n",
        "model = TFAutoModel.from_pretrained(\"nlpaueb/bert-base-greek-uncased-v1\")\n"
      ],
      "execution_count": 8,
      "outputs": [
        {
          "output_type": "stream",
          "text": [
            "Collecting transformers\n",
            "\u001b[?25l  Downloading https://files.pythonhosted.org/packages/d5/43/cfe4ee779bbd6a678ac6a97c5a5cdeb03c35f9eaebbb9720b036680f9a2d/transformers-4.6.1-py3-none-any.whl (2.2MB)\n",
            "\u001b[K     |████████████████████████████████| 2.3MB 6.9MB/s \n",
            "\u001b[?25hCollecting huggingface-hub==0.0.8\n",
            "  Downloading https://files.pythonhosted.org/packages/a1/88/7b1e45720ecf59c6c6737ff332f41c955963090a18e72acbcbeac6b25e86/huggingface_hub-0.0.8-py3-none-any.whl\n",
            "Requirement already satisfied: packaging in /usr/local/lib/python3.7/dist-packages (from transformers) (20.9)\n",
            "Requirement already satisfied: requests in /usr/local/lib/python3.7/dist-packages (from transformers) (2.23.0)\n",
            "Requirement already satisfied: filelock in /usr/local/lib/python3.7/dist-packages (from transformers) (3.0.12)\n",
            "Requirement already satisfied: regex!=2019.12.17 in /usr/local/lib/python3.7/dist-packages (from transformers) (2019.12.20)\n",
            "Collecting tokenizers<0.11,>=0.10.1\n",
            "\u001b[?25l  Downloading https://files.pythonhosted.org/packages/d4/e2/df3543e8ffdab68f5acc73f613de9c2b155ac47f162e725dcac87c521c11/tokenizers-0.10.3-cp37-cp37m-manylinux_2_5_x86_64.manylinux1_x86_64.manylinux_2_12_x86_64.manylinux2010_x86_64.whl (3.3MB)\n",
            "\u001b[K     |████████████████████████████████| 3.3MB 31.8MB/s \n",
            "\u001b[?25hRequirement already satisfied: tqdm>=4.27 in /usr/local/lib/python3.7/dist-packages (from transformers) (4.41.1)\n",
            "Requirement already satisfied: numpy>=1.17 in /usr/local/lib/python3.7/dist-packages (from transformers) (1.19.5)\n",
            "Requirement already satisfied: importlib-metadata; python_version < \"3.8\" in /usr/local/lib/python3.7/dist-packages (from transformers) (4.0.1)\n",
            "Collecting sacremoses\n",
            "\u001b[?25l  Downloading https://files.pythonhosted.org/packages/75/ee/67241dc87f266093c533a2d4d3d69438e57d7a90abb216fa076e7d475d4a/sacremoses-0.0.45-py3-none-any.whl (895kB)\n",
            "\u001b[K     |████████████████████████████████| 901kB 45.7MB/s \n",
            "\u001b[?25hRequirement already satisfied: pyparsing>=2.0.2 in /usr/local/lib/python3.7/dist-packages (from packaging->transformers) (2.4.7)\n",
            "Requirement already satisfied: idna<3,>=2.5 in /usr/local/lib/python3.7/dist-packages (from requests->transformers) (2.10)\n",
            "Requirement already satisfied: urllib3!=1.25.0,!=1.25.1,<1.26,>=1.21.1 in /usr/local/lib/python3.7/dist-packages (from requests->transformers) (1.24.3)\n",
            "Requirement already satisfied: certifi>=2017.4.17 in /usr/local/lib/python3.7/dist-packages (from requests->transformers) (2020.12.5)\n",
            "Requirement already satisfied: chardet<4,>=3.0.2 in /usr/local/lib/python3.7/dist-packages (from requests->transformers) (3.0.4)\n",
            "Requirement already satisfied: zipp>=0.5 in /usr/local/lib/python3.7/dist-packages (from importlib-metadata; python_version < \"3.8\"->transformers) (3.4.1)\n",
            "Requirement already satisfied: typing-extensions>=3.6.4; python_version < \"3.8\" in /usr/local/lib/python3.7/dist-packages (from importlib-metadata; python_version < \"3.8\"->transformers) (3.7.4.3)\n",
            "Requirement already satisfied: six in /usr/local/lib/python3.7/dist-packages (from sacremoses->transformers) (1.15.0)\n",
            "Requirement already satisfied: click in /usr/local/lib/python3.7/dist-packages (from sacremoses->transformers) (8.0.0)\n",
            "Requirement already satisfied: joblib in /usr/local/lib/python3.7/dist-packages (from sacremoses->transformers) (1.0.1)\n",
            "Installing collected packages: huggingface-hub, tokenizers, sacremoses, transformers\n",
            "Successfully installed huggingface-hub-0.0.8 sacremoses-0.0.45 tokenizers-0.10.3 transformers-4.6.1\n"
          ],
          "name": "stdout"
        },
        {
          "output_type": "display_data",
          "data": {
            "application/vnd.jupyter.widget-view+json": {
              "model_id": "c4729441e9c34d22a0afb01a2193b51d",
              "version_minor": 0,
              "version_major": 2
            },
            "text/plain": [
              "HBox(children=(FloatProgress(value=0.0, description='Downloading', max=459.0, style=ProgressStyle(description_…"
            ]
          },
          "metadata": {
            "tags": []
          }
        },
        {
          "output_type": "stream",
          "text": [
            "\n"
          ],
          "name": "stdout"
        },
        {
          "output_type": "display_data",
          "data": {
            "application/vnd.jupyter.widget-view+json": {
              "model_id": "afe98b941a28483bb1500298f6134466",
              "version_minor": 0,
              "version_major": 2
            },
            "text/plain": [
              "HBox(children=(FloatProgress(value=0.0, description='Downloading', max=529930.0, style=ProgressStyle(descripti…"
            ]
          },
          "metadata": {
            "tags": []
          }
        },
        {
          "output_type": "stream",
          "text": [
            "\n"
          ],
          "name": "stdout"
        },
        {
          "output_type": "display_data",
          "data": {
            "application/vnd.jupyter.widget-view+json": {
              "model_id": "c535c4b4593842549b95f8933bc45d2a",
              "version_minor": 0,
              "version_major": 2
            },
            "text/plain": [
              "HBox(children=(FloatProgress(value=0.0, description='Downloading', max=112.0, style=ProgressStyle(description_…"
            ]
          },
          "metadata": {
            "tags": []
          }
        },
        {
          "output_type": "stream",
          "text": [
            "\n"
          ],
          "name": "stdout"
        },
        {
          "output_type": "display_data",
          "data": {
            "application/vnd.jupyter.widget-view+json": {
              "model_id": "1af02e489f1d4851a1c65932e6f59a4c",
              "version_minor": 0,
              "version_major": 2
            },
            "text/plain": [
              "HBox(children=(FloatProgress(value=0.0, description='Downloading', max=2.0, style=ProgressStyle(description_wi…"
            ]
          },
          "metadata": {
            "tags": []
          }
        },
        {
          "output_type": "stream",
          "text": [
            "\n"
          ],
          "name": "stdout"
        },
        {
          "output_type": "display_data",
          "data": {
            "application/vnd.jupyter.widget-view+json": {
              "model_id": "4b6537af9088462c8fa7f1c2c142e970",
              "version_minor": 0,
              "version_major": 2
            },
            "text/plain": [
              "HBox(children=(FloatProgress(value=0.0, description='Downloading', max=563593952.0, style=ProgressStyle(descri…"
            ]
          },
          "metadata": {
            "tags": []
          }
        },
        {
          "output_type": "stream",
          "text": [
            "\n"
          ],
          "name": "stdout"
        },
        {
          "output_type": "stream",
          "text": [
            "Some layers from the model checkpoint at nlpaueb/bert-base-greek-uncased-v1 were not used when initializing TFBertModel: ['nsp___cls', 'mlm___cls']\n",
            "- This IS expected if you are initializing TFBertModel from the checkpoint of a model trained on another task or with another architecture (e.g. initializing a BertForSequenceClassification model from a BertForPreTraining model).\n",
            "- This IS NOT expected if you are initializing TFBertModel from the checkpoint of a model that you expect to be exactly identical (initializing a BertForSequenceClassification model from a BertForSequenceClassification model).\n",
            "All the layers of TFBertModel were initialized from the model checkpoint at nlpaueb/bert-base-greek-uncased-v1.\n",
            "If your task is similar to the task the model of the checkpoint was trained on, you can already use TFBertModel for predictions without further training.\n"
          ],
          "name": "stderr"
        }
      ]
    },
    {
      "cell_type": "code",
      "metadata": {
        "colab": {
          "base_uri": "https://localhost:8080/"
        },
        "id": "48NMmZlL4zUz",
        "outputId": "1fcf7103-7672-42b8-b9be-9fe20aee75b5"
      },
      "source": [
        "model.summary()\n",
        "print()\n",
        "model\n",
        "print()\n",
        "tokenizer"
      ],
      "execution_count": 9,
      "outputs": [
        {
          "output_type": "stream",
          "text": [
            "Model: \"tf_bert_model\"\n",
            "_________________________________________________________________\n",
            "Layer (type)                 Output Shape              Param #   \n",
            "=================================================================\n",
            "bert (TFBertMainLayer)       multiple                  112921344 \n",
            "=================================================================\n",
            "Total params: 112,921,344\n",
            "Trainable params: 112,921,344\n",
            "Non-trainable params: 0\n",
            "_________________________________________________________________\n",
            "\n",
            "\n"
          ],
          "name": "stdout"
        },
        {
          "output_type": "execute_result",
          "data": {
            "text/plain": [
              "PreTrainedTokenizerFast(name_or_path='nlpaueb/bert-base-greek-uncased-v1', vocab_size=35000, model_max_len=1000000000000000019884624838656, is_fast=True, padding_side='right', special_tokens={'unk_token': '[UNK]', 'sep_token': '[SEP]', 'pad_token': '[PAD]', 'cls_token': '[CLS]', 'mask_token': '[MASK]'})"
            ]
          },
          "metadata": {
            "tags": []
          },
          "execution_count": 9
        }
      ]
    },
    {
      "cell_type": "markdown",
      "metadata": {
        "id": "YANAif3_mOxZ"
      },
      "source": [
        "#GRGE example"
      ]
    },
    {
      "cell_type": "code",
      "metadata": {
        "colab": {
          "base_uri": "https://localhost:8080/",
          "height": 419
        },
        "id": "wKvtu0TGmUgW",
        "outputId": "66402988-5ebf-4207-c4f9-30305e2c99eb"
      },
      "source": [
        "# Load the .csv file\n",
        "df = pd.read_csv(\"/content/GRGE_sentiment.csv\")\n",
        "df"
      ],
      "execution_count": 10,
      "outputs": [
        {
          "output_type": "execute_result",
          "data": {
            "text/html": [
              "<div>\n",
              "<style scoped>\n",
              "    .dataframe tbody tr th:only-of-type {\n",
              "        vertical-align: middle;\n",
              "    }\n",
              "\n",
              "    .dataframe tbody tr th {\n",
              "        vertical-align: top;\n",
              "    }\n",
              "\n",
              "    .dataframe thead th {\n",
              "        text-align: right;\n",
              "    }\n",
              "</style>\n",
              "<table border=\"1\" class=\"dataframe\">\n",
              "  <thead>\n",
              "    <tr style=\"text-align: right;\">\n",
              "      <th></th>\n",
              "      <th>Unnamed: 0</th>\n",
              "      <th>Text</th>\n",
              "      <th>Polarity1</th>\n",
              "    </tr>\n",
              "  </thead>\n",
              "  <tbody>\n",
              "    <tr>\n",
              "      <th>0</th>\n",
              "      <td>0</td>\n",
              "      <td>Επιχείρηση Βολευτική έδρα!  Βασίλης Οικονόμου:...</td>\n",
              "      <td>Negative</td>\n",
              "    </tr>\n",
              "    <tr>\n",
              "      <th>1</th>\n",
              "      <td>1</td>\n",
              "      <td>Κ ά β ο ς: Ψηφοδέλτιο ΣΥΡΙΖΑ Κορινθίας - Πού π...</td>\n",
              "      <td>Negative</td>\n",
              "    </tr>\n",
              "    <tr>\n",
              "      <th>2</th>\n",
              "      <td>2</td>\n",
              "      <td>@Dora_Bakoyannis Αυτο-καρφώνεσαι όταν αναρωτιέ...</td>\n",
              "      <td>Positive</td>\n",
              "    </tr>\n",
              "    <tr>\n",
              "      <th>3</th>\n",
              "      <td>3</td>\n",
              "      <td>Κόμμα «σκαντζόχοιρος»: «Σφαγή» πασοκογενών από...</td>\n",
              "      <td>Neutral</td>\n",
              "    </tr>\n",
              "    <tr>\n",
              "      <th>4</th>\n",
              "      <td>4</td>\n",
              "      <td>Και γαμώ και την Νέα Δημοκρατία γιατί ειμαι πο...</td>\n",
              "      <td>Negative</td>\n",
              "    </tr>\n",
              "    <tr>\n",
              "      <th>...</th>\n",
              "      <td>...</td>\n",
              "      <td>...</td>\n",
              "      <td>...</td>\n",
              "    </tr>\n",
              "    <tr>\n",
              "      <th>1635</th>\n",
              "      <td>1635</td>\n",
              "      <td>Κουτσούμπας: Δεν θα γίνουμε κερασάκι στην αντι...</td>\n",
              "      <td>Negative</td>\n",
              "    </tr>\n",
              "    <tr>\n",
              "      <th>1636</th>\n",
              "      <td>1636</td>\n",
              "      <td>Θέλουμε μια Ελλάδα με πολιτικούς σαν την κ.Φωτ...</td>\n",
              "      <td>Negative</td>\n",
              "    </tr>\n",
              "    <tr>\n",
              "      <th>1637</th>\n",
              "      <td>1637</td>\n",
              "      <td>Για διαχωρισμό κράτους-εκκλησίας, ομόφυλο γάμο...</td>\n",
              "      <td>Negative</td>\n",
              "    </tr>\n",
              "    <tr>\n",
              "      <th>1638</th>\n",
              "      <td>1638</td>\n",
              "      <td>ΓΙΑΝΝΕΝΑ:Στην πρώτη γραμμή της προεκλογικής μά...</td>\n",
              "      <td>Neutral</td>\n",
              "    </tr>\n",
              "    <tr>\n",
              "      <th>1639</th>\n",
              "      <td>1639</td>\n",
              "      <td>Σημαντικό βήμα για την αποφυγή της επερχόμενης...</td>\n",
              "      <td>Neutral</td>\n",
              "    </tr>\n",
              "  </tbody>\n",
              "</table>\n",
              "<p>1640 rows × 3 columns</p>\n",
              "</div>"
            ],
            "text/plain": [
              "      Unnamed: 0                                               Text Polarity1\n",
              "0              0  Επιχείρηση Βολευτική έδρα!  Βασίλης Οικονόμου:...  Negative\n",
              "1              1  Κ ά β ο ς: Ψηφοδέλτιο ΣΥΡΙΖΑ Κορινθίας - Πού π...  Negative\n",
              "2              2  @Dora_Bakoyannis Αυτο-καρφώνεσαι όταν αναρωτιέ...  Positive\n",
              "3              3  Κόμμα «σκαντζόχοιρος»: «Σφαγή» πασοκογενών από...   Neutral\n",
              "4              4  Και γαμώ και την Νέα Δημοκρατία γιατί ειμαι πο...  Negative\n",
              "...          ...                                                ...       ...\n",
              "1635        1635  Κουτσούμπας: Δεν θα γίνουμε κερασάκι στην αντι...  Negative\n",
              "1636        1636  Θέλουμε μια Ελλάδα με πολιτικούς σαν την κ.Φωτ...  Negative\n",
              "1637        1637  Για διαχωρισμό κράτους-εκκλησίας, ομόφυλο γάμο...  Negative\n",
              "1638        1638  ΓΙΑΝΝΕΝΑ:Στην πρώτη γραμμή της προεκλογικής μά...   Neutral\n",
              "1639        1639  Σημαντικό βήμα για την αποφυγή της επερχόμενης...   Neutral\n",
              "\n",
              "[1640 rows x 3 columns]"
            ]
          },
          "metadata": {
            "tags": []
          },
          "execution_count": 10
        }
      ]
    },
    {
      "cell_type": "code",
      "metadata": {
        "colab": {
          "base_uri": "https://localhost:8080/"
        },
        "id": "OS3kqGiKmkGA",
        "outputId": "7cbf97ef-2763-4713-f434-724730d437bc"
      },
      "source": [
        "#View frst 10 entries\n",
        "text_list = df['Text'].to_list()\n",
        "print(text_list[:10])\n",
        "polarity = df[\"Polarity1\"].to_list()\n",
        "print(polarity[:10])"
      ],
      "execution_count": 11,
      "outputs": [
        {
          "output_type": "stream",
          "text": [
            "['Επιχείρηση Βολευτική έδρα!  Βασίλης Οικονόμου:  Από το ΠΑΣΟΚ διαγράφηκε απο το ΓΑΠ επειδη ΔΕΝ ψήφισε το Μνημόνιο... http://t.co/gPgr1Caqxv', 'Κ ά β ο ς: Ψηφοδέλτιο ΣΥΡΙΖΑ Κορινθίας - Πού πας,ΣΥΡΙΖΑ, με δράμι μυαλό... http://t.co/8eIiKYS7CP', '@Dora_Bakoyannis Αυτο-καρφώνεσαι όταν αναρωτιέσαι ποιον ΠτΔ θα προτείνει ο ΣΥΡΙΖΑ  αποδεχόμενη την νίκη του αντιπάλου.', 'Κόμμα «σκαντζόχοιρος»: «Σφαγή» πασοκογενών από τις λίστες του ΣΥΡΙΖΑ http://t.co/rC7EY67qFY', 'Και γαμώ και την Νέα Δημοκρατία γιατί ειμαι πολιτικο ακκάουντ στην τελική όχι κλαψομούνικο!!!!', 'Ε. Καϊλή: «Ηθικό ζήτημα που θα κριθεί από τον κόσμο» η μετακίνηση της Γκερέκου στη ΝΔ http://t.co/Q4oYSfJjZZ', 'ΔΙΑΒΑΣΤΕ ΣΗΜΕΡΑ ΣΤΗΝ KONTRA NEWS : ΣΙΓΟΥΡΗ ΠΛΕΟΝ Η ΑΥΤΟΔΥΝΑΜΙΑ ΤΟΥ ΣΥΡΙΖΑ ΚΑΘΑΡΙΣΕ Ο ΣΑΜΑΡΑΣ ΓΙΑ ΤΟΝ ΑΛΕΞΗ ΔΥΟ... http://t.co/JZV7IHUTw1', 'Συμφωνεί ο ΣΥΡΙΖΑ στα Εθνικά θέματα με τον Τρεμόπουλο; Ο “οικολόγος” Μιχ. Τρεμόπουλος, εκείνος που είχε αναφέρ... http://t.co/nqFAZKAQO5', 'Τα μέτρα του ΣΥΡΙΖΑ ενάντια στη διαπλοκή http://t.co/XklqakuOyx via @youtube', 'Η επιστολή αποχώρησης από το ΠΑΣΟΚ για τον\\xa0Παπανδρέου http://t.co/lq9Fq6ylxq']\n",
            "['Negative', 'Negative', 'Positive', 'Neutral', 'Negative', 'Neutral', 'Neutral', 'Neutral', 'Neutral', 'Neutral']\n"
          ],
          "name": "stdout"
        }
      ]
    },
    {
      "cell_type": "code",
      "metadata": {
        "colab": {
          "base_uri": "https://localhost:8080/"
        },
        "id": "Cpe5adItmvc1",
        "outputId": "8abf0a43-2154-4df4-fc32-0ae75a4132fc"
      },
      "source": [
        "# Prepare input data for training\n",
        "def my_func(arg):\n",
        "  arg = tf.convert_to_tensor(arg, dtype=tf.string)\n",
        "  return arg\n",
        "\n",
        "train_x = my_func(np.array(text_list))\n",
        "print(train_x)"
      ],
      "execution_count": 12,
      "outputs": [
        {
          "output_type": "stream",
          "text": [
            "tf.Tensor(\n",
            "[b'\\xce\\x95\\xcf\\x80\\xce\\xb9\\xcf\\x87\\xce\\xb5\\xce\\xaf\\xcf\\x81\\xce\\xb7\\xcf\\x83\\xce\\xb7 \\xce\\x92\\xce\\xbf\\xce\\xbb\\xce\\xb5\\xcf\\x85\\xcf\\x84\\xce\\xb9\\xce\\xba\\xce\\xae \\xce\\xad\\xce\\xb4\\xcf\\x81\\xce\\xb1!  \\xce\\x92\\xce\\xb1\\xcf\\x83\\xce\\xaf\\xce\\xbb\\xce\\xb7\\xcf\\x82 \\xce\\x9f\\xce\\xb9\\xce\\xba\\xce\\xbf\\xce\\xbd\\xcf\\x8c\\xce\\xbc\\xce\\xbf\\xcf\\x85:  \\xce\\x91\\xcf\\x80\\xcf\\x8c \\xcf\\x84\\xce\\xbf \\xce\\xa0\\xce\\x91\\xce\\xa3\\xce\\x9f\\xce\\x9a \\xce\\xb4\\xce\\xb9\\xce\\xb1\\xce\\xb3\\xcf\\x81\\xce\\xac\\xcf\\x86\\xce\\xb7\\xce\\xba\\xce\\xb5 \\xce\\xb1\\xcf\\x80\\xce\\xbf \\xcf\\x84\\xce\\xbf \\xce\\x93\\xce\\x91\\xce\\xa0 \\xce\\xb5\\xcf\\x80\\xce\\xb5\\xce\\xb9\\xce\\xb4\\xce\\xb7 \\xce\\x94\\xce\\x95\\xce\\x9d \\xcf\\x88\\xce\\xae\\xcf\\x86\\xce\\xb9\\xcf\\x83\\xce\\xb5 \\xcf\\x84\\xce\\xbf \\xce\\x9c\\xce\\xbd\\xce\\xb7\\xce\\xbc\\xcf\\x8c\\xce\\xbd\\xce\\xb9\\xce\\xbf... http://t.co/gPgr1Caqxv'\n",
            " b'\\xce\\x9a \\xce\\xac \\xce\\xb2 \\xce\\xbf \\xcf\\x82: \\xce\\xa8\\xce\\xb7\\xcf\\x86\\xce\\xbf\\xce\\xb4\\xce\\xad\\xce\\xbb\\xcf\\x84\\xce\\xb9\\xce\\xbf \\xce\\xa3\\xce\\xa5\\xce\\xa1\\xce\\x99\\xce\\x96\\xce\\x91 \\xce\\x9a\\xce\\xbf\\xcf\\x81\\xce\\xb9\\xce\\xbd\\xce\\xb8\\xce\\xaf\\xce\\xb1\\xcf\\x82 - \\xce\\xa0\\xce\\xbf\\xcf\\x8d \\xcf\\x80\\xce\\xb1\\xcf\\x82,\\xce\\xa3\\xce\\xa5\\xce\\xa1\\xce\\x99\\xce\\x96\\xce\\x91, \\xce\\xbc\\xce\\xb5 \\xce\\xb4\\xcf\\x81\\xce\\xac\\xce\\xbc\\xce\\xb9 \\xce\\xbc\\xcf\\x85\\xce\\xb1\\xce\\xbb\\xcf\\x8c... http://t.co/8eIiKYS7CP'\n",
            " b'@Dora_Bakoyannis \\xce\\x91\\xcf\\x85\\xcf\\x84\\xce\\xbf-\\xce\\xba\\xce\\xb1\\xcf\\x81\\xcf\\x86\\xcf\\x8e\\xce\\xbd\\xce\\xb5\\xcf\\x83\\xce\\xb1\\xce\\xb9 \\xcf\\x8c\\xcf\\x84\\xce\\xb1\\xce\\xbd \\xce\\xb1\\xce\\xbd\\xce\\xb1\\xcf\\x81\\xcf\\x89\\xcf\\x84\\xce\\xb9\\xce\\xad\\xcf\\x83\\xce\\xb1\\xce\\xb9 \\xcf\\x80\\xce\\xbf\\xce\\xb9\\xce\\xbf\\xce\\xbd \\xce\\xa0\\xcf\\x84\\xce\\x94 \\xce\\xb8\\xce\\xb1 \\xcf\\x80\\xcf\\x81\\xce\\xbf\\xcf\\x84\\xce\\xb5\\xce\\xaf\\xce\\xbd\\xce\\xb5\\xce\\xb9 \\xce\\xbf \\xce\\xa3\\xce\\xa5\\xce\\xa1\\xce\\x99\\xce\\x96\\xce\\x91  \\xce\\xb1\\xcf\\x80\\xce\\xbf\\xce\\xb4\\xce\\xb5\\xcf\\x87\\xcf\\x8c\\xce\\xbc\\xce\\xb5\\xce\\xbd\\xce\\xb7 \\xcf\\x84\\xce\\xb7\\xce\\xbd \\xce\\xbd\\xce\\xaf\\xce\\xba\\xce\\xb7 \\xcf\\x84\\xce\\xbf\\xcf\\x85 \\xce\\xb1\\xce\\xbd\\xcf\\x84\\xce\\xb9\\xcf\\x80\\xce\\xac\\xce\\xbb\\xce\\xbf\\xcf\\x85.'\n",
            " ...\n",
            " b'\\xce\\x93\\xce\\xb9\\xce\\xb1 \\xce\\xb4\\xce\\xb9\\xce\\xb1\\xcf\\x87\\xcf\\x89\\xcf\\x81\\xce\\xb9\\xcf\\x83\\xce\\xbc\\xcf\\x8c \\xce\\xba\\xcf\\x81\\xce\\xac\\xcf\\x84\\xce\\xbf\\xcf\\x85\\xcf\\x82-\\xce\\xb5\\xce\\xba\\xce\\xba\\xce\\xbb\\xce\\xb7\\xcf\\x83\\xce\\xaf\\xce\\xb1\\xcf\\x82, \\xce\\xbf\\xce\\xbc\\xcf\\x8c\\xcf\\x86\\xcf\\x85\\xce\\xbb\\xce\\xbf \\xce\\xb3\\xce\\xac\\xce\\xbc\\xce\\xbf \\xce\\xba\\xce\\xb1\\xce\\xb9 \\xcf\\x85\\xce\\xb9\\xce\\xbf\\xce\\xb8\\xce\\xb5\\xcf\\x83\\xce\\xaf\\xce\\xb1, \\xce\\xbf \\xce\\xa3\\xcf\\x85\\xce\\xa1\\xce\\xb9\\xce\\xb6\\xce\\x91 \\xce\\xb2\\xcf\\x81\\xce\\xaf\\xcf\\x83\\xce\\xba\\xce\\xb5\\xcf\\x84\\xce\\xb1\\xce\\xb9 \\xce\\xb4\\xce\\xb5\\xce\\xbe\\xce\\xb9\\xce\\xac \\xcf\\x84\\xce\\xbf\\xcf\\x85 \\xce\\x9f\\xce\\xbc\\xcf\\x80\\xce\\xac\\xce\\xbc\\xce\\xb1. MT @asteris Even Obama stayed liberal on'\n",
            " b'\\xce\\x93\\xce\\x99\\xce\\x91\\xce\\x9d\\xce\\x9d\\xce\\x95\\xce\\x9d\\xce\\x91:\\xce\\xa3\\xcf\\x84\\xce\\xb7\\xce\\xbd \\xcf\\x80\\xcf\\x81\\xcf\\x8e\\xcf\\x84\\xce\\xb7 \\xce\\xb3\\xcf\\x81\\xce\\xb1\\xce\\xbc\\xce\\xbc\\xce\\xae \\xcf\\x84\\xce\\xb7\\xcf\\x82 \\xcf\\x80\\xcf\\x81\\xce\\xbf\\xce\\xb5\\xce\\xba\\xce\\xbb\\xce\\xbf\\xce\\xb3\\xce\\xb9\\xce\\xba\\xce\\xae\\xcf\\x82 \\xce\\xbc\\xce\\xac\\xcf\\x87\\xce\\xb7\\xcf\\x82 \\xce\\xb3\\xce\\xb9\\xce\\xb1 \\xcf\\x84\\xce\\xbf \\xce\\xa0\\xce\\x91\\xce\\xa3\\xce\\x9f\\xce\\x9a \\xce\\xbf \\xce\\xa3\\xcf\\x89\\xcf\\x84\\xce\\xae\\xcf\\x81\\xce\\xb7\\xcf\\x82 \\xce\\x96\\xce\\xb1\\xcf\\x81\\xcf\\x80\\xce\\xb1\\xce\\xbb\\xce\\xac\\xcf\\x82: \\xce\\xa4\\xce\\xb7\\xce\\xbd \\xcf\\x80\\xce\\xb5\\xcf\\x80\\xce\\xbf\\xce\\xaf\\xce\\xb8\\xce\\xb7\\xcf\\x83\\xce\\xb7 \\xcf\\x84\\xce\\xbf\\xcf\\x85 \\xcf\\x8c\\xcf\\x84\\xce\\xb9 \\xcf\\x84\\xce\\xb5\\xce\\xbb\\xce\\xb9\\xce\\xba... http://t.co/zTRCCPuXmh'\n",
            " b'\\xce\\xa3\\xce\\xb7\\xce\\xbc\\xce\\xb1\\xce\\xbd\\xcf\\x84\\xce\\xb9\\xce\\xba\\xcf\\x8c \\xce\\xb2\\xce\\xae\\xce\\xbc\\xce\\xb1 \\xce\\xb3\\xce\\xb9\\xce\\xb1 \\xcf\\x84\\xce\\xb7\\xce\\xbd \\xce\\xb1\\xcf\\x80\\xce\\xbf\\xcf\\x86\\xcf\\x85\\xce\\xb3\\xce\\xae \\xcf\\x84\\xce\\xb7\\xcf\\x82 \\xce\\xb5\\xcf\\x80\\xce\\xb5\\xcf\\x81\\xcf\\x87\\xcf\\x8c\\xce\\xbc\\xce\\xb5\\xce\\xbd\\xce\\xb7\\xcf\\x82 \\xcf\\x80\\xce\\xbf\\xce\\xbb\\xce\\xb9\\xcf\\x84\\xce\\xb9\\xce\\xba\\xce\\xae\\xcf\\x82 \\xce\\xba\\xcf\\x81\\xce\\xaf\\xcf\\x83\\xce\\xb7\\xcf\\x82 \\xce\\xb8\\xce\\xb1 \\xce\\xae\\xcf\\x84\\xce\\xb1\\xce\\xbd \\xce\\xb7 \\xce\\xb5\\xce\\xba\\xce\\xbb\\xce\\xbf\\xce\\xb3\\xce\\xb9\\xce\\xba\\xce\\xae \\xcf\\x83\\xcf\\x8d\\xce\\xbc\\xcf\\x80\\xcf\\x81\\xce\\xb1\\xce\\xbe\\xce\\xb7 \\xcf\\x80\\xce\\xb1\\xcf\\x83\\xcf\\x8c\\xce\\xba \\xcf\\x80\\xce\\xbf\\xcf\\x84\\xce\\xb1\\xce\\xbc\\xce\\xb9\\xce\\xbf\\xcf\\x8d. \\xce\\x91\\xcf\\x82 \\xce\\xb5\\xce\\xbb\\xcf\\x80\\xce\\xaf\\xcf\\x83\\xce\\xbf\\xcf\\x85\\xce\\xbc\\xce\\xb5 \\xce\\xbc\\xce\\xb5\\xcf\\x84\\xce\\xac \\xcf\\x84\\xce\\xb9\\xcf\\x82 25.'], shape=(1640,), dtype=string)\n"
          ],
          "name": "stdout"
        }
      ]
    },
    {
      "cell_type": "code",
      "metadata": {
        "colab": {
          "base_uri": "https://localhost:8080/"
        },
        "id": "f2Ut2r5Rmwxg",
        "outputId": "b5fa3fb9-b610-4278-bfe1-bbde3d2ae274"
      },
      "source": [
        "#Prepare labels for training\n",
        "encoded_labels = []\n",
        "\n",
        "for i in polarity:\n",
        "  if i == 'Negative':\n",
        "    encoded_labels.append(0)\n",
        "  elif i == 'Positive':\n",
        "    encoded_labels.append(1)\n",
        "  elif i == 'Neutral':\n",
        "    encoded_labels.append(2)\n",
        "    \n",
        "print(encoded_labels)\n",
        "print(len(encoded_labels))\n",
        "\n",
        "transformed_encoded_labels = np.array(encoded_labels)\n",
        "print(transformed_encoded_labels)"
      ],
      "execution_count": 13,
      "outputs": [
        {
          "output_type": "stream",
          "text": [
            "[0, 0, 1, 2, 0, 2, 2, 2, 2, 2, 2, 0, 2, 2, 2, 2, 2, 2, 2, 0, 2, 2, 2, 0, 0, 2, 0, 2, 2, 2, 2, 2, 2, 2, 2, 2, 2, 2, 2, 2, 2, 2, 2, 2, 2, 2, 0, 2, 2, 2, 2, 1, 2, 2, 2, 0, 2, 2, 0, 0, 2, 2, 2, 2, 2, 0, 2, 2, 2, 2, 2, 0, 0, 0, 2, 2, 2, 2, 2, 2, 0, 2, 0, 0, 2, 0, 2, 2, 2, 2, 2, 2, 2, 2, 2, 2, 0, 0, 2, 2, 0, 2, 2, 2, 2, 2, 0, 2, 2, 2, 2, 0, 2, 2, 0, 2, 2, 0, 2, 2, 2, 2, 0, 2, 2, 2, 2, 2, 2, 2, 2, 2, 0, 2, 2, 2, 2, 2, 2, 2, 2, 2, 0, 2, 0, 2, 2, 0, 0, 2, 2, 0, 2, 2, 2, 2, 2, 2, 2, 2, 2, 2, 0, 0, 2, 2, 2, 2, 2, 2, 2, 2, 2, 2, 0, 2, 2, 2, 2, 2, 2, 2, 2, 2, 2, 2, 2, 2, 2, 2, 2, 2, 2, 2, 2, 2, 2, 2, 2, 2, 2, 2, 2, 2, 2, 2, 2, 2, 0, 2, 2, 2, 2, 0, 2, 2, 0, 2, 2, 2, 2, 2, 2, 0, 2, 2, 2, 2, 2, 2, 2, 2, 2, 0, 2, 2, 0, 2, 2, 2, 2, 2, 2, 2, 2, 0, 2, 0, 2, 0, 2, 2, 0, 2, 2, 2, 2, 2, 2, 2, 2, 2, 0, 0, 2, 2, 2, 2, 2, 2, 2, 0, 2, 0, 2, 2, 2, 0, 0, 0, 2, 2, 2, 0, 0, 0, 2, 0, 2, 2, 2, 2, 2, 2, 2, 0, 2, 1, 2, 2, 0, 2, 2, 2, 2, 2, 2, 2, 0, 2, 2, 2, 0, 0, 2, 2, 2, 2, 2, 2, 0, 0, 2, 2, 0, 2, 2, 2, 0, 2, 2, 2, 0, 2, 2, 2, 2, 0, 0, 0, 2, 2, 2, 0, 2, 2, 0, 2, 2, 0, 2, 0, 2, 2, 2, 2, 2, 2, 2, 2, 2, 2, 0, 0, 2, 0, 2, 2, 2, 0, 2, 2, 2, 0, 2, 2, 2, 0, 0, 2, 2, 2, 2, 2, 2, 2, 2, 2, 2, 2, 2, 0, 2, 0, 0, 0, 2, 2, 2, 2, 0, 2, 0, 2, 0, 2, 2, 0, 0, 0, 2, 0, 0, 2, 2, 2, 2, 2, 2, 2, 0, 2, 2, 0, 2, 2, 2, 0, 2, 2, 0, 0, 2, 0, 0, 0, 2, 0, 2, 2, 2, 2, 0, 2, 2, 0, 2, 0, 0, 2, 0, 2, 2, 2, 2, 0, 2, 2, 2, 2, 0, 0, 2, 0, 2, 2, 2, 2, 0, 2, 2, 2, 2, 2, 2, 2, 0, 0, 0, 0, 0, 0, 2, 0, 0, 0, 0, 2, 0, 2, 2, 2, 2, 2, 2, 2, 2, 2, 2, 2, 0, 2, 2, 0, 0, 2, 2, 0, 2, 2, 2, 2, 2, 2, 0, 2, 0, 0, 0, 2, 0, 2, 2, 2, 2, 2, 2, 2, 0, 0, 0, 2, 0, 2, 2, 0, 2, 2, 0, 0, 2, 0, 0, 2, 0, 0, 2, 0, 2, 2, 0, 2, 2, 0, 0, 0, 2, 2, 0, 2, 2, 0, 0, 2, 0, 2, 2, 2, 2, 2, 2, 0, 2, 2, 2, 2, 0, 0, 0, 2, 2, 0, 0, 2, 0, 0, 2, 2, 2, 2, 2, 2, 2, 2, 2, 2, 2, 2, 2, 2, 2, 0, 2, 2, 2, 2, 0, 0, 0, 2, 0, 2, 2, 2, 2, 2, 2, 2, 2, 2, 2, 0, 0, 2, 2, 2, 1, 2, 2, 2, 2, 2, 2, 0, 2, 2, 2, 2, 2, 0, 0, 0, 2, 2, 2, 0, 2, 0, 0, 2, 0, 2, 2, 0, 2, 0, 2, 2, 2, 2, 0, 2, 0, 2, 2, 2, 0, 2, 2, 2, 0, 2, 2, 0, 2, 2, 2, 1, 0, 2, 2, 0, 0, 2, 2, 2, 2, 2, 2, 2, 2, 2, 0, 2, 2, 0, 0, 0, 0, 1, 2, 1, 2, 0, 2, 0, 2, 2, 2, 1, 1, 0, 1, 2, 0, 0, 0, 2, 2, 2, 0, 1, 0, 0, 0, 2, 2, 2, 2, 0, 0, 2, 2, 2, 2, 0, 0, 2, 1, 0, 0, 0, 0, 0, 0, 0, 0, 2, 2, 2, 2, 2, 2, 2, 0, 1, 0, 1, 0, 2, 1, 0, 1, 0, 0, 2, 0, 0, 0, 2, 2, 2, 1, 2, 2, 2, 2, 0, 2, 1, 0, 1, 2, 0, 0, 2, 2, 2, 0, 0, 0, 2, 2, 0, 1, 1, 0, 1, 0, 2, 0, 0, 2, 1, 0, 0, 2, 2, 1, 2, 2, 2, 0, 0, 2, 0, 0, 2, 2, 2, 0, 0, 0, 0, 2, 2, 0, 0, 0, 2, 0, 0, 2, 2, 0, 2, 1, 0, 1, 0, 2, 0, 2, 1, 0, 0, 0, 0, 2, 0, 1, 2, 2, 2, 0, 2, 0, 0, 0, 1, 2, 0, 0, 0, 0, 0, 2, 0, 0, 2, 2, 2, 0, 2, 2, 2, 2, 2, 2, 2, 2, 2, 2, 0, 0, 1, 0, 2, 0, 0, 2, 0, 1, 0, 1, 2, 2, 0, 2, 2, 2, 0, 1, 2, 0, 0, 0, 2, 2, 2, 2, 2, 2, 2, 2, 2, 0, 0, 2, 2, 0, 0, 2, 2, 2, 2, 2, 2, 0, 2, 2, 2, 2, 2, 0, 0, 2, 1, 1, 0, 0, 2, 1, 2, 2, 1, 1, 2, 0, 0, 0, 2, 2, 2, 0, 0, 0, 0, 2, 2, 0, 2, 0, 2, 0, 0, 0, 2, 2, 0, 0, 2, 0, 0, 0, 1, 0, 0, 0, 2, 2, 2, 2, 0, 0, 0, 2, 2, 0, 0, 2, 0, 0, 0, 0, 0, 0, 0, 2, 0, 0, 0, 2, 0, 0, 0, 0, 2, 2, 2, 2, 2, 2, 0, 0, 2, 0, 2, 0, 2, 2, 1, 0, 0, 0, 0, 2, 2, 2, 2, 1, 2, 2, 0, 2, 2, 2, 2, 2, 2, 0, 2, 1, 0, 2, 2, 2, 2, 0, 2, 0, 0, 2, 2, 0, 2, 2, 0, 0, 0, 0, 2, 0, 0, 0, 2, 2, 0, 2, 0, 0, 2, 0, 0, 2, 2, 0, 0, 0, 2, 0, 2, 0, 2, 2, 0, 1, 0, 1, 0, 1, 2, 1, 2, 2, 2, 0, 0, 2, 2, 0, 0, 0, 0, 2, 0, 2, 0, 0, 2, 2, 2, 0, 2, 2, 0, 1, 2, 0, 2, 2, 2, 2, 2, 1, 2, 2, 2, 2, 2, 0, 2, 2, 2, 0, 0, 0, 0, 2, 0, 1, 0, 2, 0, 2, 0, 0, 0, 0, 0, 2, 0, 2, 0, 0, 2, 2, 0, 0, 0, 0, 0, 1, 2, 0, 2, 2, 0, 2, 0, 1, 0, 0, 2, 0, 2, 2, 2, 0, 0, 1, 0, 1, 2, 0, 0, 2, 0, 2, 0, 0, 2, 2, 2, 0, 2, 0, 0, 0, 1, 2, 0, 0, 1, 1, 0, 0, 2, 0, 0, 0, 2, 2, 0, 2, 0, 2, 2, 2, 0, 0, 0, 0, 0, 0, 0, 0, 2, 2, 0, 2, 0, 1, 0, 0, 0, 2, 0, 0, 0, 2, 0, 0, 0, 0, 0, 0, 0, 0, 0, 1, 1, 2, 0, 0, 0, 1, 2, 0, 0, 2, 0, 1, 0, 0, 0, 2, 2, 0, 0, 0, 2, 0, 0, 0, 0, 2, 2, 1, 1, 1, 2, 0, 2, 0, 0, 0, 2, 0, 0, 0, 2, 0, 2, 0, 2, 0, 2, 2, 0, 2, 2, 2, 2, 2, 0, 2, 2, 2, 2, 2, 1, 0, 2, 2, 0, 0, 2, 2, 2, 0, 2, 2, 2, 2, 2, 2, 2, 0, 0, 2, 2, 0, 0, 2, 0, 2, 0, 2, 2, 2, 2, 0, 0, 2, 2, 2, 2, 2, 0, 2, 2, 1, 2, 2, 0, 2, 2, 0, 2, 0, 0, 2, 0, 1, 0, 2, 2, 2, 2, 2, 2, 0, 2, 2, 2, 1, 2, 2, 1, 1, 0, 0, 2, 2, 1, 2, 2, 0, 0, 0, 0, 2, 2, 0, 0, 1, 2, 0, 0, 2, 2, 0, 2, 0, 2, 2, 2, 0, 2, 2, 0, 2, 0, 0, 0, 2, 2, 2, 1, 0, 2, 0, 2, 1, 0, 0, 2, 2, 2, 0, 2, 2, 2, 2, 2, 2, 2, 2, 2, 0, 0, 2, 2, 2, 2, 2, 0, 2, 2, 0, 2, 0, 2, 0, 2, 2, 2, 2, 2, 1, 0, 2, 1, 1, 2, 2, 2, 2, 0, 2, 2, 2, 0, 2, 0, 2, 2, 0, 2, 2, 0, 2, 0, 2, 2, 2, 2, 2, 2, 0, 2, 2, 2, 2, 1, 2, 2, 2, 0, 2, 2, 0, 2, 2, 0, 2, 2, 0, 0, 2, 0, 0, 2, 2, 2, 2, 2, 2, 0, 0, 0, 0, 2, 2, 0, 2, 2, 0, 2, 2, 0, 2, 0, 2, 2, 2, 2, 2, 2, 2, 2, 2, 2, 2, 2, 2, 2, 1, 2, 2, 2, 2, 2, 2, 0, 2, 2, 2, 2, 0, 0, 0, 2, 2, 2, 2, 0, 2, 0, 2, 0, 0, 0, 2, 0, 2, 0, 2, 0, 0, 0, 2, 0, 2, 2, 2, 2, 2, 0, 0, 2, 0, 2, 2, 2, 0, 2, 0, 0, 0, 2, 2, 2, 0, 2, 2, 0, 2, 2, 2, 2, 0, 2, 2, 2, 2, 2, 2, 2, 2, 2, 2, 0, 0, 0, 0, 0, 2, 2, 2, 2, 2, 2, 2, 0, 0, 0, 2, 2]\n",
            "1640\n",
            "[0 0 1 ... 0 2 2]\n"
          ],
          "name": "stdout"
        }
      ]
    },
    {
      "cell_type": "code",
      "metadata": {
        "colab": {
          "base_uri": "https://localhost:8080/"
        },
        "id": "4Q1UaNy8m5ba",
        "outputId": "4443ef76-34d2-4c39-c638-880e14d8c31b"
      },
      "source": [
        "#Convert caegorical labels to tensor\n",
        "labels_split_categorical = to_categorical(encoded_labels)\n",
        "print(labels_split_categorical)\n",
        "\n",
        "# Prepare the labels data\n",
        "def my_func_float(arg):\n",
        "  arg = tf.convert_to_tensor(arg, dtype=tf.float32)\n",
        "  return arg\n",
        "\n",
        "train_labels = my_func_float(labels_split_categorical) \n",
        "print(train_labels)"
      ],
      "execution_count": 14,
      "outputs": [
        {
          "output_type": "stream",
          "text": [
            "[[1. 0. 0.]\n",
            " [1. 0. 0.]\n",
            " [0. 1. 0.]\n",
            " ...\n",
            " [1. 0. 0.]\n",
            " [0. 0. 1.]\n",
            " [0. 0. 1.]]\n",
            "tf.Tensor(\n",
            "[[1. 0. 0.]\n",
            " [1. 0. 0.]\n",
            " [0. 1. 0.]\n",
            " ...\n",
            " [1. 0. 0.]\n",
            " [0. 0. 1.]\n",
            " [0. 0. 1.]], shape=(1640, 3), dtype=float32)\n"
          ],
          "name": "stdout"
        }
      ]
    },
    {
      "cell_type": "code",
      "metadata": {
        "id": "pEBXWXNem8Kp"
      },
      "source": [
        ""
      ],
      "execution_count": null,
      "outputs": []
    },
    {
      "cell_type": "markdown",
      "metadata": {
        "id": "fWfdbPGI7cGR"
      },
      "source": [
        "#Models"
      ]
    },
    {
      "cell_type": "code",
      "metadata": {
        "colab": {
          "base_uri": "https://localhost:8080/"
        },
        "id": "RZuf10rW7ws1",
        "outputId": "9caa9fee-501b-402f-eba5-8d5140e79db1"
      },
      "source": [
        "tfhub_handle_encoder = model\n",
        "tfhub_handle_preprocess = tokenizer\n",
        "\n",
        "print(f'BERT model selected: {tfhub_handle_encoder}')\n",
        "print(f'Preprocess model: {tfhub_handle_preprocess}')\n",
        "\n",
        "bert_preprocess_model = hub.KerasLayer(tfhub_handle_preprocess)\n",
        "bert_model = hub.KerasLayer(tfhub_handle_encoder)"
      ],
      "execution_count": 15,
      "outputs": [
        {
          "output_type": "stream",
          "text": [
            "BERT model selected: <transformers.models.bert.modeling_tf_bert.TFBertModel object at 0x7fb4ee6a5990>\n",
            "Preprocess model: PreTrainedTokenizerFast(name_or_path='nlpaueb/bert-base-greek-uncased-v1', vocab_size=35000, model_max_len=1000000000000000019884624838656, is_fast=True, padding_side='right', special_tokens={'unk_token': '[UNK]', 'sep_token': '[SEP]', 'pad_token': '[PAD]', 'cls_token': '[CLS]', 'mask_token': '[MASK]'})\n"
          ],
          "name": "stdout"
        }
      ]
    },
    {
      "cell_type": "markdown",
      "metadata": {
        "id": "wvoECpV-M4lK"
      },
      "source": [
        "#Test an input to the model"
      ]
    },
    {
      "cell_type": "code",
      "metadata": {
        "colab": {
          "base_uri": "https://localhost:8080/"
        },
        "id": "WRwZfzqT99mv",
        "outputId": "64ff6f95-341a-4233-d96d-c9c4bca8dcc8"
      },
      "source": [
        "text_test = ['αυτή ήταν μια φανταστική ταινία!']\n",
        "text_preprocessed = bert_preprocess_model(text_test)\n",
        "#text_preprocessed = tokenizer.encode(text_test)\n",
        "print(text_preprocessed)\n",
        "print(f'Keys       : {list(text_preprocessed.keys())}')\n",
        "print(f'input_ids      : {text_preprocessed[\"input_ids\"][0]}')\n",
        "print(f'token_type_ids   : {text_preprocessed[\"token_type_ids\"][0][:12]}')\n",
        "print(f'attention_mask   : {text_preprocessed[\"attention_mask\"][0][:12]}')"
      ],
      "execution_count": 16,
      "outputs": [
        {
          "output_type": "stream",
          "text": [
            "{'input_ids': [[101, 393, 384, 369, 12859, 1146, 108, 102]], 'token_type_ids': [[0, 0, 0, 0, 0, 0, 0, 0]], 'attention_mask': [[1, 1, 1, 1, 1, 1, 1, 1]]}\n",
            "Keys       : ['input_ids', 'token_type_ids', 'attention_mask']\n",
            "input_ids      : [101, 393, 384, 369, 12859, 1146, 108, 102]\n",
            "token_type_ids   : [0, 0, 0, 0, 0, 0, 0, 0]\n",
            "attention_mask   : [1, 1, 1, 1, 1, 1, 1, 1]\n"
          ],
          "name": "stdout"
        }
      ]
    },
    {
      "cell_type": "code",
      "metadata": {
        "colab": {
          "base_uri": "https://localhost:8080/"
        },
        "id": "3C1ouBk9-mjt",
        "outputId": "8ca1b5f0-9d52-4354-99ff-cf1bf53aed6b"
      },
      "source": [
        "def my_func(arg):\n",
        "  arg = tf.convert_to_tensor(arg, dtype=tf.int32)\n",
        "  return arg\n",
        "\n",
        "transformed_text = {'input_ids': my_func(text_preprocessed[\"input_ids\"]), 'token_type_ids': my_func(text_preprocessed[\"token_type_ids\"]), 'attention_mask': my_func(text_preprocessed[\"attention_mask\"])}\n",
        "print(transformed_text)"
      ],
      "execution_count": 17,
      "outputs": [
        {
          "output_type": "stream",
          "text": [
            "{'input_ids': <tf.Tensor: shape=(1, 8), dtype=int32, numpy=\n",
            "array([[  101,   393,   384,   369, 12859,  1146,   108,   102]],\n",
            "      dtype=int32)>, 'token_type_ids': <tf.Tensor: shape=(1, 8), dtype=int32, numpy=array([[0, 0, 0, 0, 0, 0, 0, 0]], dtype=int32)>, 'attention_mask': <tf.Tensor: shape=(1, 8), dtype=int32, numpy=array([[1, 1, 1, 1, 1, 1, 1, 1]], dtype=int32)>}\n"
          ],
          "name": "stdout"
        }
      ]
    },
    {
      "cell_type": "code",
      "metadata": {
        "colab": {
          "base_uri": "https://localhost:8080/"
        },
        "id": "muTTlNlr_Bxl",
        "outputId": "d45dd029-f4c2-4823-87f9-db6b95eea24f"
      },
      "source": [
        "bert_results = bert_model(transformed_text)\n",
        "#print(bert_results)\n",
        "\n",
        "print(f'Loaded BERT: {tfhub_handle_encoder}')\n",
        "print(f'Keys       : {list(bert_results.keys())}')\n",
        "print(f'Pooled Output Shape:{bert_results[\"pooler_output\"].shape}')\n",
        "print(f'Pooled Output Values:{bert_results[\"pooler_output\"][0, :12]}')\n",
        "print(f'Sequence Output Shape:{bert_results[\"last_hidden_state\"].shape}')\n",
        "print(f'Sequence Output Values:{bert_results[\"last_hidden_state\"][0, :12]}')"
      ],
      "execution_count": 18,
      "outputs": [
        {
          "output_type": "stream",
          "text": [
            "Loaded BERT: <transformers.models.bert.modeling_tf_bert.TFBertModel object at 0x7fb4ee6a5990>\n",
            "Keys       : ['last_hidden_state', 'pooler_output']\n",
            "Pooled Output Shape:(1, 768)\n",
            "Pooled Output Values:[-0.77568793 -0.48410702  0.10252881  0.62160456 -0.46155134  0.10883301\n",
            "  0.9619409   0.41196477  0.6993004  -0.4222277  -0.21649358 -0.20509084]\n",
            "Sequence Output Shape:(1, 8, 768)\n",
            "Sequence Output Values:[[-0.9588315  -0.2651741   0.121925   ... -0.7479143   0.35750565\n",
            "   1.0346291 ]\n",
            " [-1.3804321   0.20305854 -0.02667902 ...  1.0282236   0.38472193\n",
            "  -2.0579014 ]\n",
            " [-0.98162574  0.25107956  1.1753192  ... -0.28084478  0.37680465\n",
            "  -0.64754295]\n",
            " ...\n",
            " [-1.4601197   0.45342052 -0.01513791 ...  0.80609417 -0.05657327\n",
            "  -1.1681705 ]\n",
            " [-1.0056058  -0.18209718 -0.11410171 ...  0.50295234 -0.15278107\n",
            "   0.19413379]\n",
            " [-0.07957751  0.12755126  1.0447778  ... -0.03906657  0.3833199\n",
            "   0.3138712 ]]\n"
          ],
          "name": "stdout"
        }
      ]
    },
    {
      "cell_type": "markdown",
      "metadata": {
        "id": "gT873yG1_ZqT"
      },
      "source": [
        "Encode text dataset"
      ]
    },
    {
      "cell_type": "code",
      "metadata": {
        "id": "6b0Tbc7a_Cja"
      },
      "source": [
        "# Create 3 inputs for the model\n",
        "def bert_encode(texts, tokenizer, max_len=128):\n",
        "    all_tokens = []\n",
        "    all_masks = []\n",
        "    all_segments = []\n",
        "    \n",
        "    for text in texts:\n",
        "        text_preprocessed = tokenizer(text)\n",
        "        tokenized_text = text_preprocessed[\"input_ids\"]\n",
        "        #print(tokenized_text)\n",
        "        pad_len = max_len - len(tokenized_text)\n",
        "        #print(pad_len)\n",
        "\n",
        "        tokens = text_preprocessed[\"input_ids\"] + [0] * pad_len\n",
        "        pad_masks = [1] * len(tokenized_text) + [0] * pad_len\n",
        "        segment_ids = [0] * max_len\n",
        "\n",
        "\n",
        "        all_tokens.append(tokens)\n",
        "        all_masks.append(pad_masks)\n",
        "        all_segments.append(segment_ids)\n",
        "    \n",
        "    return np.array(all_tokens), np.array(all_masks), np.array(all_segments)"
      ],
      "execution_count": 19,
      "outputs": []
    },
    {
      "cell_type": "code",
      "metadata": {
        "colab": {
          "base_uri": "https://localhost:8080/"
        },
        "id": "P-luFO7TAXJQ",
        "outputId": "e240a907-39ba-417f-cdd3-0aa579ad5a32"
      },
      "source": [
        "# Encode all reviews dataset\n",
        "input_x = bert_encode(text_list, bert_preprocess_model)\n",
        "print(input_x)"
      ],
      "execution_count": 20,
      "outputs": [
        {
          "output_type": "stream",
          "text": [
            "(array([[  101,  1314, 16357, ...,     0,     0,     0],\n",
            "       [  101,   242,   233, ...,     0,     0,     0],\n",
            "       [  101,   149,  2580, ...,     0,     0,     0],\n",
            "       ...,\n",
            "       [  101,   353, 17043, ...,     0,     0,     0],\n",
            "       [  101, 14877,   143, ...,     0,     0,     0],\n",
            "       [  101,   735,  1121, ...,     0,     0,     0]]), array([[1, 1, 1, ..., 0, 0, 0],\n",
            "       [1, 1, 1, ..., 0, 0, 0],\n",
            "       [1, 1, 1, ..., 0, 0, 0],\n",
            "       ...,\n",
            "       [1, 1, 1, ..., 0, 0, 0],\n",
            "       [1, 1, 1, ..., 0, 0, 0],\n",
            "       [1, 1, 1, ..., 0, 0, 0]]), array([[0, 0, 0, ..., 0, 0, 0],\n",
            "       [0, 0, 0, ..., 0, 0, 0],\n",
            "       [0, 0, 0, ..., 0, 0, 0],\n",
            "       ...,\n",
            "       [0, 0, 0, ..., 0, 0, 0],\n",
            "       [0, 0, 0, ..., 0, 0, 0],\n",
            "       [0, 0, 0, ..., 0, 0, 0]]))\n"
          ],
          "name": "stdout"
        }
      ]
    },
    {
      "cell_type": "markdown",
      "metadata": {
        "id": "B9ZFxeWTAsbk"
      },
      "source": [
        "Build the model"
      ]
    },
    {
      "cell_type": "code",
      "metadata": {
        "id": "VZ3MDDsiAbpj"
      },
      "source": [
        "# Here we load again the model as we are going to build it under strategy.scope()\n",
        "def build_model(max_len=128):\n",
        "    input_word_ids = tf.keras.Input(shape=(max_len,), dtype=tf.int32, name=\"input_ids\")\n",
        "    input_mask = tf.keras.Input(shape=(max_len,), dtype=tf.int32, name=\"attention_mask\")\n",
        "    segment_ids = tf.keras.Input(shape=(max_len,), dtype=tf.int32, name=\"token_type_ids\")\n",
        "\n",
        "    bert_results = hub.KerasLayer(TFAutoModel.from_pretrained(\"nlpaueb/bert-base-greek-uncased-v1\"), trainable=True, name='BERT_encoder')([input_word_ids, input_mask, segment_ids])\n",
        "    #output = bert_results[\"last_hidden_state\"][:, 0, :]\n",
        "    output = bert_results[\"pooler_output\"][:,:]\n",
        "    net = tf.keras.layers.Dense(32, activation='relu')(output)\n",
        "    net = tf.keras.layers.Dropout(0.2)(net)\n",
        "    out = tf.keras.layers.Dense(3, activation='softmax')(net)\n",
        "    \n",
        "    model = tf.keras.models.Model(inputs=[input_word_ids, input_mask, segment_ids], outputs=out)\n",
        "    \n",
        "    return model"
      ],
      "execution_count": 22,
      "outputs": []
    },
    {
      "cell_type": "code",
      "metadata": {
        "colab": {
          "base_uri": "https://localhost:8080/"
        },
        "id": "OtZlhmS2AuaO",
        "outputId": "2536c5b0-6d5b-4cdf-fae4-053d8af85d92"
      },
      "source": [
        "#Starting with Tensorflow 2.4, model.compile() accepts a new steps_per_execution parameter. \n",
        "#This parameter instructs Keras to send multiple batches to the TPU at once. \n",
        "#In addition to lowering communications overheads, this gives the XLA compiler the opportunity to optimize TPU hardware utilization across multiple batches. \n",
        "#With this option, it is no longer necessary to push batch sizes to very high values to optimize TPU performance. \n",
        "#As long as you use batch sizes of at least 8 per core (>=64 for a TPUv3-8) performance should be acceptable. \n",
        "\n",
        "# Build and compile the model\n",
        "with strategy.scope(): # creating the model in the TPUStrategy scope places the model on the TPU\n",
        "  model = build_model()\n",
        "  model.compile(tf.keras.optimizers.Adam(lr=1e-5), loss='categorical_crossentropy', metrics=['accuracy'], steps_per_execution=32)\n",
        "  \n",
        "model.summary()\n"
      ],
      "execution_count": 23,
      "outputs": [
        {
          "output_type": "stream",
          "text": [
            "Some layers from the model checkpoint at nlpaueb/bert-base-greek-uncased-v1 were not used when initializing TFBertModel: ['nsp___cls', 'mlm___cls']\n",
            "- This IS expected if you are initializing TFBertModel from the checkpoint of a model trained on another task or with another architecture (e.g. initializing a BertForSequenceClassification model from a BertForPreTraining model).\n",
            "- This IS NOT expected if you are initializing TFBertModel from the checkpoint of a model that you expect to be exactly identical (initializing a BertForSequenceClassification model from a BertForSequenceClassification model).\n",
            "All the layers of TFBertModel were initialized from the model checkpoint at nlpaueb/bert-base-greek-uncased-v1.\n",
            "If your task is similar to the task the model of the checkpoint was trained on, you can already use TFBertModel for predictions without further training.\n"
          ],
          "name": "stderr"
        },
        {
          "output_type": "stream",
          "text": [
            "Model: \"model\"\n",
            "__________________________________________________________________________________________________\n",
            "Layer (type)                    Output Shape         Param #     Connected to                     \n",
            "==================================================================================================\n",
            "input_ids (InputLayer)          [(None, 128)]        0                                            \n",
            "__________________________________________________________________________________________________\n",
            "attention_mask (InputLayer)     [(None, 128)]        0                                            \n",
            "__________________________________________________________________________________________________\n",
            "token_type_ids (InputLayer)     [(None, 128)]        0                                            \n",
            "__________________________________________________________________________________________________\n",
            "BERT_encoder (KerasLayer)       TFBaseModelOutputWit 112921344   input_ids[0][0]                  \n",
            "                                                                 attention_mask[0][0]             \n",
            "                                                                 token_type_ids[0][0]             \n",
            "__________________________________________________________________________________________________\n",
            "tf.__operators__.getitem (Slici (None, 768)          0           BERT_encoder[0][1]               \n",
            "__________________________________________________________________________________________________\n",
            "dense (Dense)                   (None, 32)           24608       tf.__operators__.getitem[0][0]   \n",
            "__________________________________________________________________________________________________\n",
            "dropout_74 (Dropout)            (None, 32)           0           dense[0][0]                      \n",
            "__________________________________________________________________________________________________\n",
            "dense_1 (Dense)                 (None, 3)            99          dropout_74[0][0]                 \n",
            "==================================================================================================\n",
            "Total params: 112,946,051\n",
            "Trainable params: 112,946,051\n",
            "Non-trainable params: 0\n",
            "__________________________________________________________________________________________________\n"
          ],
          "name": "stdout"
        }
      ]
    },
    {
      "cell_type": "code",
      "metadata": {
        "colab": {
          "base_uri": "https://localhost:8080/",
          "height": 564
        },
        "id": "9oBB4mfaOYx7",
        "outputId": "45925b76-1cb0-4855-8250-2d459ad9373e"
      },
      "source": [
        "tf.keras.utils.plot_model(model)"
      ],
      "execution_count": 24,
      "outputs": [
        {
          "output_type": "execute_result",
          "data": {
            "image/png": "[encoded data removed]",
            "text/plain": [
              "<IPython.core.display.Image object>"
            ]
          },
          "metadata": {
            "tags": []
          },
          "execution_count": 24
        }
      ]
    },
    {
      "cell_type": "code",
      "metadata": {
        "id": "5AtMjpm2CQ9p",
        "colab": {
          "base_uri": "https://localhost:8080/"
        },
        "outputId": "6c120cf6-89db-4a5f-c35a-423da395e66f"
      },
      "source": [
        "checkpoint = tf.keras.callbacks.ModelCheckpoint('model.h5', monitor='val_accuracy', save_best_only=True, verbose=1)\n",
        "#earlystopping = tf.keras.callbacks.EarlyStopping(monitor='val_accuracy', patience=5, verbose=1)\n",
        "\n",
        "train_history = model.fit(\n",
        "    input_x, train_labels, \n",
        "    validation_split=0.2,\n",
        "    epochs=5,\n",
        "    #callbacks=[checkpoint],\n",
        "    batch_size=32,\n",
        "    verbose=1)"
      ],
      "execution_count": 26,
      "outputs": [
        {
          "output_type": "stream",
          "text": [
            "Epoch 1/5\n",
            "41/41 [==============================] - 2s 61ms/step - loss: 0.2048 - accuracy: 0.9261 - val_loss: 0.7135 - val_accuracy: 0.7866\n",
            "Epoch 2/5\n",
            "41/41 [==============================] - 2s 58ms/step - loss: 0.1494 - accuracy: 0.9451 - val_loss: 0.9126 - val_accuracy: 0.7622\n",
            "Epoch 3/5\n",
            "41/41 [==============================] - 2s 58ms/step - loss: 0.0989 - accuracy: 0.9627 - val_loss: 0.8632 - val_accuracy: 0.7744\n",
            "Epoch 4/5\n",
            "41/41 [==============================] - 2s 59ms/step - loss: 0.0793 - accuracy: 0.9726 - val_loss: 0.8576 - val_accuracy: 0.7896\n",
            "Epoch 5/5\n",
            "41/41 [==============================] - 2s 57ms/step - loss: 0.0525 - accuracy: 0.9848 - val_loss: 0.7206 - val_accuracy: 0.8140\n"
          ],
          "name": "stdout"
        }
      ]
    },
    {
      "cell_type": "code",
      "metadata": {
        "colab": {
          "base_uri": "https://localhost:8080/"
        },
        "id": "GMWYsk_bGZPV",
        "outputId": "23123c31-d5c3-4b32-b5e5-0daa00ece2c1"
      },
      "source": [
        "# 0 = 'Negative':\n",
        "# 1 = 'Positive':\n",
        "# 2 = 'Neutral':\n",
        "\n",
        "input_test = bert_encode(['Επιχείρηση Βολευτική έδρα!  Βασίλης Οικονόμου:  Από το ΠΑΣΟΚ διαγράφηκε απο το ΓΑΠ επειδη ΔΕΝ ψήφισε το Μνημόνιο...'], bert_preprocess_model)\n",
        "print(input_test)\n",
        "output = model(input_test)\n",
        "print()\n",
        "print(np.array(output[0]))"
      ],
      "execution_count": 27,
      "outputs": [
        {
          "output_type": "stream",
          "text": [
            "(array([[  101,  1314, 16357,   668,  1351,   108,  3113, 12078,   143,\n",
            "          352,   345,  1609,  5294,   956,   352,   345, 18408,   593,\n",
            "          366, 11598,   345,  3818,   121,   121,   121,   102,     0,\n",
            "            0,     0,     0,     0,     0,     0,     0,     0,     0,\n",
            "            0,     0,     0,     0,     0,     0,     0,     0,     0,\n",
            "            0,     0,     0,     0,     0,     0,     0,     0,     0,\n",
            "            0,     0,     0,     0,     0,     0,     0,     0,     0,\n",
            "            0,     0,     0,     0,     0,     0,     0,     0,     0,\n",
            "            0,     0,     0,     0,     0,     0,     0,     0,     0,\n",
            "            0,     0,     0,     0,     0,     0,     0,     0,     0,\n",
            "            0,     0,     0,     0,     0,     0,     0,     0,     0,\n",
            "            0,     0,     0,     0,     0,     0,     0,     0,     0,\n",
            "            0,     0,     0,     0,     0,     0,     0,     0,     0,\n",
            "            0,     0,     0,     0,     0,     0,     0,     0,     0,\n",
            "            0,     0]]), array([[1, 1, 1, 1, 1, 1, 1, 1, 1, 1, 1, 1, 1, 1, 1, 1, 1, 1, 1, 1, 1, 1,\n",
            "        1, 1, 1, 1, 0, 0, 0, 0, 0, 0, 0, 0, 0, 0, 0, 0, 0, 0, 0, 0, 0, 0,\n",
            "        0, 0, 0, 0, 0, 0, 0, 0, 0, 0, 0, 0, 0, 0, 0, 0, 0, 0, 0, 0, 0, 0,\n",
            "        0, 0, 0, 0, 0, 0, 0, 0, 0, 0, 0, 0, 0, 0, 0, 0, 0, 0, 0, 0, 0, 0,\n",
            "        0, 0, 0, 0, 0, 0, 0, 0, 0, 0, 0, 0, 0, 0, 0, 0, 0, 0, 0, 0, 0, 0,\n",
            "        0, 0, 0, 0, 0, 0, 0, 0, 0, 0, 0, 0, 0, 0, 0, 0, 0, 0]]), array([[0, 0, 0, 0, 0, 0, 0, 0, 0, 0, 0, 0, 0, 0, 0, 0, 0, 0, 0, 0, 0, 0,\n",
            "        0, 0, 0, 0, 0, 0, 0, 0, 0, 0, 0, 0, 0, 0, 0, 0, 0, 0, 0, 0, 0, 0,\n",
            "        0, 0, 0, 0, 0, 0, 0, 0, 0, 0, 0, 0, 0, 0, 0, 0, 0, 0, 0, 0, 0, 0,\n",
            "        0, 0, 0, 0, 0, 0, 0, 0, 0, 0, 0, 0, 0, 0, 0, 0, 0, 0, 0, 0, 0, 0,\n",
            "        0, 0, 0, 0, 0, 0, 0, 0, 0, 0, 0, 0, 0, 0, 0, 0, 0, 0, 0, 0, 0, 0,\n",
            "        0, 0, 0, 0, 0, 0, 0, 0, 0, 0, 0, 0, 0, 0, 0, 0, 0, 0]]))\n",
            "\n",
            "[9.9788707e-01 1.4036748e-03 7.0916465e-04]\n"
          ],
          "name": "stdout"
        }
      ]
    },
    {
      "cell_type": "markdown",
      "metadata": {
        "id": "tPP2S6D2UFQ6"
      },
      "source": [
        "Model saving/loading on TPUs\n",
        "When loading and saving models TPU models from/to the local disk, the experimental_io_device option must be used. The technical explanation is at the end of this section. It can be omitted if writing to GCS because TPUs have direct access to GCS. This option does nothing on GPUs."
      ]
    },
    {
      "cell_type": "code",
      "metadata": {
        "id": "Us9LOpr-GCqC",
        "colab": {
          "base_uri": "https://localhost:8080/"
        },
        "outputId": "f290a9f0-d55b-4cc2-a71e-17d73e5d3a87"
      },
      "source": [
        "# Save the model\n",
        "\n",
        "save_locally = tf.saved_model.SaveOptions(experimental_io_device='/job:localhost')\n",
        "model.save('./model', options=save_locally) # saving in Tensorflow's \"SavedModel\" format\n"
      ],
      "execution_count": 28,
      "outputs": [
        {
          "output_type": "stream",
          "text": [
            "WARNING:absl:Found untraced functions such as embeddings_layer_call_fn, embeddings_layer_call_and_return_conditional_losses, encoder_layer_call_fn, encoder_layer_call_and_return_conditional_losses, pooler_layer_call_fn while saving (showing 5 of 1055). These functions will not be directly callable after loading.\n",
            "WARNING:absl:Found untraced functions such as embeddings_layer_call_fn, embeddings_layer_call_and_return_conditional_losses, encoder_layer_call_fn, encoder_layer_call_and_return_conditional_losses, pooler_layer_call_fn while saving (showing 5 of 1055). These functions will not be directly callable after loading.\n"
          ],
          "name": "stderr"
        }
      ]
    },
    {
      "cell_type": "code",
      "metadata": {
        "id": "m4hxncQ2Lpps"
      },
      "source": [
        "# Load the model\n",
        "\n",
        "with strategy.scope():\n",
        "    load_locally = tf.saved_model.LoadOptions(experimental_io_device='/job:localhost')\n",
        "    model = tf.keras.models.load_model('./model', options=load_locally) # loading in Tensorflow's \"SavedModel\" format\n"
      ],
      "execution_count": 31,
      "outputs": []
    },
    {
      "cell_type": "code",
      "metadata": {
        "id": "T7mIZEjuGfJS",
        "colab": {
          "base_uri": "https://localhost:8080/"
        },
        "outputId": "fe900d04-cf46-42f9-d03d-aa44b0e4ef6d"
      },
      "source": [
        "model.summary()"
      ],
      "execution_count": 32,
      "outputs": [
        {
          "output_type": "stream",
          "text": [
            "Model: \"model\"\n",
            "__________________________________________________________________________________________________\n",
            "Layer (type)                    Output Shape         Param #     Connected to                     \n",
            "==================================================================================================\n",
            "input_ids (InputLayer)          [(None, 128)]        0                                            \n",
            "__________________________________________________________________________________________________\n",
            "attention_mask (InputLayer)     [(None, 128)]        0                                            \n",
            "__________________________________________________________________________________________________\n",
            "token_type_ids (InputLayer)     [(None, 128)]        0                                            \n",
            "__________________________________________________________________________________________________\n",
            "BERT_encoder (KerasLayer)       {'pooler_output': (N 112921344   input_ids[0][0]                  \n",
            "                                                                 attention_mask[0][0]             \n",
            "                                                                 token_type_ids[0][0]             \n",
            "__________________________________________________________________________________________________\n",
            "tf.__operators__.getitem (Slici (None, 768)          0           BERT_encoder[0][1]               \n",
            "__________________________________________________________________________________________________\n",
            "dense (Dense)                   (None, 32)           24608       tf.__operators__.getitem[0][0]   \n",
            "__________________________________________________________________________________________________\n",
            "dropout_74 (Dropout)            (None, 32)           0           dense[0][0]                      \n",
            "__________________________________________________________________________________________________\n",
            "dense_1 (Dense)                 (None, 3)            99          dropout_74[0][0]                 \n",
            "==================================================================================================\n",
            "Total params: 112,946,051\n",
            "Trainable params: 112,946,051\n",
            "Non-trainable params: 0\n",
            "__________________________________________________________________________________________________\n"
          ],
          "name": "stdout"
        }
      ]
    },
    {
      "cell_type": "code",
      "metadata": {
        "id": "iZ6fca5hTzg_"
      },
      "source": [
        ""
      ],
      "execution_count": null,
      "outputs": []
    }
  ]
}